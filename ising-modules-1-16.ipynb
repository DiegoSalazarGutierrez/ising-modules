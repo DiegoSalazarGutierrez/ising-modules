{
 "cells": [
  {
   "cell_type": "code",
   "execution_count": 2,
   "id": "5f04dec6-a5a1-4cf3-8ea1-b7019bf66758",
   "metadata": {},
   "outputs": [],
   "source": [
    "Vir = lie_algebras.VirasoroAlgebra(QQ)\n",
    "M = Vir.verma_module(1/2, 1/16)\n",
    "d = Vir.basis()\n",
    "v = M.highest_weight_vector()\n",
    "m2 = (3*d[-2] - 4*d[-1]*d[-1])*v\n",
    "m4 = (49*d[-2]*d[-2]  - 600*d[-2]*d[-1]*d[-1] + 144*d[-1]*d[-1]*d[-1]*d[-1]\n",
    "      + 264*d[-3]*d[-1] - 36*d[-4])*v\n",
    "\n",
    "def L_partition_vector(partition, vector):\n",
    "    for i in range(len(partition)):\n",
    "        vector = d[-partition[len(partition) - i - 1]]*vector\n",
    "    return vector\n",
    "\n",
    "def my_coefficient(partition, vector):\n",
    "    return vector.monomial_coefficients().get(tuple(-k for k in partition), 0)\n",
    "\n",
    "def number_of_ones(partition):\n",
    "    for i in range(len(partition)):\n",
    "        if partition[len(partition) - i - 1] != 1:\n",
    "            return i\n",
    "    return len(partition)\n",
    "\n",
    "def my_len(partition):\n",
    "    return 2*len(partition) - number_of_ones(partition)\n",
    "\n",
    "def to_polynomial(partition):\n",
    "    polynomial = [0]*(sum(partition) - 1)\n",
    "    for i in range(len(partition) - number_of_ones(partition)):\n",
    "        polynomial[partition[i] - 2] += 1\n",
    "    return polynomial\n",
    "\n",
    "def to_vector(row, n):\n",
    "    list_of_partition = ordered_partitions(n)\n",
    "    return sum(row[i]*L_partition_vector(list_of_partition[i], v) for i in range(len(row)))\n",
    "\n",
    "def my_order(partition):\n",
    "    polynomial = to_polynomial(partition)\n",
    "    polynomial = [-k for k in polynomial]\n",
    "    polynomial.reverse()\n",
    "    return ((my_len(partition), len(partition) - number_of_ones(partition), polynomial))\n",
    "\n",
    "def ordered_partitions(n):\n",
    "    if n <= 0:\n",
    "        return [[]]\n",
    "    list_of_partition = list(Partitions(n))\n",
    "    list_of_partition.sort(key = my_order, reverse = True)\n",
    "    return list_of_partition\n",
    "\n",
    "def matrix_UVir_m2_m4(n):\n",
    "    list_of_partition = ordered_partitions(n)\n",
    "    list_of_partition2 = ordered_partitions(n - 2)\n",
    "    list_of_partition3 = ordered_partitions(n - 4)\n",
    "    matrix_m2 = matrix({\n",
    "        (i, j): my_coefficient(list_of_partition[j], L_partition_vector(list_of_partition2[i], m2))\n",
    "        for j in range(len(list_of_partition))\n",
    "        for i in range(len(list_of_partition2))}, sparse = False)\n",
    "    matrix_m4 = matrix({\n",
    "        (i, j): my_coefficient(list_of_partition[j], L_partition_vector(list_of_partition3[i], m4))\n",
    "        for j in range(len(list_of_partition))\n",
    "        for i in range(len(list_of_partition3))}, sparse = False)\n",
    "    matrix_m2 = matrix_m2.stack(matrix_m4)\n",
    "    matrix_m2 = matrix_m2.rref()\n",
    "    return matrix_m2\n",
    "\n",
    "def mW_partition(partition):\n",
    "    n = sum(partition)\n",
    "    k = ordered_partitions(n).index(partition)\n",
    "    A_n = matrix_UVir_m2_m4(n)\n",
    "    pivots = A_n.pivots()\n",
    "    try:\n",
    "        return to_vector(A_n.row(pivots.index(k)), n)\n",
    "    except ValueError:\n",
    "        return 0\n",
    "\n",
    "def mW_list_of_partition(list_of_partition):\n",
    "    return [mW_partition(partition) for partition in list_of_partition]"
   ]
  },
  {
   "cell_type": "code",
   "execution_count": 3,
   "id": "7f7c12ec-dbab-47cf-8269-22d066910fcc",
   "metadata": {},
   "outputs": [
    {
     "name": "stdout",
     "output_type": "stream",
     "text": [
      "CPU times: user 3.8 s, sys: 12.1 ms, total: 3.82 s\n",
      "Wall time: 3.82 s\n"
     ]
    },
    {
     "data": {
      "text/plain": [
       "[d[-2]*v - 4/3*d[-1]*d[-1]*v,\n",
       " -465/256*d[-4]*v - 75/32*d[-3]*d[-1]*v + d[-1]*d[-1]*d[-1]*d[-1]*v,\n",
       " -183/512*d[-6]*v - 111/64*d[-5]*d[-1]*v - 1/8*d[-4]*d[-1]*d[-1]*v - 75/128*d[-3]*d[-3]*v + d[-3]*d[-1]*d[-1]*d[-1]*v,\n",
       " -13/20*d[-7]*v - 83/20*d[-6]*d[-1]*v - 6/5*d[-5]*d[-1]*d[-1]*v - 3/10*d[-4]*d[-3]*v + 16/15*d[-4]*d[-1]*d[-1]*d[-1]*v + d[-3]*d[-3]*d[-1]*v,\n",
       " -51/128*d[-8]*v - 37/16*d[-7]*d[-1]*v - d[-6]*d[-1]*d[-1]*v + 3/16*d[-5]*d[-3]*v + 1/8*d[-4]*d[-4]*v + d[-4]*d[-3]*d[-1]*v,\n",
       " -4203/1024*d[-10]*v - 2895/128*d[-9]*d[-1]*v - 41/3*d[-8]*d[-1]*d[-1]*v + 285/128*d[-7]*d[-3]*v - 4*d[-7]*d[-1]*d[-1]*d[-1]*v + 75/64*d[-6]*d[-4]*v + 21/8*d[-6]*d[-3]*d[-1]*v + 193/256*d[-5]*d[-5]*v + 6*d[-5]*d[-4]*d[-1]*v + 4/3*d[-5]*d[-3]*d[-1]*d[-1]*v + d[-4]*d[-4]*d[-1]*d[-1]*v]"
      ]
     },
     "execution_count": 3,
     "metadata": {},
     "output_type": "execute_result"
    }
   ],
   "source": [
    "list_of_partition = [[2], [1, 1, 1, 1], [3, 1, 1, 1], [3, 3, 1], [4, 3, 1], [4, 4, 1, 1],\n",
    "                     [5, 4, 1, 1, 1], [5, 5, 1, 1, 1], [6, 5, 3, 1, 1], [6, 6, 3, 1, 1],\n",
    "                     [7, 6, 4, 1, 1, 1], [8, 7, 5, 3, 1, 1]]\n",
    "%time mW_list_of_partition(list_of_partition[:-6])"
   ]
  },
  {
   "cell_type": "code",
   "execution_count": 4,
   "id": "de044ba4-ad99-46b9-b2b3-d771de762ffd",
   "metadata": {},
   "outputs": [
    {
     "name": "stdout",
     "output_type": "stream",
     "text": [
      "CPU times: user 20 s, sys: 10.7 ms, total: 20.1 s\n",
      "Wall time: 20.1 s\n"
     ]
    },
    {
     "data": {
      "text/plain": [
       "[d[-2]*v - 4/3*d[-1]*d[-1]*v,\n",
       " -465/256*d[-4]*v - 75/32*d[-3]*d[-1]*v + d[-1]*d[-1]*d[-1]*d[-1]*v,\n",
       " -183/512*d[-6]*v - 111/64*d[-5]*d[-1]*v - 1/8*d[-4]*d[-1]*d[-1]*v - 75/128*d[-3]*d[-3]*v + d[-3]*d[-1]*d[-1]*d[-1]*v,\n",
       " -13/20*d[-7]*v - 83/20*d[-6]*d[-1]*v - 6/5*d[-5]*d[-1]*d[-1]*v - 3/10*d[-4]*d[-3]*v + 16/15*d[-4]*d[-1]*d[-1]*d[-1]*v + d[-3]*d[-3]*d[-1]*v,\n",
       " -51/128*d[-8]*v - 37/16*d[-7]*d[-1]*v - d[-6]*d[-1]*d[-1]*v + 3/16*d[-5]*d[-3]*v + 1/8*d[-4]*d[-4]*v + d[-4]*d[-3]*d[-1]*v,\n",
       " -4203/1024*d[-10]*v - 2895/128*d[-9]*d[-1]*v - 41/3*d[-8]*d[-1]*d[-1]*v + 285/128*d[-7]*d[-3]*v - 4*d[-7]*d[-1]*d[-1]*d[-1]*v + 75/64*d[-6]*d[-4]*v + 21/8*d[-6]*d[-3]*d[-1]*v + 193/256*d[-5]*d[-5]*v + 6*d[-5]*d[-4]*d[-1]*v + 4/3*d[-5]*d[-3]*d[-1]*d[-1]*v + d[-4]*d[-4]*d[-1]*d[-1]*v,\n",
       " -291801/16384*d[-12]*v - 189243/2048*d[-11]*d[-1]*v - 16189/256*d[-10]*d[-1]*d[-1]*v + 17253/2048*d[-9]*d[-3]*v - 767/32*d[-9]*d[-1]*d[-1]*d[-1]*v - 567/1024*d[-8]*d[-4]*v - 27/8*d[-8]*d[-3]*d[-1]*v + 7437/2048*d[-7]*d[-5]*v + 351/32*d[-7]*d[-4]*d[-1]*v + 67/32*d[-7]*d[-3]*d[-1]*d[-1]*v + 1215/512*d[-6]*d[-6]*v + 2295/128*d[-6]*d[-5]*d[-1]*v + 13/2*d[-6]*d[-4]*d[-1]*d[-1]*v + 81/256*d[-6]*d[-3]*d[-3]*v + 779/192*d[-5]*d[-5]*d[-1]*d[-1]*v + d[-5]*d[-4]*d[-1]*d[-1]*d[-1]*v]"
      ]
     },
     "execution_count": 4,
     "metadata": {},
     "output_type": "execute_result"
    }
   ],
   "source": [
    "%time mW_list_of_partition(list_of_partition[:-5])"
   ]
  },
  {
   "cell_type": "code",
   "execution_count": 5,
   "id": "41e1134f-ef2d-4d86-8fcb-0de28fc53514",
   "metadata": {},
   "outputs": [
    {
     "name": "stdout",
     "output_type": "stream",
     "text": [
      "CPU times: user 54.5 s, sys: 551 µs, total: 54.5 s\n",
      "Wall time: 54.5 s\n"
     ]
    },
    {
     "data": {
      "text/plain": [
       "[d[-2]*v - 4/3*d[-1]*d[-1]*v,\n",
       " -465/256*d[-4]*v - 75/32*d[-3]*d[-1]*v + d[-1]*d[-1]*d[-1]*d[-1]*v,\n",
       " -183/512*d[-6]*v - 111/64*d[-5]*d[-1]*v - 1/8*d[-4]*d[-1]*d[-1]*v - 75/128*d[-3]*d[-3]*v + d[-3]*d[-1]*d[-1]*d[-1]*v,\n",
       " -13/20*d[-7]*v - 83/20*d[-6]*d[-1]*v - 6/5*d[-5]*d[-1]*d[-1]*v - 3/10*d[-4]*d[-3]*v + 16/15*d[-4]*d[-1]*d[-1]*d[-1]*v + d[-3]*d[-3]*d[-1]*v,\n",
       " -51/128*d[-8]*v - 37/16*d[-7]*d[-1]*v - d[-6]*d[-1]*d[-1]*v + 3/16*d[-5]*d[-3]*v + 1/8*d[-4]*d[-4]*v + d[-4]*d[-3]*d[-1]*v,\n",
       " -4203/1024*d[-10]*v - 2895/128*d[-9]*d[-1]*v - 41/3*d[-8]*d[-1]*d[-1]*v + 285/128*d[-7]*d[-3]*v - 4*d[-7]*d[-1]*d[-1]*d[-1]*v + 75/64*d[-6]*d[-4]*v + 21/8*d[-6]*d[-3]*d[-1]*v + 193/256*d[-5]*d[-5]*v + 6*d[-5]*d[-4]*d[-1]*v + 4/3*d[-5]*d[-3]*d[-1]*d[-1]*v + d[-4]*d[-4]*d[-1]*d[-1]*v,\n",
       " -291801/16384*d[-12]*v - 189243/2048*d[-11]*d[-1]*v - 16189/256*d[-10]*d[-1]*d[-1]*v + 17253/2048*d[-9]*d[-3]*v - 767/32*d[-9]*d[-1]*d[-1]*d[-1]*v - 567/1024*d[-8]*d[-4]*v - 27/8*d[-8]*d[-3]*d[-1]*v + 7437/2048*d[-7]*d[-5]*v + 351/32*d[-7]*d[-4]*d[-1]*v + 67/32*d[-7]*d[-3]*d[-1]*d[-1]*v + 1215/512*d[-6]*d[-6]*v + 2295/128*d[-6]*d[-5]*d[-1]*v + 13/2*d[-6]*d[-4]*d[-1]*d[-1]*v + 81/256*d[-6]*d[-3]*d[-3]*v + 779/192*d[-5]*d[-5]*d[-1]*d[-1]*v + d[-5]*d[-4]*d[-1]*d[-1]*d[-1]*v,\n",
       " -1275417/44800*d[-13]*v - 198333/1280*d[-12]*d[-1]*v - 16991/160*d[-11]*d[-1]*d[-1]*v + 15849/1120*d[-10]*d[-3]*v - 6207/140*d[-10]*d[-1]*d[-1]*d[-1]*v - 17973/4480*d[-9]*d[-4]*v - 15111/1120*d[-9]*d[-3]*d[-1]*v + 1809/448*d[-8]*d[-5]*v + 6003/560*d[-8]*d[-4]*d[-1]*v + 18/35*d[-8]*d[-3]*d[-1]*d[-1]*v + 287163/44800*d[-7]*d[-6]*v + 1899/80*d[-7]*d[-5]*d[-1]*v + 1137/140*d[-7]*d[-4]*d[-1]*d[-1]*v + 135/448*d[-7]*d[-3]*d[-3]*v + 37323/2800*d[-6]*d[-6]*d[-1]*v + 317/25*d[-6]*d[-5]*d[-1]*d[-1]*v + 333/1400*d[-6]*d[-4]*d[-3]*v + 36/25*d[-6]*d[-4]*d[-1]*d[-1]*d[-1]*v + d[-5]*d[-5]*d[-1]*d[-1]*d[-1]*v]"
      ]
     },
     "execution_count": 5,
     "metadata": {},
     "output_type": "execute_result"
    }
   ],
   "source": [
    "%time mW_list_of_partition(list_of_partition[:-4])"
   ]
  },
  {
   "cell_type": "code",
   "execution_count": 6,
   "id": "02908efe-fcf1-4ee0-bf1d-95cf6b275b39",
   "metadata": {},
   "outputs": [
    {
     "name": "stdout",
     "output_type": "stream",
     "text": [
      "CPU times: user 5min 58s, sys: 59.9 ms, total: 5min 58s\n",
      "Wall time: 5min 58s\n"
     ]
    },
    {
     "data": {
      "text/plain": [
       "[d[-2]*v - 4/3*d[-1]*d[-1]*v,\n",
       " -465/256*d[-4]*v - 75/32*d[-3]*d[-1]*v + d[-1]*d[-1]*d[-1]*d[-1]*v,\n",
       " -183/512*d[-6]*v - 111/64*d[-5]*d[-1]*v - 1/8*d[-4]*d[-1]*d[-1]*v - 75/128*d[-3]*d[-3]*v + d[-3]*d[-1]*d[-1]*d[-1]*v,\n",
       " -13/20*d[-7]*v - 83/20*d[-6]*d[-1]*v - 6/5*d[-5]*d[-1]*d[-1]*v - 3/10*d[-4]*d[-3]*v + 16/15*d[-4]*d[-1]*d[-1]*d[-1]*v + d[-3]*d[-3]*d[-1]*v,\n",
       " -51/128*d[-8]*v - 37/16*d[-7]*d[-1]*v - d[-6]*d[-1]*d[-1]*v + 3/16*d[-5]*d[-3]*v + 1/8*d[-4]*d[-4]*v + d[-4]*d[-3]*d[-1]*v,\n",
       " -4203/1024*d[-10]*v - 2895/128*d[-9]*d[-1]*v - 41/3*d[-8]*d[-1]*d[-1]*v + 285/128*d[-7]*d[-3]*v - 4*d[-7]*d[-1]*d[-1]*d[-1]*v + 75/64*d[-6]*d[-4]*v + 21/8*d[-6]*d[-3]*d[-1]*v + 193/256*d[-5]*d[-5]*v + 6*d[-5]*d[-4]*d[-1]*v + 4/3*d[-5]*d[-3]*d[-1]*d[-1]*v + d[-4]*d[-4]*d[-1]*d[-1]*v,\n",
       " -291801/16384*d[-12]*v - 189243/2048*d[-11]*d[-1]*v - 16189/256*d[-10]*d[-1]*d[-1]*v + 17253/2048*d[-9]*d[-3]*v - 767/32*d[-9]*d[-1]*d[-1]*d[-1]*v - 567/1024*d[-8]*d[-4]*v - 27/8*d[-8]*d[-3]*d[-1]*v + 7437/2048*d[-7]*d[-5]*v + 351/32*d[-7]*d[-4]*d[-1]*v + 67/32*d[-7]*d[-3]*d[-1]*d[-1]*v + 1215/512*d[-6]*d[-6]*v + 2295/128*d[-6]*d[-5]*d[-1]*v + 13/2*d[-6]*d[-4]*d[-1]*d[-1]*v + 81/256*d[-6]*d[-3]*d[-3]*v + 779/192*d[-5]*d[-5]*d[-1]*d[-1]*v + d[-5]*d[-4]*d[-1]*d[-1]*d[-1]*v,\n",
       " -1275417/44800*d[-13]*v - 198333/1280*d[-12]*d[-1]*v - 16991/160*d[-11]*d[-1]*d[-1]*v + 15849/1120*d[-10]*d[-3]*v - 6207/140*d[-10]*d[-1]*d[-1]*d[-1]*v - 17973/4480*d[-9]*d[-4]*v - 15111/1120*d[-9]*d[-3]*d[-1]*v + 1809/448*d[-8]*d[-5]*v + 6003/560*d[-8]*d[-4]*d[-1]*v + 18/35*d[-8]*d[-3]*d[-1]*d[-1]*v + 287163/44800*d[-7]*d[-6]*v + 1899/80*d[-7]*d[-5]*d[-1]*v + 1137/140*d[-7]*d[-4]*d[-1]*d[-1]*v + 135/448*d[-7]*d[-3]*d[-3]*v + 37323/2800*d[-6]*d[-6]*d[-1]*v + 317/25*d[-6]*d[-5]*d[-1]*d[-1]*v + 333/1400*d[-6]*d[-4]*d[-3]*v + 36/25*d[-6]*d[-4]*d[-1]*d[-1]*d[-1]*v + d[-5]*d[-5]*d[-1]*d[-1]*d[-1]*v,\n",
       " -28534527/327680*d[-16]*v - 4516605/8192*d[-15]*d[-1]*v - 59913/160*d[-14]*d[-1]*d[-1]*v + 6519303/40960*d[-13]*d[-3]*v - 83463/320*d[-13]*d[-1]*d[-1]*d[-1]*v - 75879/5120*d[-12]*d[-4]*v - 322911/2560*d[-12]*d[-3]*d[-1]*v + 5271/40960*d[-11]*d[-5]*v - 87597/2560*d[-11]*d[-4]*d[-1]*v - 3031/320*d[-11]*d[-3]*d[-1]*d[-1]*v + 2691/512*d[-10]*d[-6]*v + 19431/1280*d[-10]*d[-5]*d[-1]*v + 87/16*d[-10]*d[-4]*d[-1]*d[-1]*v + 693/512*d[-10]*d[-3]*d[-3]*v + 2247003/204800*d[-9]*d[-7]*v + 153927/3200*d[-9]*d[-6]*d[-1]*v + 29113/1600*d[-9]*d[-5]*d[-1]*d[-1]*v - 54729/12800*d[-9]*d[-4]*d[-3]*v + 357/50*d[-9]*d[-4]*d[-1]*d[-1]*d[-1]*v + 34743/5120*d[-8]*d[-8]*v + 198477/2560*d[-8]*d[-7]*d[-1]*v + 619/20*d[-8]*d[-6]*d[-1]*d[-1]*v - 26259/2560*d[-8]*d[-5]*d[-3]*v + 27/2*d[-8]*d[-5]*d[-1]*d[-1]*d[-1]*v - 513/1280*d[-8]*d[-4]*d[-4]*v + 12639/640*d[-7]*d[-7]*d[-1]*d[-1]*v - 8703/640*d[-7]*d[-6]*d[-3]*v + 93/5*d[-7]*d[-6]*d[-1]*d[-1]*d[-1]*v - 441/512*d[-7]*d[-5]*d[-4]*v + 117/32*d[-7]*d[-5]*d[-3]*d[-1]*v - 6/5*d[-7]*d[-4]*d[-4]*d[-1]*v + 261/80*d[-6]*d[-6]*d[-3]*d[-1]*v + d[-6]*d[-5]*d[-3]*d[-1]*d[-1]*v]"
      ]
     },
     "execution_count": 6,
     "metadata": {},
     "output_type": "execute_result"
    }
   ],
   "source": [
    "%time mW_list_of_partition(list_of_partition[:-3])"
   ]
  }
 ],
 "metadata": {
  "kernelspec": {
   "display_name": "SageMath 9.5",
   "language": "sage",
   "name": "sagemath"
  },
  "language_info": {
   "codemirror_mode": {
    "name": "ipython",
    "version": 3
   },
   "file_extension": ".py",
   "mimetype": "text/x-python",
   "name": "python",
   "nbconvert_exporter": "python",
   "pygments_lexer": "ipython3",
   "version": "3.10.6"
  }
 },
 "nbformat": 4,
 "nbformat_minor": 5
}
