{
 "cells": [
  {
   "cell_type": "code",
   "execution_count": 43,
   "id": "18ad0d5f-2a18-44b7-b180-16440d20c516",
   "metadata": {},
   "outputs": [],
   "source": [
    "def vector_sum(u, v):\n",
    "    return dict((x, u.get(x, 0) + v.get(x, 0)) for x in set(u)|set(v))\n",
    "\n",
    "def scalar_times_vector(m, u):\n",
    "    return {x: m*y for x, y in u.items()}\n",
    "\n",
    "def add_constant_to_entry(a, i, k):\n",
    "    return tuple(a[j] + k*kronecker_delta(i, j) for j in range(len(a)))\n",
    "\n",
    "def element_times_vector(m, u):\n",
    "    return {(m,) + x: y for x, y in u.items()}\n",
    "\n",
    "def drop_first_entry(u):\n",
    "    return tuple(u[i] for i in range(1, len(u)))\n",
    "\n",
    "def Partitions1(n):\n",
    "    if n < 0:\n",
    "        return [[]]\n",
    "    a=list(Partitions(n))\n",
    "    a.reverse() #al parecer, esto mejora performance en un 12% masomenos, talvez otros ordenes son mejores aun\n",
    "    return a\n",
    "\n",
    "def stbasis1(n):\n",
    "    basis = []\n",
    "    for i in range(1,n,2):\n",
    "        basis = basis + [Partitions(n-i)]\n",
    "    \n",
    "def vector_simplify(u):\n",
    "    v = {}\n",
    "    for a in set(u):\n",
    "        v = vector_sum(v, {tuple(sorted(a, reverse = True)): sgn(a)*(-1)^((len(a)*(len(a) - 1))/2)*u[a]})\n",
    "    return {x: y for x, y in v.items() if y!=0}\n",
    "\n",
    "def translation(u):\n",
    "    v = {}\n",
    "    for a in set (u):\n",
    "        w = {}\n",
    "        for i in range (len(a)):\n",
    "            w = vector_sum(w, {add_constant_to_entry(a, i, 1): a[i] + 1})\n",
    "        w = scalar_times_vector(u[a], w)\n",
    "        v = vector_sum(v, w)\n",
    "    return vector_simplify(v)\n",
    "\n",
    "def sgn (a):\n",
    "    n = 0\n",
    "    for i in range(len(a)):\n",
    "        for j in range(i + 1, len(a)):\n",
    "            if a[i] == a[j]:\n",
    "                return 0\n",
    "            else:\n",
    "                if a[i] > a[j]:\n",
    "                    n += 1\n",
    "    if n % 2 == 0:\n",
    "        return 1\n",
    "    else:\n",
    "        return -1\n",
    "\n",
    "def virasoro(m, u):\n",
    "    if m == 1:\n",
    "        return translation(u)\n",
    "    else:\n",
    "        v = {}\n",
    "        for a in set(u):\n",
    "            if a == ():\n",
    "                if m == 2:\n",
    "                    v = vector_sum(v, {(1, 0): 1/2*u[()]})\n",
    "                else:\n",
    "                    v = vector_sum(v, scalar_times_vector(1/(m - 2), translation(virasoro(m - 1, {(): 1}))))                 \n",
    "            else:\n",
    "                b = vector_sum({add_constant_to_entry(a, 0, m): (m + 1)/2 + a[0]}, element_times_vector(a[0], virasoro(m, {drop_first_entry(a): 1})))\n",
    "                v = vector_sum(v, scalar_times_vector(u[a], b))\n",
    "        return vector_simplify(v)\n",
    "    \n",
    "def several_virasoro(a, u):\n",
    "    v = u\n",
    "    for i in range(len(a)):\n",
    "        v = virasoro(a[len(a) - i - 1], v)\n",
    "    return v\n",
    "\n",
    "def is_zero_list(a):\n",
    "    for i in range(len(a)):\n",
    "        if a[i] != 0:\n",
    "            return False\n",
    "    return True\n",
    "\n",
    "def matrix_has_solution(A):\n",
    "    A = A.echelon_form()\n",
    "    for i in range(A.nrows()):\n",
    "        if A[A.nrows() - 1 - i, A.ncols() - 1] != 0:\n",
    "            if is_zero_list(A.rows()[A.nrows() - 1 - i][0: A.ncols() - 1]):\n",
    "                return False\n",
    "            else:\n",
    "                return True\n",
    "    return True\n",
    "\n",
    "def insert_row(A, k, a):\n",
    "    return matrix(A.rows()[:k] + [a] + A.rows()[k:])\n",
    "\n",
    "def insert_column(A, a):\n",
    "    return (insert_row(A.transpose(), A.ncols(), a)).transpose()\n",
    "\n",
    "def vector_in_span2(u, S):\n",
    "    index = tuple(set(u))\n",
    "    A = matrix({(i, j): S[j][index[i]] for j in range(len(S)) for i in range(len(index))}, sparse = False)\n",
    "    A = insert_column(A, [u[index[i]] for i in range(len(index))])\n",
    "    return matrix_has_solution(A)\n",
    "\n",
    "def vector_in_span(u, S2):\n",
    "    S = copy(S2)\n",
    "    index = tuple(set(u))\n",
    "    for i in range(len(S)):\n",
    "        index = tuple(set(u).union(set(S[i]))) #AQUI RADICABA EL PROBLEMA, ESTO NO ES TODA LA BASE\n",
    "    u = dict((x, u.get(x, 0)) for x in set(index))\n",
    "    for i in range(len(S)):\n",
    "        S[i] = dict((x, S[i].get(x, 0)) for x in set(index))\n",
    "    return vector_in_span2(u, S)\n",
    "\n",
    "def basis0(n):\n",
    "    for i in range(1, n):\n",
    "        S = []\n",
    "        P = []\n",
    "        for p in Partitions1(i):\n",
    "            v = several_virasoro(p, {(): 1})\n",
    "            if not vector_in_span(v, S):\n",
    "                S = S + [v]\n",
    "                P = P + [p]\n",
    "        print([i, P, len(P)])\n",
    "        \n",
    "def basis1(n):\n",
    "    for i in range(1, n):\n",
    "        S = []\n",
    "        P = []\n",
    "        for p in Partitions1(i):\n",
    "            v = several_virasoro(p, {(0,): 1})\n",
    "            if not vector_in_span(v, S):\n",
    "                S = S + [v]\n",
    "                P = P + [p]\n",
    "        print([i, P, len(P)])\n",
    "\n",
    "def multiplicity(a, p):\n",
    "    n = 0\n",
    "    for i in range(len(p)):\n",
    "        if p[i] == a:\n",
    "            n += 1\n",
    "    return n\n",
    "\n",
    "def contains(p, q):\n",
    "    for a in set(q):\n",
    "        if multiplicity(a, q) > multiplicity(a, p):\n",
    "            return False\n",
    "    return True\n",
    "\n",
    "def simplify_partitions(P):\n",
    "    Q = []\n",
    "    for i in range(len(P)):\n",
    "        if all([not contains(P[i], Q[j]) for j in range(len(Q))]):\n",
    "            Q = Q + [P[i]]\n",
    "    return Q\n",
    "\n",
    "def missing_partitions0(n):\n",
    "    P = []\n",
    "    Q = []\n",
    "    for i in range(1, n):\n",
    "        S = []\n",
    "        for p in list(Partitions(i)):\n",
    "            v = several_virasoro(p, {(): 1})\n",
    "            if not vector_in_span(v, S):\n",
    "                S = S + [v]\n",
    "                P = P + [list(p)]\n",
    "    for i in range(1, n):\n",
    "        for p in list(Partitions(i)):\n",
    "            Q = Q + [list(p)]\n",
    "    R = [p for p in Q if p not in P]\n",
    "    print(simplify_partitions(R))\n",
    "    \n",
    "def missing_partitions1(n):\n",
    "    P = []\n",
    "    Q = []\n",
    "    for i in range(1, n):\n",
    "        S = []\n",
    "        for p in list(Partitions(i)):\n",
    "            v = several_virasoro(p, {(0,): 1})\n",
    "            if not vector_in_span(v, S):\n",
    "                S = S + [v]\n",
    "                P = P + [list(p)]\n",
    "    for i in range(1, n):\n",
    "        for p in list(Partitions(i)):\n",
    "            Q = Q + [list(p)]\n",
    "    R = [p for p in Q if p not in P]\n",
    "    print(simplify_partitions(R))\n",
    "    \n",
    "def verify_basis1_up_to(w, n):\n",
    "    for i in range(2,n+1):\n",
    "        S = []\n",
    "        a = st_basisF1(i)\n",
    "        A = matrix(0,len(a))\n",
    "        for j in range(len(w[i])):\n",
    "            v = several_virasoro(w[i][j], {(0,):1})\n",
    "            vrow = [v.get(a[k], 0) for k in range(len(a))]\n",
    "            A = insert_row(A, A.nrows(), vrow)\n",
    "        print(i)\n",
    "        print(A)\n",
    "        print(A.det())\n",
    "        [print(\"------\")]\n",
    "        \n",
    "def verify_basis1_up_tov2(w, n):\n",
    "    for i in range(n+1):\n",
    "        S = []\n",
    "        for j in range(len(w[i])):\n",
    "            v = several_virasoro(w[i][j], {(0,):1})\n",
    "            if not vector_in_span(v, S):\n",
    "                S = S + [v]\n",
    "        P = []\n",
    "        #print(S)\n",
    "        for p in Partitions1(i):\n",
    "            v = several_virasoro(p, {(0,): 1})\n",
    "            #print(v)\n",
    "            #print(S)\n",
    "            if not vector_in_span(v, S):\n",
    "                S = S + [v]\n",
    "                P = P + [list(p)]\n",
    "        print([i, P, len(P)])"
   ]
  },
  {
   "cell_type": "code",
   "execution_count": 8,
   "id": "30740083-121b-43ce-a8a5-cfe04c34d7c1",
   "metadata": {},
   "outputs": [
    {
     "name": "stdout",
     "output_type": "stream",
     "text": [
      "[8]\n"
     ]
    }
   ],
   "source": [
    "for p in list(Partitions(8, length = 1)):\n",
    "    print (p)"
   ]
  },
  {
   "cell_type": "code",
   "execution_count": 45,
   "id": "e8341467-bb0a-485c-9671-88d7a088fb63",
   "metadata": {},
   "outputs": [
    {
     "name": "stdout",
     "output_type": "stream",
     "text": [
      "2\n",
      "[2]\n",
      "2\n",
      "------\n",
      "3\n",
      "[2]\n",
      "2\n",
      "------\n",
      "4\n",
      "[  3  -1]\n",
      "[5/2 1/2]\n",
      "4\n",
      "------\n",
      "5\n",
      "[ 7/2 -3/2]\n",
      "[   3    1]\n",
      "8\n",
      "------\n",
      "6\n",
      "[  9   0  -3]\n",
      "[  4  -2   0]\n",
      "[7/2 3/2 1/2]\n",
      "-48\n",
      "------\n",
      "7\n",
      "[  11    0    0    1]\n",
      "[  10    0   -4   -2]\n",
      "[ 9/2 -5/2    0  1/2]\n",
      "[   4    2    1    0]\n",
      "112\n",
      "------\n",
      "8\n",
      "[65/4  9/4 -7/4 15/4  5/2]\n",
      "[  12    0    0   -4    0]\n",
      "[  11    0   -5    0   -3]\n",
      "[   5   -3    0    0    1]\n",
      "[ 9/2  5/2  3/2  1/2    0]\n",
      "-3584\n",
      "------\n",
      "9\n",
      "[  21   -5    4    0   -3    3]\n",
      "[35/2  5/2   -2    0  3/2  5/2]\n",
      "[  13    0    0   -5    0   -3]\n",
      "[  12    0   -6    0   -4    0]\n",
      "[11/2 -7/2    0    0  3/2  1/2]\n",
      "[   5    3    2    1    0    0]\n",
      "57344\n",
      "------\n",
      "10\n",
      "[   28    -9     0     6     0     7    -1     0]\n",
      "[   24     6     0    -4     0     6     6     0]\n",
      "[ 45/2 -11/2   9/2     0  -7/2 -15/2     0   3/2]\n",
      "[ 75/4  11/4  -9/4     0   7/4 -25/4     0   5/4]\n",
      "[   14     0     0    -6     0     0    -4    -2]\n",
      "[   13     0    -7     0    -5     0     0     1]\n",
      "[    6    -4     0     0     2     0     1     0]\n",
      "[ 11/2   7/2   5/2   3/2     0   1/2     0     0]\n",
      "3211264\n",
      "------\n",
      "11\n",
      "[   36   -14     0     0     0    16     4    -6     0]\n",
      "[119/4 -39/4     0  27/4     0     0 -21/4  21/4   7/4]\n",
      "[ 51/2  13/2     0  -9/2     0     0   7/2   9/2   3/2]\n",
      "[   24    -6     5     0    -4    -9     0    -6     0]\n",
      "[   20     3  -5/2     0     2 -15/2     0    -5     0]\n",
      "[   15     0     0    -7     0     0    -5     0    -3]\n",
      "[   14     0    -8     0    -6     0     0     0     2]\n",
      "[ 13/2  -9/2     0     0   5/2     0   3/2   1/2     0]\n",
      "[    6     4     3     2     0     1     0     0     0]\n",
      "411041792\n",
      "------\n",
      "12\n",
      "[  100     0   -28     0   -12    40    20     0     0    -8   -12     8]\n",
      "[171/2     0 -39/2  33/2     0     0     0  45/2  27/2    -6     0  -9/2]\n",
      "[   38   -15     0     0     0     9     0    10    -1     2     0    -1]\n",
      "[133/4  45/4  13/4 -11/4     0 -27/4     0  35/4  21/2   7/2     0   3/2]\n",
      "[ 63/2 -21/2     0  15/2     0     0    -6 -21/2     0     0   7/2   3/2]\n",
      "[   27     7     0    -5     0     0     4    -9     0     0     3    -1]\n",
      "[ 51/2 -13/2  11/2     0  -9/2 -21/2     0     0 -15/2     0  -9/2  -1/2]\n",
      "[ 85/4  13/4 -11/4     0   9/4 -35/4     0     0 -25/4     0 -15/4   1/4]\n",
      "[   16     0     0    -8     0     0    -6     0     0    -4     0     0]\n",
      "[   15     0    -9     0    -7     0     0     0     0     3     1     0]\n",
      "[    7    -5     0     0     3     0     2     0     1     0     0     0]\n",
      "[ 13/2   9/2   7/2   5/2     0   3/2     0   1/2     0     0     0     0]\n",
      "-1104880336896\n",
      "------\n",
      "13\n",
      "[231/2     0     0     0  13/2     0 -11/2  55/2  33/2    10     0     0     0  -5/2]\n",
      "[  105     0   -30     0   -13    22    11    25    15    -4     0   -14     0     5]\n",
      "[189/4 -85/4     0     0  13/4     0 -11/4  45/2  27/4   9/2 -35/4     0     0  -5/2]\n",
      "[   90     0   -21    18     0     0     0     0     0   -12    18     9     0    -6]\n",
      "[   40   -16     0     0     0    10     0     0    -8     0     8     4     0     0]\n",
      "[   35    12   7/2    -3     0 -15/2     0     0     6     2     7   7/2     0     1]\n",
      "[133/4 -45/4     0  33/4     0     0 -27/4 -49/4     0     0 -35/4     0   7/4   9/4]\n",
      "[ 57/2  15/2     0 -11/2     0     0   9/2 -21/2     0     0 -15/2     0   3/2  -3/2]\n",
      "[   27    -7     6     0    -5   -12     0     0    -9     0     0    -6    -3    -1]\n",
      "[ 45/2   7/2    -3     0   5/2   -10     0     0 -15/2     0     0    -5  -5/2   1/2]\n",
      "[   17     0     0    -9     0     0    -7     0     0    -5     0     0     1     0]\n",
      "[   16     0   -10     0    -8     0     0     0     0     4     0     2     0     0]\n",
      "[ 15/2 -11/2     0     0   7/2     0   5/2     0   3/2     0   1/2     0     0     0]\n",
      "[    7     5     4     3     0     2     0     1     0     0     0     0     0     0]\n",
      "-1732452368252928\n",
      "------\n",
      "14\n",
      "[  138     0     0   -30     0    26     0    30    18     6     0     0     0     0   -14     0     0]\n",
      "[253/2     0 -85/2     0 -45/2     0     0    55    33  11/2     0     0 -27/2 -35/2     0     0    15]\n",
      "[  121     0     0     0     7     0    -6     0     0     5    33    22    11     0     0    -3     0]\n",
      "[  110     0   -32     0   -14    24    12     0     0   -10    30    20    -6     0     0     6    -8]\n",
      "[ 99/2 -45/2     0     0   7/2     0    -3  25/2     0   5/2  27/2    -1   9/2     0     0  -3/2  -5/2]\n",
      "[   44    18     8     0     0    -6     0   -10     0     0    12    16     8     0     0     0     4]\n",
      "[189/2     0 -45/2  39/2     0     0     0     0     0 -27/2 -63/2     0     0  27/2   9/2 -15/2     0]\n",
      "[   42   -17     0     0     0    11     0     0    -9     0   -14     0     0     6     2     0     3]\n",
      "[147/4  51/4  15/4 -13/4     0 -33/4     0     0  27/4   9/4 -49/4     0     0  21/4   7/4   5/4  -9/4]\n",
      "[   35   -12     0     9     0     0 -15/2   -14     0     0     0 -21/2     0    -7     0     3     0]\n",
      "[   30     8     0    -6     0     0     5   -12     0     0     0    -9     0    -6     0    -2     0]\n",
      "[ 57/2 -15/2  13/2     0 -11/2 -27/2     0     0 -21/2     0     0     0 -15/2     0  -9/2  -3/2  -1/2]\n",
      "[ 95/4  15/4 -13/4     0  11/4 -45/4     0     0 -35/4     0     0     0 -25/4     0 -15/4   3/4   1/4]\n",
      "[   18     0     0   -10     0     0    -8     0     0    -6     0     0     0     0     2     0     0]\n",
      "[   17     0   -11     0    -9     0     0     0     0     5     0     0     3     1     0     0     0]\n",
      "[    8    -6     0     0     4     0     3     0     2     0     0     1     0     0     0     0     0]\n",
      "[ 15/2  11/2   9/2   7/2     0   5/2     0   3/2     0     0   1/2     0     0     0     0     0     0]\n",
      "56768999202911944704\n",
      "------\n"
     ]
    }
   ],
   "source": [
    "verify_basis1_up_to(w, 14)"
   ]
  },
  {
   "cell_type": "code",
   "execution_count": 37,
   "id": "98b01c6c-ebe9-4a7f-92e0-86e46253dec7",
   "metadata": {},
   "outputs": [
    {
     "data": {
      "text/plain": [
       "0"
      ]
     },
     "execution_count": 37,
     "metadata": {},
     "output_type": "execute_result"
    }
   ],
   "source": [
    "A = matrix([[1,2,3],[4,5,6],[7,8,9]])\n",
    "A.det()"
   ]
  },
  {
   "cell_type": "code",
   "execution_count": 10,
   "id": "bca733ae-c0b8-4e61-b687-04ade8067550",
   "metadata": {},
   "outputs": [
    {
     "data": {
      "text/plain": [
       "[[7, 1], [6, 2], [5, 3], [4, 4]]"
      ]
     },
     "execution_count": 10,
     "metadata": {},
     "output_type": "execute_result"
    }
   ],
   "source": [
    "list(Partitions(8, length = 2))"
   ]
  },
  {
   "cell_type": "code",
   "execution_count": 23,
   "id": "928fd20c-4d5a-4c99-a92e-5832799f9750",
   "metadata": {},
   "outputs": [
    {
     "data": {
      "text/plain": [
       "[(10,),\n",
       " (8, 1, 0),\n",
       " (7, 2, 0),\n",
       " (6, 3, 0),\n",
       " (6, 2, 1),\n",
       " (5, 4, 0),\n",
       " (5, 3, 1),\n",
       " (4, 3, 2)]"
      ]
     },
     "execution_count": 23,
     "metadata": {},
     "output_type": "execute_result"
    }
   ],
   "source": [
    "def st_basisF1(n):\n",
    "    basis = []\n",
    "    for i in range(1, n, 2):\n",
    "        for p in list(Partitions(Integer(n+1/2+i-i^2/2), length = i)):\n",
    "            p = tuple(p[j]+(i-2-j) for j in range(i))\n",
    "            basis = basis + [p]\n",
    "    return basis\n",
    "st_basisF1(10)"
   ]
  },
  {
   "cell_type": "code",
   "execution_count": 12,
   "id": "d6774e92-504e-41f9-805b-392901b8c57b",
   "metadata": {},
   "outputs": [
    {
     "ename": "TypeError",
     "evalue": "'function' object cannot be interpreted as an integer",
     "output_type": "error",
     "traceback": [
      "\u001b[0;31m---------------------------------------------------------------------------\u001b[0m",
      "\u001b[0;31mTypeError\u001b[0m                                 Traceback (most recent call last)",
      "\u001b[0;32m/tmp/ipykernel_611/3657638076.py\u001b[0m in \u001b[0;36m<module>\u001b[0;34m\u001b[0m\n\u001b[0;32m----> 1\u001b[0;31m \u001b[0;32mfor\u001b[0m \u001b[0mj\u001b[0m \u001b[0;32min\u001b[0m \u001b[0mrange\u001b[0m\u001b[0;34m(\u001b[0m\u001b[0mInteger\u001b[0m\u001b[0;34m(\u001b[0m\u001b[0;36m1\u001b[0m\u001b[0;34m)\u001b[0m\u001b[0;34m,\u001b[0m\u001b[0mn\u001b[0m\u001b[0;34m,\u001b[0m\u001b[0mInteger\u001b[0m\u001b[0;34m(\u001b[0m\u001b[0;36m2\u001b[0m\u001b[0;34m)\u001b[0m\u001b[0;34m)\u001b[0m\u001b[0;34m:\u001b[0m\u001b[0;34m\u001b[0m\u001b[0;34m\u001b[0m\u001b[0m\n\u001b[0m\u001b[1;32m      2\u001b[0m     \u001b[0mprint\u001b[0m\u001b[0;34m(\u001b[0m\u001b[0mj\u001b[0m\u001b[0;34m)\u001b[0m\u001b[0;34m\u001b[0m\u001b[0;34m\u001b[0m\u001b[0m\n",
      "\u001b[0;31mTypeError\u001b[0m: 'function' object cannot be interpreted as an integer"
     ]
    }
   ],
   "source": [
    "for j in range(1,n,2):\n",
    "    print(j)"
   ]
  },
  {
   "cell_type": "code",
   "execution_count": 15,
   "id": "48ebf002-919d-49f7-8c1c-526c4c8fbc7a",
   "metadata": {},
   "outputs": [
    {
     "name": "stdout",
     "output_type": "stream",
     "text": [
      "1\n",
      "3\n",
      "5\n"
     ]
    }
   ],
   "source": [
    "for i in range(1,7,2):\n",
    "    print(i)"
   ]
  },
  {
   "cell_type": "code",
   "execution_count": 19,
   "id": "e442c0b8-9719-4c38-a3f1-1914e97e79f9",
   "metadata": {},
   "outputs": [
    {
     "data": {
      "text/plain": [
       "13"
      ]
     },
     "execution_count": 19,
     "metadata": {},
     "output_type": "execute_result"
    }
   ],
   "source": [
    "1/2+5^2/2"
   ]
  },
  {
   "cell_type": "code",
   "execution_count": 112,
   "id": "c43b54c7-9383-48b7-9e2f-58403f44c09d",
   "metadata": {},
   "outputs": [
    {
     "name": "stdout",
     "output_type": "stream",
     "text": [
      "[{(6,): 9, (3, 2, 0): -3}, {(6,): 4, (4, 1, 0): -2}, {(6,): 7/2, (4, 1, 0): 3/2, (3, 2, 0): 1/2}]\n",
      "{(6,): 132, (4, 1, 0): 12}\n"
     ]
    },
    {
     "data": {
      "text/plain": [
       "True"
      ]
     },
     "execution_count": 112,
     "metadata": {},
     "output_type": "execute_result"
    }
   ],
   "source": [
    "SS = []\n",
    "for j in range(len(w[6])):\n",
    "    vv = several_virasoro(w[6][j], {(0,):1})\n",
    "    SS = SS + [vv]\n",
    "print(SS)\n",
    "uu = several_virasoro((2,1,1,1,1),{(0,):1})\n",
    "print(uu)\n",
    "vector_in_span(uu, SS)"
   ]
  },
  {
   "cell_type": "code",
   "execution_count": 121,
   "id": "5bf70524-97f2-42c9-bf0f-2058c25e7894",
   "metadata": {},
   "outputs": [
    {
     "name": "stdout",
     "output_type": "stream",
     "text": [
      "1\n",
      "3\n",
      "5\n"
     ]
    }
   ],
   "source": [
    "stbasis1(6)"
   ]
  },
  {
   "cell_type": "code",
   "execution_count": 132,
   "id": "dd86a61b-ed0c-42a6-92e8-47326c3ef91c",
   "metadata": {},
   "outputs": [
    {
     "name": "stdout",
     "output_type": "stream",
     "text": [
      "[0, [], 0]\n",
      "[1, [], 0]\n",
      "[2, [], 0]\n",
      "[3, [], 0]\n",
      "[4, [], 0]\n",
      "[5, [], 0]\n",
      "[6, [], 0]\n",
      "[7, [], 0]\n",
      "[8, [], 0]\n",
      "[9, [], 0]\n",
      "[10, [], 0]\n",
      "[11, [], 0]\n",
      "[12, [], 0]\n",
      "[13, [], 0]\n",
      "[14, [], 0]\n",
      "[15, [], 0]\n",
      "[16, [], 0]\n",
      "[17, [], 0]\n",
      "[18, [], 0]\n",
      "[19, [], 0]\n",
      "[20, [], 0]\n"
     ]
    }
   ],
   "source": [
    "verify_basis1_up_to(w, 20)"
   ]
  },
  {
   "cell_type": "code",
   "execution_count": 133,
   "id": "5db8966a-d3b3-4e35-8375-89ed841ec990",
   "metadata": {},
   "outputs": [
    {
     "name": "stdout",
     "output_type": "stream",
     "text": [
      "[0, [], 0]\n",
      "[1, [], 0]\n",
      "[2, [], 0]\n",
      "[3, [], 0]\n",
      "[4, [], 0]\n",
      "[5, [], 0]\n",
      "[6, [], 0]\n",
      "[7, [], 0]\n",
      "[8, [], 0]\n",
      "[9, [], 0]\n",
      "[10, [], 0]\n",
      "[11, [], 0]\n",
      "[12, [], 0]\n",
      "[13, [], 0]\n",
      "[14, [], 0]\n",
      "[15, [], 0]\n",
      "[16, [], 0]\n",
      "[17, [], 0]\n",
      "[18, [], 0]\n",
      "[19, [], 0]\n",
      "[20, [], 0]\n"
     ]
    }
   ],
   "source": [
    "verify_basis1_up_to(w, 20)"
   ]
  },
  {
   "cell_type": "code",
   "execution_count": 93,
   "id": "8ba649df-9214-48a0-8fe2-302701dbaa3b",
   "metadata": {},
   "outputs": [
    {
     "data": {
      "text/plain": [
       "{(4,): 12}"
      ]
     },
     "execution_count": 93,
     "metadata": {},
     "output_type": "execute_result"
    }
   ],
   "source": [
    "several_virasoro((1,1),{(2,):1})"
   ]
  },
  {
   "cell_type": "code",
   "execution_count": 95,
   "id": "d7020e54-6e54-4d7d-ab3c-ba6cb1810165",
   "metadata": {},
   "outputs": [
    {
     "data": {
      "text/plain": [
       "{(6,): 132, (4, 1, 0): 12}"
      ]
     },
     "execution_count": 95,
     "metadata": {},
     "output_type": "execute_result"
    }
   ],
   "source": [
    "several_virasoro((2,1,1,1,1),{(0,):1})"
   ]
  },
  {
   "cell_type": "code",
   "execution_count": null,
   "id": "cf6cafd3-f47f-4b61-83c7-6871952e6d3e",
   "metadata": {},
   "outputs": [],
   "source": []
  },
  {
   "cell_type": "code",
   "execution_count": 89,
   "id": "8e971ad9-ceb5-4de5-a332-e23fdb9493fa",
   "metadata": {},
   "outputs": [
    {
     "data": {
      "text/plain": [
       "{(6,): 9, (3, 2, 0): -3}"
      ]
     },
     "execution_count": 89,
     "metadata": {},
     "output_type": "execute_result"
    }
   ],
   "source": [
    "several_virasoro((4,1,1),{(0,):1})"
   ]
  },
  {
   "cell_type": "code",
   "execution_count": 90,
   "id": "727f8f4e-c409-4f70-8b7b-98dbb50855c0",
   "metadata": {},
   "outputs": [
    {
     "data": {
      "text/plain": [
       "{(6,): 4, (4, 1, 0): -2}"
      ]
     },
     "execution_count": 90,
     "metadata": {},
     "output_type": "execute_result"
    }
   ],
   "source": [
    "several_virasoro((5,1),{(0,):1})"
   ]
  },
  {
   "cell_type": "code",
   "execution_count": 91,
   "id": "d783c0a7-95a9-4a9d-98af-3eca82c38094",
   "metadata": {},
   "outputs": [
    {
     "data": {
      "text/plain": [
       "{(6,): 7/2, (4, 1, 0): 3/2, (3, 2, 0): 1/2}"
      ]
     },
     "execution_count": 91,
     "metadata": {},
     "output_type": "execute_result"
    }
   ],
   "source": [
    "several_virasoro((6,),{(0,):1})"
   ]
  },
  {
   "cell_type": "code",
   "execution_count": 72,
   "id": "bd5d8554-1e75-4f4a-8aaf-37eae1b0f0b4",
   "metadata": {},
   "outputs": [
    {
     "name": "stdout",
     "output_type": "stream",
     "text": [
      "[0, [], 0]\n",
      "[1, [], 0]\n",
      "[2, [], 0]\n",
      "[3, [], 0]\n",
      "[4, [], 0]\n",
      "[5, [], 0]\n",
      "[6, [[2, 1, 1, 1, 1]], 1]\n",
      "[7, [[2, 1, 1, 1, 1, 1], [3, 1, 1, 1, 1]], 2]\n",
      "[8, [], 0]\n",
      "[9, [[2, 2, 1, 1, 1, 1, 1]], 1]\n",
      "[10, [[2, 2, 1, 1, 1, 1, 1, 1], [2, 2, 2, 1, 1, 1, 1], [2, 2, 2, 2, 1, 1]], 3]\n"
     ]
    }
   ],
   "source": [
    "verify_basis1_up_to(w, 10)"
   ]
  },
  {
   "cell_type": "code",
   "execution_count": 75,
   "id": "991dde95-569b-4917-a43d-cc81efa7149f",
   "metadata": {},
   "outputs": [
    {
     "data": {
      "text/plain": [
       "{(2,): 2}"
      ]
     },
     "execution_count": 75,
     "metadata": {},
     "output_type": "execute_result"
    }
   ],
   "source": [
    "several_virasoro((1,1), {(0,):1})"
   ]
  },
  {
   "cell_type": "code",
   "execution_count": 77,
   "id": "6f99fcfc-d21e-40da-897b-384e3eef64e6",
   "metadata": {},
   "outputs": [
    {
     "data": {
      "text/plain": [
       "{(2, 1): 1, (3, 0): 3}"
      ]
     },
     "execution_count": 77,
     "metadata": {},
     "output_type": "execute_result"
    }
   ],
   "source": [
    "several_virasoro((1,1), {(1,0):1/2})"
   ]
  },
  {
   "cell_type": "code",
   "execution_count": 80,
   "id": "6ce70646-5da6-4d0f-8d46-1c497ac313bf",
   "metadata": {},
   "outputs": [
    {
     "data": {
      "text/plain": [
       "{(3, 1): 6, (4, 0): 12}"
      ]
     },
     "execution_count": 80,
     "metadata": {},
     "output_type": "execute_result"
    }
   ],
   "source": [
    "several_virasoro((1,1,1),{(1,0):1/2})"
   ]
  },
  {
   "cell_type": "code",
   "execution_count": 84,
   "id": "4058c562-b723-493f-8b5b-14452a8c7acb",
   "metadata": {},
   "outputs": [
    {
     "data": {
      "text/plain": [
       "{(3, 2): 12, (4, 1): 36, (5, 0): 60}"
      ]
     },
     "execution_count": 84,
     "metadata": {},
     "output_type": "execute_result"
    }
   ],
   "source": [
    "several_virasoro((1,1,1,1),{(1,0):1/2})"
   ]
  },
  {
   "cell_type": "code",
   "execution_count": 87,
   "id": "e1628950-d45a-45ed-84a5-bc751c50ae8c",
   "metadata": {},
   "outputs": [
    {
     "data": {
      "text/plain": [
       "{(3, 2): 1/2, (4, 1): 3/2, (5, 0): 5/2}"
      ]
     },
     "execution_count": 87,
     "metadata": {},
     "output_type": "execute_result"
    }
   ],
   "source": [
    "several_virasoro((6,),{():1})"
   ]
  },
  {
   "cell_type": "code",
   "execution_count": 88,
   "id": "10a36dfd-6576-4a1e-9cc6-584ab16433b7",
   "metadata": {},
   "outputs": [
    {
     "data": {
      "text/plain": [
       "{(6,): 7/2, (4, 1, 0): 3/2, (3, 2, 0): 1/2}"
      ]
     },
     "execution_count": 88,
     "metadata": {},
     "output_type": "execute_result"
    }
   ],
   "source": [
    "several_virasoro((6,),{(0,):1})"
   ]
  },
  {
   "cell_type": "code",
   "execution_count": 82,
   "id": "baea15b3-dc48-4eff-82f0-d5ac4400b78a",
   "metadata": {},
   "outputs": [
    {
     "data": {
      "text/plain": [
       "{(3, 1): 1, (4, 0): 2}"
      ]
     },
     "execution_count": 82,
     "metadata": {},
     "output_type": "execute_result"
    }
   ],
   "source": [
    "several_virasoro((5,),{():1})"
   ]
  },
  {
   "cell_type": "code",
   "execution_count": 83,
   "id": "ea83e9dc-76b0-4239-bf6e-616b9cdaf53f",
   "metadata": {},
   "outputs": [
    {
     "data": {
      "text/plain": [
       "{(6,): 4, (4, 1, 0): -2}"
      ]
     },
     "execution_count": 83,
     "metadata": {},
     "output_type": "execute_result"
    }
   ],
   "source": [
    "several_virasoro((5,1),{(0,):1})"
   ]
  },
  {
   "cell_type": "code",
   "execution_count": 78,
   "id": "c3b9792d-4e97-442d-9c3f-caea425a7151",
   "metadata": {},
   "outputs": [
    {
     "data": {
      "text/plain": [
       "{(6,): 9, (3, 2, 0): -3}"
      ]
     },
     "execution_count": 78,
     "metadata": {},
     "output_type": "execute_result"
    }
   ],
   "source": [
    "several_virasoro((4,1,1),{(0,):1})"
   ]
  },
  {
   "cell_type": "code",
   "execution_count": 69,
   "id": "396326e9-3d57-48e0-89c8-b4896a680253",
   "metadata": {},
   "outputs": [
    {
     "data": {
      "text/plain": [
       "{(2, 0): 2}"
      ]
     },
     "execution_count": 69,
     "metadata": {},
     "output_type": "execute_result"
    }
   ],
   "source": [
    "several_virasoro((1,), {(1,0):1})"
   ]
  },
  {
   "cell_type": "code",
   "execution_count": 59,
   "id": "ec8f971a-a4f1-4856-8f60-2c75a492ba5c",
   "metadata": {},
   "outputs": [
    {
     "data": {
      "text/plain": [
       "[[4, 1, 1], [5, 1], [6]]"
      ]
     },
     "execution_count": 59,
     "metadata": {},
     "output_type": "execute_result"
    }
   ],
   "source": [
    "w[6]"
   ]
  },
  {
   "cell_type": "code",
   "execution_count": 57,
   "id": "c662bed2-59c6-43b3-a9ba-471d042e91a0",
   "metadata": {},
   "outputs": [
    {
     "data": {
      "text/plain": [
       "{(6,): 7/2, (4, 1, 0): 3/2, (3, 2, 0): 1/2}"
      ]
     },
     "execution_count": 57,
     "metadata": {},
     "output_type": "execute_result"
    }
   ],
   "source": [
    "several_virasoro(w[6][2], {(0,):1})"
   ]
  },
  {
   "cell_type": "code",
   "execution_count": 58,
   "id": "1dab48f3-d4e9-4c08-b963-04afa734161d",
   "metadata": {},
   "outputs": [
    {
     "data": {
      "text/plain": [
       "{(6,): 132, (4, 1, 0): 12}"
      ]
     },
     "execution_count": 58,
     "metadata": {},
     "output_type": "execute_result"
    }
   ],
   "source": [
    "several_virasoro([2, 1, 1, 1, 1], {(0,):1})"
   ]
  },
  {
   "cell_type": "code",
   "execution_count": 38,
   "id": "3344d9ea-9b46-4079-82df-ecfdd56d2375",
   "metadata": {
    "tags": []
   },
   "outputs": [
    {
     "name": "stdout",
     "output_type": "stream",
     "text": [
      "[0, [], 0]\n",
      "[1, [], 0]\n",
      "[2, [], 0]\n",
      "[3, [], 0]\n",
      "[4, [], 0]\n",
      "[5, [], 0]\n",
      "[6, [[2, 1, 1, 1, 1]], 1]\n",
      "[7, [[2, 1, 1, 1, 1, 1], [3, 1, 1, 1, 1]], 2]\n",
      "[8, [], 0]\n",
      "[9, [[2, 2, 1, 1, 1, 1, 1]], 1]\n",
      "[10, [[2, 2, 1, 1, 1, 1, 1, 1], [2, 2, 2, 1, 1, 1, 1], [2, 2, 2, 2, 1, 1]], 3]\n",
      "[11, [[2, 2, 1, 1, 1, 1, 1, 1, 1], [2, 2, 2, 1, 1, 1, 1, 1], [2, 2, 2, 2, 1, 1, 1], [3, 1, 1, 1, 1, 1, 1, 1, 1]], 4]\n",
      "[12, [[2, 1, 1, 1, 1, 1, 1, 1, 1, 1, 1], [2, 2, 1, 1, 1, 1, 1, 1, 1, 1], [2, 2, 2, 1, 1, 1, 1, 1, 1], [2, 2, 2, 2, 1, 1, 1, 1]], 4]\n",
      "[13, [[2, 1, 1, 1, 1, 1, 1, 1, 1, 1, 1, 1], [2, 2, 1, 1, 1, 1, 1, 1, 1, 1, 1], [2, 2, 2, 2, 1, 1, 1, 1, 1], [2, 2, 2, 2, 2, 1, 1, 1], [3, 1, 1, 1, 1, 1, 1, 1, 1, 1, 1], [3, 2, 1, 1, 1, 1, 1, 1, 1, 1], [3, 2, 2, 1, 1, 1, 1, 1, 1]], 7]\n",
      "[14, [[2, 1, 1, 1, 1, 1, 1, 1, 1, 1, 1, 1, 1], [2, 2, 1, 1, 1, 1, 1, 1, 1, 1, 1, 1], [2, 2, 2, 2, 1, 1, 1, 1, 1, 1], [2, 2, 2, 2, 2, 1, 1, 1, 1], [2, 2, 2, 2, 2, 2, 1, 1], [3, 1, 1, 1, 1, 1, 1, 1, 1, 1, 1, 1], [3, 2, 1, 1, 1, 1, 1, 1, 1, 1, 1], [3, 2, 2, 1, 1, 1, 1, 1, 1, 1], [3, 2, 2, 2, 1, 1, 1, 1, 1], [3, 2, 2, 2, 2, 1, 1, 1]], 10]\n",
      "[15, [[2, 1, 1, 1, 1, 1, 1, 1, 1, 1, 1, 1, 1, 1], [2, 2, 1, 1, 1, 1, 1, 1, 1, 1, 1, 1, 1], [2, 2, 2, 2, 1, 1, 1, 1, 1, 1, 1], [2, 2, 2, 2, 2, 1, 1, 1, 1, 1], [2, 2, 2, 2, 2, 2, 1, 1, 1], [3, 1, 1, 1, 1, 1, 1, 1, 1, 1, 1, 1, 1], [3, 2, 1, 1, 1, 1, 1, 1, 1, 1, 1, 1], [3, 2, 2, 1, 1, 1, 1, 1, 1, 1, 1], [3, 2, 2, 2, 1, 1, 1, 1, 1, 1], [3, 2, 2, 2, 2, 1, 1, 1, 1], [3, 2, 2, 2, 2, 2, 1, 1]], 11]\n"
     ]
    }
   ],
   "source": [
    "verify_basis1_up_to(w, 15)"
   ]
  },
  {
   "cell_type": "code",
   "execution_count": 36,
   "id": "a569705e-bfcd-46e5-9a2a-797e500b0a22",
   "metadata": {
    "tags": []
   },
   "outputs": [
    {
     "name": "stdout",
     "output_type": "stream",
     "text": [
      "[0, [], 0]\n",
      "[1, [], 0]\n",
      "[2, [], 0]\n",
      "[3, [], 0]\n",
      "[4, [], 0]\n",
      "[5, [], 0]\n",
      "[6, [[2, 1, 1, 1, 1]], 1]\n",
      "[7, [[2, 1, 1, 1, 1, 1], [3, 1, 1, 1, 1]], 2]\n",
      "[8, [], 0]\n",
      "[9, [[2, 2, 1, 1, 1, 1, 1]], 1]\n",
      "[10, [[2, 2, 1, 1, 1, 1, 1, 1], [2, 2, 2, 1, 1, 1, 1], [2, 2, 2, 2, 1, 1]], 3]\n",
      "[11, [[2, 2, 1, 1, 1, 1, 1, 1, 1], [2, 2, 2, 1, 1, 1, 1, 1], [2, 2, 2, 2, 1, 1, 1], [3, 1, 1, 1, 1, 1, 1, 1, 1]], 4]\n",
      "[12, [[2, 1, 1, 1, 1, 1, 1, 1, 1, 1, 1], [2, 2, 1, 1, 1, 1, 1, 1, 1, 1], [2, 2, 2, 1, 1, 1, 1, 1, 1], [2, 2, 2, 2, 1, 1, 1, 1]], 4]\n",
      "[13, [[2, 1, 1, 1, 1, 1, 1, 1, 1, 1, 1, 1], [2, 2, 1, 1, 1, 1, 1, 1, 1, 1, 1], [2, 2, 2, 2, 1, 1, 1, 1, 1], [2, 2, 2, 2, 2, 1, 1, 1], [3, 1, 1, 1, 1, 1, 1, 1, 1, 1, 1], [3, 2, 1, 1, 1, 1, 1, 1, 1, 1], [3, 2, 2, 1, 1, 1, 1, 1, 1]], 7]\n",
      "[14, [[2, 1, 1, 1, 1, 1, 1, 1, 1, 1, 1, 1, 1], [2, 2, 1, 1, 1, 1, 1, 1, 1, 1, 1, 1], [2, 2, 2, 2, 1, 1, 1, 1, 1, 1], [2, 2, 2, 2, 2, 1, 1, 1, 1], [2, 2, 2, 2, 2, 2, 1, 1], [3, 1, 1, 1, 1, 1, 1, 1, 1, 1, 1, 1], [3, 2, 1, 1, 1, 1, 1, 1, 1, 1, 1], [3, 2, 2, 1, 1, 1, 1, 1, 1, 1], [3, 2, 2, 2, 1, 1, 1, 1, 1], [3, 2, 2, 2, 2, 1, 1, 1]], 10]\n",
      "[15, [[2, 1, 1, 1, 1, 1, 1, 1, 1, 1, 1, 1, 1, 1], [2, 2, 1, 1, 1, 1, 1, 1, 1, 1, 1, 1, 1], [2, 2, 2, 2, 1, 1, 1, 1, 1, 1, 1], [2, 2, 2, 2, 2, 1, 1, 1, 1, 1], [2, 2, 2, 2, 2, 2, 1, 1, 1], [3, 1, 1, 1, 1, 1, 1, 1, 1, 1, 1, 1, 1], [3, 2, 1, 1, 1, 1, 1, 1, 1, 1, 1, 1], [3, 2, 2, 1, 1, 1, 1, 1, 1, 1, 1], [3, 2, 2, 2, 1, 1, 1, 1, 1, 1], [3, 2, 2, 2, 2, 1, 1, 1, 1], [3, 2, 2, 2, 2, 2, 1, 1]], 11]\n",
      "[16, [[2, 2, 1, 1, 1, 1, 1, 1, 1, 1, 1, 1, 1, 1], [2, 2, 2, 2, 1, 1, 1, 1, 1, 1, 1, 1], [2, 2, 2, 2, 2, 1, 1, 1, 1, 1, 1], [2, 2, 2, 2, 2, 2, 1, 1, 1, 1], [3, 2, 1, 1, 1, 1, 1, 1, 1, 1, 1, 1, 1], [3, 2, 2, 1, 1, 1, 1, 1, 1, 1, 1, 1], [3, 2, 2, 2, 1, 1, 1, 1, 1, 1, 1]], 7]\n",
      "[17, [[2, 2, 1, 1, 1, 1, 1, 1, 1, 1, 1, 1, 1, 1, 1], [2, 2, 2, 1, 1, 1, 1, 1, 1, 1, 1, 1, 1, 1], [2, 2, 2, 2, 1, 1, 1, 1, 1, 1, 1, 1, 1], [2, 2, 2, 2, 2, 1, 1, 1, 1, 1, 1, 1], [2, 2, 2, 2, 2, 2, 1, 1, 1, 1, 1], [2, 2, 2, 2, 2, 2, 2, 1, 1, 1], [3, 1, 1, 1, 1, 1, 1, 1, 1, 1, 1, 1, 1, 1, 1], [3, 2, 2, 2, 1, 1, 1, 1, 1, 1, 1, 1], [3, 2, 2, 2, 2, 1, 1, 1, 1, 1, 1], [3, 2, 2, 2, 2, 2, 1, 1, 1, 1], [3, 2, 2, 2, 2, 2, 2, 1, 1], [3, 3, 1, 1, 1, 1, 1, 1, 1, 1, 1, 1, 1]], 12]\n",
      "[18, [[2, 2, 1, 1, 1, 1, 1, 1, 1, 1, 1, 1, 1, 1, 1, 1], [2, 2, 2, 1, 1, 1, 1, 1, 1, 1, 1, 1, 1, 1, 1], [2, 2, 2, 2, 1, 1, 1, 1, 1, 1, 1, 1, 1, 1], [2, 2, 2, 2, 2, 1, 1, 1, 1, 1, 1, 1, 1], [2, 2, 2, 2, 2, 2, 1, 1, 1, 1, 1, 1], [2, 2, 2, 2, 2, 2, 2, 1, 1, 1, 1], [2, 2, 2, 2, 2, 2, 2, 2, 1, 1], [3, 1, 1, 1, 1, 1, 1, 1, 1, 1, 1, 1, 1, 1, 1, 1], [3, 2, 1, 1, 1, 1, 1, 1, 1, 1, 1, 1, 1, 1, 1], [3, 2, 2, 2, 1, 1, 1, 1, 1, 1, 1, 1, 1], [3, 2, 2, 2, 2, 1, 1, 1, 1, 1, 1, 1], [3, 2, 2, 2, 2, 2, 1, 1, 1, 1, 1]], 12]\n",
      "[19, [[2, 1, 1, 1, 1, 1, 1, 1, 1, 1, 1, 1, 1, 1, 1, 1, 1, 1], [2, 2, 1, 1, 1, 1, 1, 1, 1, 1, 1, 1, 1, 1, 1, 1, 1], [2, 2, 2, 2, 1, 1, 1, 1, 1, 1, 1, 1, 1, 1, 1], [2, 2, 2, 2, 2, 1, 1, 1, 1, 1, 1, 1, 1, 1], [2, 2, 2, 2, 2, 2, 1, 1, 1, 1, 1, 1, 1], [2, 2, 2, 2, 2, 2, 2, 1, 1, 1, 1, 1], [2, 2, 2, 2, 2, 2, 2, 2, 1, 1, 1], [3, 2, 1, 1, 1, 1, 1, 1, 1, 1, 1, 1, 1, 1, 1, 1], [3, 2, 2, 2, 1, 1, 1, 1, 1, 1, 1, 1, 1, 1], [3, 2, 2, 2, 2, 1, 1, 1, 1, 1, 1, 1, 1], [3, 2, 2, 2, 2, 2, 1, 1, 1, 1, 1, 1], [3, 2, 2, 2, 2, 2, 2, 1, 1, 1, 1], [3, 2, 2, 2, 2, 2, 2, 2, 1, 1], [3, 3, 2, 1, 1, 1, 1, 1, 1, 1, 1, 1, 1, 1], [3, 3, 2, 2, 1, 1, 1, 1, 1, 1, 1, 1, 1]], 15]\n",
      "[20, [[2, 1, 1, 1, 1, 1, 1, 1, 1, 1, 1, 1, 1, 1, 1, 1, 1, 1, 1], [2, 2, 1, 1, 1, 1, 1, 1, 1, 1, 1, 1, 1, 1, 1, 1, 1, 1], [2, 2, 2, 1, 1, 1, 1, 1, 1, 1, 1, 1, 1, 1, 1, 1, 1], [2, 2, 2, 2, 1, 1, 1, 1, 1, 1, 1, 1, 1, 1, 1, 1], [2, 2, 2, 2, 2, 1, 1, 1, 1, 1, 1, 1, 1, 1, 1], [2, 2, 2, 2, 2, 2, 1, 1, 1, 1, 1, 1, 1, 1], [2, 2, 2, 2, 2, 2, 2, 1, 1, 1, 1, 1, 1], [2, 2, 2, 2, 2, 2, 2, 2, 1, 1, 1, 1], [2, 2, 2, 2, 2, 2, 2, 2, 2, 1, 1], [3, 2, 1, 1, 1, 1, 1, 1, 1, 1, 1, 1, 1, 1, 1, 1, 1], [3, 2, 2, 2, 1, 1, 1, 1, 1, 1, 1, 1, 1, 1, 1], [3, 2, 2, 2, 2, 1, 1, 1, 1, 1, 1, 1, 1, 1], [3, 2, 2, 2, 2, 2, 1, 1, 1, 1, 1, 1, 1], [3, 2, 2, 2, 2, 2, 2, 1, 1, 1, 1, 1], [3, 2, 2, 2, 2, 2, 2, 2, 1, 1, 1], [3, 3, 1, 1, 1, 1, 1, 1, 1, 1, 1, 1, 1, 1, 1, 1], [3, 3, 2, 1, 1, 1, 1, 1, 1, 1, 1, 1, 1, 1, 1], [3, 3, 2, 2, 1, 1, 1, 1, 1, 1, 1, 1, 1, 1], [3, 3, 2, 2, 2, 1, 1, 1, 1, 1, 1, 1, 1], [3, 3, 2, 2, 2, 2, 1, 1, 1, 1, 1, 1], [3, 3, 2, 2, 2, 2, 2, 1, 1, 1, 1], [3, 3, 2, 2, 2, 2, 2, 2, 1, 1], [3, 3, 3, 1, 1, 1, 1, 1, 1, 1, 1, 1, 1, 1], [3, 3, 3, 2, 1, 1, 1, 1, 1, 1, 1, 1, 1], [3, 3, 3, 2, 2, 1, 1, 1, 1, 1, 1, 1], [3, 3, 3, 2, 2, 2, 1, 1, 1, 1, 1], [3, 3, 3, 2, 2, 2, 2, 1, 1, 1]], 27]\n"
     ]
    }
   ],
   "source": [
    "verify_basis1_up_to(w, 20)"
   ]
  },
  {
   "cell_type": "code",
   "execution_count": 14,
   "id": "acd3cbdf-a59a-49fd-93af-58b9b730281a",
   "metadata": {
    "collapsed": true,
    "jupyter": {
     "outputs_hidden": true
    },
    "tags": []
   },
   "outputs": [
    {
     "name": "stdout",
     "output_type": "stream",
     "text": [
      "[{(0,): 1}]\n",
      "[{(1,): 1}]\n",
      "[{(2,): 2}]\n",
      "[{(3,): 2}]\n",
      "[{(2, 1, 0): -1, (4,): 3}, {(2, 1, 0): 1/2, (4,): 5/2}]\n",
      "[{(3, 1, 0): -3/2, (5,): 7/2}, {(3, 1, 0): 1, (5,): 3}]\n",
      "[{(6,): 9, (3, 2, 0): -3}, {(6,): 4, (4, 1, 0): -2}, {(6,): 7/2, (4, 1, 0): 3/2, (3, 2, 0): 1/2}]\n",
      "[{(3, 2, 1): 1, (7,): 11}, {(3, 2, 1): -2, (7,): 10, (4, 2, 0): -4}, {(5, 1, 0): -5/2, (3, 2, 1): 1/2, (7,): 9/2}, {(5, 1, 0): 2, (7,): 4, (4, 2, 0): 1}]\n",
      "[{(4, 3, 0): 15/4, (6, 1, 0): 9/4, (8,): 65/4, (5, 2, 0): -7/4, (4, 2, 1): 5/2}, {(8,): 12, (4, 3, 0): -4}, {(8,): 11, (5, 2, 0): -5, (4, 2, 1): -3}, {(6, 1, 0): -3, (8,): 5, (4, 2, 1): 1}, {(4, 3, 0): 1/2, (6, 1, 0): 5/2, (5, 2, 0): 3/2, (8,): 9/2}]\n",
      "[{(7, 1, 0): -5, (6, 2, 0): 4, (5, 2, 1): -3, (4, 3, 1): 3, (9,): 21}, {(7, 1, 0): 5/2, (6, 2, 0): -2, (5, 2, 1): 3/2, (4, 3, 1): 5/2, (9,): 35/2}, {(4, 3, 1): -3, (9,): 13, (5, 3, 0): -5}, {(6, 2, 0): -6, (5, 2, 1): -4, (9,): 12}, {(7, 1, 0): -7/2, (5, 2, 1): 3/2, (4, 3, 1): 1/2, (9,): 11/2}, {(7, 1, 0): 3, (6, 2, 0): 2, (5, 3, 0): 1, (9,): 5}]\n",
      "[{(6, 3, 0): 6, (5, 4, 0): 7, (8, 1, 0): -9, (5, 3, 1): -1, (10,): 28}, {(6, 3, 0): -4, (5, 4, 0): 6, (8, 1, 0): 6, (5, 3, 1): 6, (10,): 24}, {(8, 1, 0): -11/2, (4, 3, 2): 3/2, (5, 4, 0): -15/2, (7, 2, 0): 9/2, (6, 2, 1): -7/2, (10,): 45/2}, {(8, 1, 0): 11/4, (4, 3, 2): 5/4, (5, 4, 0): -25/4, (7, 2, 0): -9/4, (6, 2, 1): 7/4, (10,): 75/4}, {(6, 3, 0): -6, (4, 3, 2): -2, (5, 3, 1): -4, (10,): 14}, {(4, 3, 2): 1, (7, 2, 0): -7, (10,): 13, (6, 2, 1): -5}, {(8, 1, 0): -4, (5, 3, 1): 1, (10,): 6, (6, 2, 1): 2}, {(6, 3, 0): 3/2, (8, 1, 0): 7/2, (5, 4, 0): 1/2, (7, 2, 0): 5/2, (10,): 11/2}]\n",
      "[{(6, 4, 0): 16, (11,): 36, (6, 3, 1): 4, (5, 4, 1): -6, (9, 1, 0): -14}, {(7, 3, 0): 27/4, (11,): 119/4, (9, 1, 0): -39/4, (6, 3, 1): -21/4, (5, 4, 1): 21/4, (5, 3, 2): 7/4}, {(7, 3, 0): -9/2, (11,): 51/2, (9, 1, 0): 13/2, (6, 3, 1): 7/2, (5, 4, 1): 9/2, (5, 3, 2): 3/2}, {(6, 4, 0): -9, (8, 2, 0): 5, (11,): 24, (5, 4, 1): -6, (7, 2, 1): -4, (9, 1, 0): -6}, {(6, 4, 0): -15/2, (8, 2, 0): -5/2, (11,): 20, (5, 4, 1): -5, (7, 2, 1): 2, (9, 1, 0): 3}, {(7, 3, 0): -7, (11,): 15, (5, 3, 2): -3, (6, 3, 1): -5}, {(11,): 14, (8, 2, 0): -8, (7, 2, 1): -6, (5, 3, 2): 2}, {(11,): 13/2, (6, 3, 1): 3/2, (5, 4, 1): 1/2, (7, 2, 1): 5/2, (9, 1, 0): -9/2}, {(6, 4, 0): 1, (7, 3, 0): 2, (8, 2, 0): 3, (11,): 6, (9, 1, 0): 4}]\n",
      "[{(12,): 100, (5, 4, 2): -12, (4, 3, 2, 1, 0): 8, (8, 2, 1): -12, (7, 4, 0): 40, (6, 3, 2): -8, (7, 3, 1): 20, (9, 2, 0): -28}, {(12,): 171/2, (6, 5, 0): 45/2, (4, 3, 2, 1, 0): -9/2, (8, 3, 0): 33/2, (6, 3, 2): -6, (9, 2, 0): -39/2, (6, 4, 1): 27/2}, {(12,): 38, (6, 5, 0): 10, (4, 3, 2, 1, 0): -1, (7, 4, 0): 9, (6, 3, 2): 2, (10, 1, 0): -15, (6, 4, 1): -1}, {(12,): 133/4, (6, 5, 0): 35/4, (4, 3, 2, 1, 0): 3/2, (7, 4, 0): -27/4, (6, 3, 2): 7/2, (10, 1, 0): 45/4, (8, 3, 0): -11/4, (6, 4, 1): 21/2, (9, 2, 0): 13/4}, {(12,): 63/2, (5, 4, 2): 7/2, (7, 3, 1): -6, (6, 5, 0): -21/2, (4, 3, 2, 1, 0): 3/2, (8, 3, 0): 15/2, (10, 1, 0): -21/2}, {(12,): 27, (5, 4, 2): 3, (7, 3, 1): 4, (6, 5, 0): -9, (4, 3, 2, 1, 0): -1, (8, 3, 0): -5, (10, 1, 0): 7}, {(12,): 51/2, (5, 4, 2): -9/2, (4, 3, 2, 1, 0): -1/2, (8, 2, 1): -9/2, (7, 4, 0): -21/2, (10, 1, 0): -13/2, (6, 4, 1): -15/2, (9, 2, 0): 11/2}, {(12,): 85/4, (5, 4, 2): -15/4, (4, 3, 2, 1, 0): 1/4, (8, 2, 1): 9/4, (7, 4, 0): -35/4, (10, 1, 0): 13/4, (6, 4, 1): -25/4, (9, 2, 0): -11/4}, {(12,): 16, (8, 3, 0): -8, (6, 3, 2): -4, (7, 3, 1): -6}, {(12,): 15, (5, 4, 2): 1, (8, 2, 1): -7, (6, 3, 2): 3, (9, 2, 0): -9}, {(12,): 7, (10, 1, 0): -5, (8, 2, 1): 3, (6, 4, 1): 1, (7, 3, 1): 2}, {(12,): 13/2, (6, 5, 0): 1/2, (7, 4, 0): 3/2, (8, 3, 0): 5/2, (9, 2, 0): 7/2, (10, 1, 0): 9/2}]\n",
      "[{(7, 3, 2): 10, (7, 4, 1): 33/2, (5, 3, 2, 1, 0): -5/2, (9, 2, 1): 13/2, (13,): 231/2, (8, 3, 1): -11/2, (7, 5, 0): 55/2}, {(7, 3, 2): -4, (7, 4, 1): 15, (5, 3, 2, 1, 0): 5, (13,): 105, (10, 2, 0): -30, (8, 3, 1): 11, (7, 5, 0): 25, (6, 4, 2): -14, (9, 2, 1): -13, (8, 4, 0): 22}, {(7, 3, 2): 9/2, (7, 4, 1): 27/4, (5, 3, 2, 1, 0): -5/2, (8, 3, 1): -11/4, (7, 5, 0): 45/2, (9, 2, 1): 13/4, (6, 5, 1): -35/4, (13,): 189/4, (11, 1, 0): -85/4}, {(7, 3, 2): -12, (9, 3, 0): 18, (5, 3, 2, 1, 0): -6, (6, 5, 1): 18, (10, 2, 0): -21, (13,): 90, (6, 4, 2): 9}, {(7, 4, 1): -8, (6, 5, 1): 8, (13,): 40, (11, 1, 0): -16, (6, 4, 2): 4, (8, 4, 0): 10}, {(7, 3, 2): 2, (7, 4, 1): 6, (5, 3, 2, 1, 0): 1, (10, 2, 0): 7/2, (6, 4, 2): 7/2, (9, 3, 0): -3, (6, 5, 1): 7, (13,): 35, (11, 1, 0): 12, (8, 4, 0): -15/2}, {(5, 3, 2, 1, 0): 9/4, (8, 3, 1): -27/4, (7, 5, 0): -49/4, (9, 3, 0): 33/4, (5, 4, 3): 7/4, (6, 5, 1): -35/4, (13,): 133/4, (11, 1, 0): -45/4}, {(5, 3, 2, 1, 0): -3/2, (8, 3, 1): 9/2, (7, 5, 0): -21/2, (9, 3, 0): -11/2, (5, 4, 3): 3/2, (6, 5, 1): -15/2, (13,): 57/2, (11, 1, 0): 15/2}, {(7, 4, 1): -9, (5, 3, 2, 1, 0): -1, (10, 2, 0): 6, (6, 4, 2): -6, (9, 2, 1): -5, (5, 4, 3): -3, (13,): 27, (11, 1, 0): -7, (8, 4, 0): -12}, {(7, 4, 1): -15/2, (5, 3, 2, 1, 0): 1/2, (10, 2, 0): -3, (6, 4, 2): -5, (9, 2, 1): 5/2, (5, 4, 3): -5/2, (13,): 45/2, (11, 1, 0): 7/2, (8, 4, 0): -10}, {(7, 3, 2): -5, (8, 3, 1): -7, (5, 4, 3): 1, (13,): 17, (9, 3, 0): -9}, {(7, 3, 2): 4, (9, 2, 1): -8, (10, 2, 0): -10, (13,): 16, (6, 4, 2): 2}, {(7, 4, 1): 3/2, (13,): 15/2, (9, 2, 1): 7/2, (6, 5, 1): 1/2, (8, 3, 1): 5/2, (11, 1, 0): -11/2}, {(7, 5, 0): 1, (10, 2, 0): 4, (13,): 7, (11, 1, 0): 5, (9, 3, 0): 3, (8, 4, 0): 2}]\n",
      "[{(9, 4, 0): 26, (8, 3, 2): 6, (10, 3, 0): -30, (6, 4, 3): -14, (14,): 138, (8, 5, 0): 30, (8, 4, 1): 18}, {(8, 3, 2): 11/2, (5, 4, 2, 1, 0): 15, (14,): 253/2, (8, 4, 1): 33, (6, 5, 2): -35/2, (7, 4, 2): -27/2, (10, 2, 1): -45/2, (8, 5, 0): 55, (11, 2, 0): -85/2}, {(8, 3, 2): 5, (7, 4, 2): 11, (7, 5, 1): 22, (6, 3, 2, 1, 0): -3, (9, 3, 1): -6, (10, 2, 1): 7, (14,): 121, (7, 6, 0): 33}, {(8, 3, 2): -10, (7, 5, 1): 20, (5, 4, 2, 1, 0): -8, (14,): 110, (7, 6, 0): 30, (9, 4, 0): 24, (7, 4, 2): -6, (6, 3, 2, 1, 0): 6, (10, 2, 1): -14, (11, 2, 0): -32, (9, 3, 1): 12}, {(8, 3, 2): 5/2, (7, 5, 1): -1, (12, 1, 0): -45/2, (10, 2, 1): 7/2, (14,): 99/2, (7, 6, 0): 27/2, (7, 4, 2): 9/2, (6, 3, 2, 1, 0): -3/2, (5, 4, 2, 1, 0): -5/2, (8, 5, 0): 25/2, (9, 3, 1): -3}, {(7, 5, 1): 16, (12, 1, 0): 18, (14,): 44, (7, 6, 0): 12, (9, 4, 0): -6, (7, 4, 2): 8, (5, 4, 2, 1, 0): 4, (8, 5, 0): -10, (11, 2, 0): 8}, {(8, 3, 2): -27/2, (6, 4, 3): 9/2, (14,): 189/2, (7, 6, 0): -63/2, (6, 5, 2): 27/2, (10, 3, 0): 39/2, (6, 3, 2, 1, 0): -15/2, (11, 2, 0): -45/2}, {(12, 1, 0): -17, (6, 4, 3): 2, (14,): 42, (8, 4, 1): -9, (7, 6, 0): -14, (9, 4, 0): 11, (6, 5, 2): 6, (5, 4, 2, 1, 0): 3}, {(8, 3, 2): 9/4, (6, 4, 3): 7/4, (12, 1, 0): 51/4, (8, 4, 1): 27/4, (14,): 147/4, (7, 6, 0): -49/4, (9, 4, 0): -33/4, (6, 5, 2): 21/4, (10, 3, 0): -13/4, (6, 3, 2, 1, 0): 5/4, (5, 4, 2, 1, 0): -9/4, (11, 2, 0): 15/4}, {(7, 5, 1): -21/2, (12, 1, 0): -12, (14,): 35, (6, 5, 2): -7, (10, 3, 0): 9, (6, 3, 2, 1, 0): 3, (8, 5, 0): -14, (9, 3, 1): -15/2}, {(7, 5, 1): -9, (12, 1, 0): 8, (14,): 30, (6, 5, 2): -6, (10, 3, 0): -6, (6, 3, 2, 1, 0): -2, (8, 5, 0): -12, (9, 3, 1): 5}, {(12, 1, 0): -15/2, (6, 4, 3): -9/2, (5, 4, 2, 1, 0): -1/2, (14,): 57/2, (8, 4, 1): -21/2, (9, 4, 0): -27/2, (7, 4, 2): -15/2, (6, 3, 2, 1, 0): -3/2, (10, 2, 1): -11/2, (11, 2, 0): 13/2}, {(12, 1, 0): 15/4, (6, 4, 3): -15/4, (5, 4, 2, 1, 0): 1/4, (14,): 95/4, (8, 4, 1): -35/4, (9, 4, 0): -45/4, (7, 4, 2): -25/4, (6, 3, 2, 1, 0): 3/4, (10, 2, 1): 11/4, (11, 2, 0): -13/4}, {(10, 3, 0): -10, (8, 3, 2): -6, (6, 4, 3): 2, (14,): 18, (9, 3, 1): -8}, {(6, 5, 2): 1, (8, 3, 2): 5, (7, 4, 2): 3, (10, 2, 1): -9, (14,): 17, (11, 2, 0): -11}, {(9, 3, 1): 3, (7, 5, 1): 1, (12, 1, 0): -6, (10, 2, 1): 4, (14,): 8, (8, 4, 1): 2}, {(9, 4, 0): 5/2, (10, 3, 0): 7/2, (12, 1, 0): 11/2, (14,): 15/2, (8, 5, 0): 3/2, (11, 2, 0): 9/2, (7, 6, 0): 1/2}]\n",
      "[{(11, 3, 0): -85/2, (9, 4, 1): 39, (9, 5, 0): 65, (15,): 325/2, (6, 5, 3): -35/2, (10, 3, 1): -45/2, (7, 4, 3): -27/2, (5, 4, 3, 1, 0): 15, (9, 3, 2): 13/2}, {(8, 6, 0): 75/2, (11, 3, 0): 30, (9, 4, 1): -15, (9, 5, 0): 21/2, (10, 4, 0): -105/4, (7, 6, 1): 9, (5, 4, 3, 1, 0): 15/2, (8, 5, 1): 65/2, (11, 2, 1): 20, (13, 1, 0): 45/2, (7, 5, 2): -7, (12, 2, 0): -63/4, (8, 4, 2): 115/4, (15,): 195, (7, 4, 3): 15, (6, 4, 2, 1, 0): -21/4}, {(8, 6, 0): 36, (11, 3, 0): -32, (15,): 144, (8, 4, 2): 12, (10, 4, 0): 28, (5, 4, 3, 1, 0): -8, (7, 4, 3): -16, (8, 5, 1): 24}, {(8, 6, 0): 33, (9, 4, 1): 18, (9, 5, 0): 30, (8, 4, 2): -4, (15,): 132, (8, 5, 1): 22, (11, 2, 1): -24, (6, 4, 2, 1, 0): 9, (7, 5, 2): -20, (12, 2, 0): -45}, {(8, 6, 0): 30, (9, 4, 1): -6, (15,): 60, (8, 4, 2): 10, (7, 6, 1): -12, (8, 5, 1): 10, (11, 2, 1): 8, (6, 4, 2, 1, 0): -6, (13, 1, 0): -30}, {(15,): 253/2, (7, 6, 1): 55/2, (10, 3, 1): -13/2, (7, 4, 3): 11/2, (11, 2, 1): 15/2, (7, 5, 2): 33/2, (9, 3, 2): 11/2, (7, 3, 2, 1, 0): -7/2}, {(15,): 115, (8, 4, 2): -18, (10, 4, 0): 26, (7, 6, 1): 25, (10, 3, 1): 13, (7, 4, 3): 5, (11, 2, 1): -15, (6, 4, 2, 1, 0): -10, (7, 5, 2): 15, (9, 3, 2): -11, (12, 2, 0): -34, (7, 3, 2, 1, 0): 7}, {(9, 5, 0): 55/4, (15,): 207/4, (7, 6, 1): 45/4, (5, 4, 3, 1, 0): -5/4, (7, 4, 3): 9/4, (10, 3, 1): -13/4, (8, 5, 1): -45/4, (11, 2, 1): 15/4, (9, 3, 2): 11/4, (13, 1, 0): -95/4, (7, 5, 2): 27/4, (7, 3, 2, 1, 0): -7/4}, {(9, 5, 0): -11, (15,): 46, (8, 4, 2): 9/2, (10, 4, 0): -13/2, (7, 6, 1): 10, (5, 4, 3, 1, 0): 1, (7, 4, 3): 2, (8, 5, 1): 9, (6, 4, 2, 1, 0): 5/2, (13, 1, 0): 19, (7, 5, 2): 6, (12, 2, 0): 17/2}, {(8, 6, 0): -36, (11, 3, 0): 21, (15,): 99, (7, 6, 1): -27, (6, 5, 3): 9, (9, 3, 2): -15, (12, 2, 0): -24, (7, 3, 2, 1, 0): -9}, {(8, 6, 0): -16, (9, 4, 1): -10, (15,): 44, (10, 4, 0): 12, (7, 6, 1): -12, (6, 5, 3): 4, (5, 4, 3, 1, 0): 2, (6, 4, 2, 1, 0): 4, (13, 1, 0): -18}, {(8, 6, 0): -14, (11, 3, 0): -7/2, (9, 4, 1): 15/2, (15,): 77/2, (10, 4, 0): -9, (7, 6, 1): -21/2, (6, 5, 3): 7/2, (5, 4, 3, 1, 0): -3/2, (6, 4, 2, 1, 0): -3, (13, 1, 0): 27/2, (9, 3, 2): 5/2, (12, 2, 0): 4, (7, 3, 2, 1, 0): 3/2}, {(11, 3, 0): 39/4, (9, 5, 0): -63/4, (15,): 147/4, (6, 5, 3): -21/4, (5, 4, 3, 1, 0): -3/4, (10, 3, 1): -33/4, (8, 5, 1): -49/4, (13, 1, 0): -51/4, (7, 5, 2): -35/4, (7, 3, 2, 1, 0): 15/4}, {(11, 3, 0): -13/2, (9, 5, 0): -27/2, (15,): 63/2, (6, 5, 3): -9/2, (5, 4, 3, 1, 0): 1/2, (10, 3, 1): 11/2, (8, 5, 1): -21/2, (13, 1, 0): 17/2, (7, 5, 2): -15/2, (7, 3, 2, 1, 0): -5/2}, {(9, 4, 1): -12, (15,): 30, (8, 4, 2): -9, (10, 4, 0): -15, (12, 2, 0): 7, (7, 4, 3): -6, (11, 2, 1): -6, (6, 4, 2, 1, 0): -1, (13, 1, 0): -8, (7, 3, 2, 1, 0): -2}, {(9, 4, 1): -10, (15,): 25, (8, 4, 2): -15/2, (10, 4, 0): -25/2, (12, 2, 0): -7/2, (7, 4, 3): -5, (11, 2, 1): 3, (6, 4, 2, 1, 0): 1/2, (13, 1, 0): 4, (7, 3, 2, 1, 0): 1}, {(11, 3, 0): -11, (10, 3, 1): -9, (15,): 19, (9, 3, 2): -7, (6, 5, 3): 1, (7, 4, 3): 3}, {(11, 2, 1): -10, (15,): 18, (8, 4, 2): 4, (7, 5, 2): 2, (9, 3, 2): 6, (12, 2, 0): -12}, {(11, 2, 1): 9/2, (9, 4, 1): 5/2, (15,): 17/2, (13, 1, 0): -13/2, (7, 6, 1): 1/2, (10, 3, 1): 7/2, (8, 5, 1): 3/2}, {(8, 6, 0): 1, (11, 3, 0): 4, (13, 1, 0): 6, (9, 5, 0): 2, (15,): 8, (10, 4, 0): 3, (12, 2, 0): 5}]\n",
      "[{(10, 5, 0): 225/2, (8, 6, 1): 77/2, (8, 7, 0): -99/2, (11, 4, 0): -255/4, (8, 4, 3): 33/4, (14, 1, 0): -253/4, (9, 4, 2): -39/4, (7, 6, 2): -63/2, (10, 3, 2): 45/2, (10, 4, 1): 135/4, (6, 5, 2, 1, 0): -35/4, (5, 4, 3, 2, 0): -15/2, (13, 2, 0): 189/4, (8, 3, 2, 1, 0): -11/4, (7, 4, 2, 1, 0): -27/4, (12, 2, 1): -133/4, (16,): 1215/4, (6, 5, 4): -105/4}, {(9, 6, 0): 39, (11, 3, 1): 24, (6, 4, 3, 1, 0): -9, (8, 7, 0): 25, (8, 4, 3): 15, (14, 1, 0): -55, (7, 6, 2): 16, (9, 4, 2): 21, (9, 5, 1): 60, (10, 4, 1): -21, (6, 5, 2, 1, 0): 1, (8, 5, 2): -15, (13, 2, 0): 40, (7, 4, 2, 1, 0): -5, (12, 2, 1): -27, (16,): 273}, {(9, 6, 0): 129/2, (11, 3, 1): 20, (6, 4, 3, 1, 0): -15/2, (8, 7, 0): -25/2, (8, 4, 3): 25/2, (14, 1, 0): 55/2, (7, 6, 2): -8, (9, 4, 2): 35/2, (9, 5, 1): 26, (10, 4, 1): -35/2, (6, 5, 2, 1, 0): -1/2, (8, 5, 2): 15/2, (13, 2, 0): -20, (7, 4, 2, 1, 0): 5/2, (12, 2, 1): 27/2, (16,): 455/2}, {(10, 4, 1): 21, (16,): 169, (5, 4, 3, 2, 0): 5, (9, 6, 0): 39, (10, 5, 0): 35, (9, 5, 1): 26, (7, 5, 3): -20, (11, 3, 1): -24, (6, 4, 3, 1, 0): 9, (8, 4, 3): -15, (9, 4, 2): 13, (12, 3, 0): -45}, {(6, 5, 2, 1, 0): 24, (9, 6, 0): 72, (8, 5, 2): -20, (13, 2, 0): -60, (12, 2, 1): -36, (16,): 156, (7, 6, 2): -24, (9, 4, 2): 12, (9, 5, 1): 48}, {(9, 6, 0): -99/8, (10, 5, 0): 91/8, (8, 6, 1): 203/4, (6, 4, 3, 1, 0): 21/2, (8, 7, 0): 455/8, (11, 4, 0): -225/8, (8, 4, 3): 25, (14, 1, 0): 189/8, (9, 4, 2): 55/4, (12, 3, 0): 255/8, (10, 4, 1): -65/4, (6, 5, 2, 1, 0): -1, (5, 4, 3, 2, 0): 19/4, (8, 5, 2): 33/2, (13, 2, 0): -133/8, (7, 4, 2, 1, 0): -35/4, (12, 2, 1): 85/4, (16,): 1625/8}, {(5, 4, 3, 2, 0): -6, (8, 5, 2): 18, (12, 3, 0): -34, (8, 6, 1): 30, (6, 4, 3, 1, 0): -10, (8, 7, 0): 42, (11, 4, 0): 30, (8, 4, 3): -12, (16,): 150}, {(10, 4, 1): 39/2, (6, 5, 2, 1, 0): -25/2, (5, 4, 3, 2, 0): -5/2, (8, 5, 2): -6, (10, 5, 0): 65/2, (13, 2, 0): -95/2, (8, 6, 1): 55/2, (7, 4, 2, 1, 0): 21/2, (8, 7, 0): 77/2, (12, 2, 1): -51/2, (8, 4, 3): 11/2, (9, 4, 2): -33/2, (16,): 275/2}, {(10, 4, 1): -13/2, (6, 5, 2, 1, 0): -9/2, (9, 6, 0): 33/2, (8, 5, 2): 15/2, (8, 6, 1): -1, (7, 4, 2, 1, 0): -7/2, (6, 4, 3, 1, 0): -3/2, (8, 7, 0): 35/2, (12, 2, 1): 17/2, (8, 4, 3): 5/2, (14, 1, 0): -63/2, (9, 4, 2): 11/2, (16,): 125/2}, {(6, 5, 2, 1, 0): 15/2, (9, 6, 0): -55/4, (5, 4, 3, 2, 0): 3/2, (8, 5, 2): 27/2, (10, 5, 0): -39/4, (13, 2, 0): 57/4, (8, 6, 1): 45/2, (6, 4, 3, 1, 0): 5/2, (8, 7, 0): 63/4, (11, 4, 0): -15/4, (8, 4, 3): 9/2, (16,): 225/4, (14, 1, 0): 105/4, (12, 3, 0): 17/4}, {(7, 5, 3): 11, (8, 3, 2, 1, 0): -4, (11, 3, 1): -7, (12, 2, 1): 8, (8, 7, 0): -44, (16,): 132, (7, 6, 2): 22, (10, 3, 2): 6}, {(5, 4, 3, 2, 0): 4, (13, 2, 0): -36, (7, 5, 3): 10, (8, 3, 2, 1, 0): 8, (7, 4, 2, 1, 0): -12, (12, 2, 1): -16, (8, 7, 0): -40, (11, 3, 1): 14, (16,): 120, (11, 4, 0): 28, (7, 6, 2): 20, (9, 4, 2): -20, (10, 3, 2): -12}, {(16,): 54, (6, 5, 2, 1, 0): 5, (10, 5, 0): 15, (7, 5, 3): 9/2, (8, 3, 2, 1, 0): -2, (11, 3, 1): -7/2, (12, 2, 1): 4, (8, 7, 0): -18, (14, 1, 0): -25, (7, 6, 2): 9, (9, 5, 1): -25/2, (10, 3, 2): 3}, {(7, 6, 2): 8, (6, 5, 2, 1, 0): -4, (5, 4, 3, 2, 0): -1, (13, 2, 0): 9, (10, 5, 0): -12, (7, 5, 3): 4, (7, 4, 2, 1, 0): 3, (8, 7, 0): -16, (11, 4, 0): -7, (16,): 48, (14, 1, 0): 20, (9, 4, 2): 5, (9, 5, 1): 10}, {(9, 6, 0): -81/2, (5, 4, 3, 2, 0): -3/2, (13, 2, 0): -51/2, (12, 3, 0): 45/2, (8, 3, 2, 1, 0): -21/2, (8, 6, 1): -63/2, (16,): 207/2, (7, 6, 2): -45/2, (6, 5, 4): 9/2, (10, 3, 2): -33/2}, {(10, 4, 1): -11, (7, 6, 2): -10, (9, 6, 0): -18, (8, 6, 1): -14, (7, 4, 2, 1, 0): 5, (6, 4, 3, 1, 0): 3, (11, 4, 0): 13, (16,): 46, (14, 1, 0): -19, (6, 5, 4): 2}, {(9, 6, 0): -63/4, (8, 6, 1): -49/4, (6, 4, 3, 1, 0): -9/4, (11, 4, 0): -39/4, (7, 6, 2): -35/4, (14, 1, 0): 57/4, (12, 3, 0): -15/4, (10, 3, 2): 11/4, (10, 4, 1): 33/4, (5, 4, 3, 2, 0): 1/4, (13, 2, 0): 17/4, (8, 3, 2, 1, 0): 7/4, (7, 4, 2, 1, 0): -15/4, (16,): 161/4, (6, 5, 4): 7/4}, {(8, 5, 2): -21/2, (10, 5, 0): -35/2, (9, 5, 1): -14, (7, 5, 3): -7, (8, 3, 2, 1, 0): 9/2, (11, 3, 1): -9, (6, 4, 3, 1, 0): -3/2, (16,): 77/2, (14, 1, 0): -27/2, (6, 5, 4): -7/2, (12, 3, 0): 21/2}, {(8, 5, 2): -9, (10, 5, 0): -15, (9, 5, 1): -12, (7, 5, 3): -6, (8, 3, 2, 1, 0): -3, (11, 3, 1): 6, (6, 4, 3, 1, 0): 1, (16,): 33, (14, 1, 0): 9, (6, 5, 4): -3, (12, 3, 0): -7}, {(10, 4, 1): -27/2, (6, 5, 4): 3/2, (6, 5, 2, 1, 0): -1/2, (13, 2, 0): 15/2, (8, 3, 2, 1, 0): -5/2, (12, 2, 1): -13/2, (7, 4, 2, 1, 0): -3/2, (11, 4, 0): -33/2, (8, 4, 3): -15/2, (14, 1, 0): -17/2, (9, 4, 2): -21/2, (16,): 63/2}, {(10, 4, 1): -45/4, (6, 5, 4): 5/4, (6, 5, 2, 1, 0): 1/4, (13, 2, 0): -15/4, (8, 3, 2, 1, 0): 5/4, (12, 2, 1): 13/4, (7, 4, 2, 1, 0): 3/4, (11, 4, 0): -55/4, (8, 4, 3): -25/4, (14, 1, 0): 17/4, (9, 4, 2): -35/4, (16,): 105/4}, {(7, 5, 3): 2, (11, 3, 1): -10, (8, 4, 3): 4, (12, 3, 0): -12, (16,): 20, (10, 3, 2): -8}, {(12, 2, 1): -11, (16,): 19, (8, 5, 2): 3, (7, 6, 2): 1, (9, 4, 2): 5, (13, 2, 0): -13, (10, 3, 2): 7}, {(10, 4, 1): 3, (8, 6, 1): 1, (11, 3, 1): 4, (12, 2, 1): 5, (16,): 9, (14, 1, 0): -7, (9, 5, 1): 2}, {(9, 6, 0): 3/2, (10, 5, 0): 5/2, (13, 2, 0): 11/2, (8, 7, 0): 1/2, (11, 4, 0): 7/2, (16,): 17/2, (14, 1, 0): 13/2, (12, 3, 0): 9/2}]\n",
      "[{(10, 4, 2): 28, (7, 5, 4): 28, (17,): 392, (6, 4, 3, 2, 0): -6, (8, 4, 2, 1, 0): -9, (11, 5, 0): -56, (12, 4, 0): 63, (10, 5, 1): 63, (10, 6, 0): 42, (15, 1, 0): -108, (8, 7, 1): 36, (13, 3, 0): 60, (7, 6, 3): 24, (6, 5, 3, 1, 0): -9, (12, 3, 1): -9, (5, 4, 3, 2, 1): 1, (8, 5, 3): -5}, {(9, 7, 0): -27, (7, 5, 4): -30, (17,): 315, (7, 5, 2, 1, 0): -9, (6, 4, 3, 2, 0): -9/2, (8, 4, 2, 1, 0): -11/2, (11, 5, 0): 60, (12, 4, 0): -135/2, (9, 6, 1): 21, (5, 4, 3, 2, 1): -3, (15, 1, 0): -66, (10, 5, 1): 45, (8, 7, 1): 22, (10, 6, 0): 135/2, (8, 6, 2): -35/2, (11, 3, 2): 12, (14, 2, 0): 99/2, (9, 4, 3): 9, (10, 4, 2): 12, (13, 2, 1): -35}, {(9, 7, 0): 27/2, (7, 5, 4): -25, (17,): 525/2, (7, 5, 2, 1, 0): 9/2, (6, 4, 3, 2, 0): -15/4, (8, 4, 2, 1, 0): 11/4, (11, 5, 0): 50, (12, 4, 0): -225/4, (9, 6, 1): -21/2, (5, 4, 3, 2, 1): -5/2, (15, 1, 0): 33, (10, 5, 1): 75/2, (8, 7, 1): -11, (10, 6, 0): 225/4, (8, 6, 2): 35/4, (11, 3, 2): 10, (14, 2, 0): -99/4, (9, 4, 3): 15/2, (10, 4, 2): 10, (13, 2, 1): 35/2}, {(10, 5, 1): 56, (10, 4, 2): 28, (10, 6, 0): 84, (11, 3, 2): -16, (13, 3, 0): -60, (17,): 196, (7, 6, 3): -24, (9, 4, 3): -12, (6, 4, 3, 2, 0): 12, (6, 5, 3, 1, 0): 24, (12, 3, 1): -36, (5, 4, 3, 2, 1): 8, (8, 5, 3): -20}, {(7, 4, 3, 1, 0): -13, (9, 7, 0): 101, (17,): 567/2, (7, 5, 2, 1, 0): 3, (6, 4, 3, 2, 0): 2, (9, 6, 1): 105/2, (10, 5, 1): 39/2, (15, 1, 0): -115/2, (10, 6, 0): -26, (8, 7, 1): -45/2, (11, 4, 1): -45/2, (8, 6, 2): 18, (14, 2, 0): 42, (9, 5, 2): 15, (9, 4, 3): 27, (12, 3, 1): 51/2, (5, 4, 3, 2, 1): 3, (13, 2, 1): -57/2}, {(7, 4, 3, 1, 0): -15/2, (9, 7, 0): 95/2, (17,): 945/4, (7, 5, 2, 1, 0): -3/2, (6, 4, 3, 2, 0): -1, (9, 6, 1): 175/4, (10, 5, 1): -39/4, (15, 1, 0): 115/4, (10, 6, 0): 13, (8, 7, 1): 45/4, (11, 4, 1): -75/4, (8, 6, 2): -9, (14, 2, 0): -21, (9, 5, 2): 69/2, (9, 4, 3): 45/2, (12, 3, 1): 85/4, (5, 4, 3, 2, 1): 9/2, (13, 2, 1): 57/4}, {(9, 6, 1): 65/2, (7, 4, 3, 1, 0): 21/2, (11, 4, 1): 45/2, (9, 7, 0): 91/2, (13, 3, 0): -95/2, (9, 5, 2): 39/2, (17,): 351/2, (9, 4, 3): -10, (6, 5, 3, 1, 0): -25/2, (12, 3, 1): -51/2, (11, 5, 0): 75/2, (5, 4, 3, 2, 1): -9/2, (8, 5, 3): -45/2}, {(9, 6, 1): 30, (10, 5, 1): 26, (10, 6, 0): 39, (9, 7, 0): 42, (8, 6, 2): -27, (14, 2, 0): -63, (9, 5, 2): -4, (17,): 162, (7, 5, 2, 1, 0): 14, (9, 4, 3): 6, (6, 4, 3, 2, 0): -3, (5, 4, 3, 2, 1): -2, (13, 2, 1): -38}, {(9, 6, 1): 55/4, (10, 5, 1): -39/4, (7, 4, 3, 1, 0): -7/2, (15, 1, 0): -161/4, (8, 7, 1): -63/4, (11, 4, 1): -15/4, (9, 7, 0): 77/2, (9, 5, 2): 33/2, (17,): 297/4, (7, 5, 2, 1, 0): -21/2, (9, 4, 3): 11/2, (12, 3, 1): 17/4, (5, 4, 3, 2, 1): 3/2, (13, 2, 1): 57/4}, {(7, 4, 3, 1, 0): 45/4, (17,): 845/4, (7, 5, 2, 1, 0): -21/4, (6, 4, 3, 2, 0): 15/2, (8, 4, 2, 1, 0): -10, (11, 5, 0): 49/4, (12, 4, 0): -30, (9, 6, 1): 45/4, (5, 4, 3, 2, 1): -5/2, (15, 1, 0): 99/4, (10, 6, 0): -27/2, (8, 7, 1): 195/4, (11, 4, 1): -35/2, (8, 6, 2): 65/2, (13, 3, 0): 135/4, (9, 5, 2): -35/4, (14, 2, 0): -35/2, (9, 4, 3): 75/4, (6, 5, 3, 1, 0): 9/4, (10, 4, 2): 15, (8, 5, 3): 65/4, (13, 2, 1): 45/2}, {(7, 4, 3, 1, 0): -12, (8, 7, 1): 36, (8, 6, 2): 24, (13, 3, 0): -36, (17,): 156, (9, 4, 3): -20, (6, 4, 3, 2, 0): -8, (8, 5, 3): 12, (12, 4, 0): 32}, {(10, 4, 2): -18, (8, 7, 1): 33, (11, 4, 1): 21, (8, 6, 2): 22, (14, 2, 0): -50, (9, 5, 2): -25, (17,): 143, (7, 5, 2, 1, 0): -15, (8, 4, 2, 1, 0): 12, (11, 5, 0): 35, (5, 4, 3, 2, 1): 3, (8, 5, 3): 11, (13, 2, 1): -27}, {(9, 6, 1): -15, (10, 4, 2): 6, (15, 1, 0): -33, (10, 6, 0): 18, (8, 7, 1): 15, (11, 4, 1): -7, (8, 6, 2): 10, (8, 4, 2, 1, 0): -4, (17,): 65, (6, 5, 3, 1, 0): -3, (5, 4, 3, 2, 1): -1, (8, 5, 3): 5, (13, 2, 1): 9}, {(7, 4, 3, 1, 0): 3/2, (17,): 117/2, (7, 5, 2, 1, 0): 9/2, (6, 4, 3, 2, 0): 1, (11, 5, 0): -21/2, (12, 4, 0): -4, (9, 6, 1): 25/2, (15, 1, 0): 55/2, (10, 6, 0): -15, (8, 7, 1): 27/2, (8, 6, 2): 9, (14, 2, 0): 15, (9, 5, 2): 15/2, (13, 3, 0): 9/2, (9, 4, 3): 5/2, (6, 5, 3, 1, 0): 5/2, (8, 5, 3): 9/2}, {(8, 7, 1): -77/2, (7, 5, 4): 11/2, (9, 7, 0): -99/2, (11, 3, 2): 13/2, (13, 2, 1): 17/2, (17,): 275/2, (7, 6, 3): 33/2, (12, 3, 1): -15/2, (9, 3, 2, 1, 0): -9/2, (5, 4, 3, 2, 1): 1/2}, {(7, 5, 4): 5, (9, 7, 0): -45, (17,): 125, (6, 4, 3, 2, 0): 6, (8, 4, 2, 1, 0): -14, (12, 4, 0): 30, (5, 4, 3, 2, 1): -1, (8, 7, 1): -35, (11, 3, 2): -13, (14, 2, 0): -38, (7, 6, 3): 15, (12, 3, 1): 15, (9, 3, 2, 1, 0): 9, (10, 4, 2): -22, (13, 2, 1): -17}, {(7, 5, 4): 9/4, (9, 7, 0): -81/4, (17,): 225/4, (7, 5, 2, 1, 0): 25/4, (11, 5, 0): 65/4, (10, 5, 1): -55/4, (15, 1, 0): -105/4, (8, 7, 1): -63/4, (11, 3, 2): 13/4, (7, 6, 3): 27/4, (12, 3, 1): -15/4, (9, 3, 2, 1, 0): -9/4, (6, 5, 3, 1, 0): 15/4, (5, 4, 3, 2, 1): 1/4, (13, 2, 1): 17/4}, {(7, 5, 4): 2, (9, 7, 0): -18, (17,): 50, (7, 5, 2, 1, 0): -5, (6, 4, 3, 2, 0): -3/2, (8, 4, 2, 1, 0): 7/2, (11, 5, 0): -13, (12, 4, 0): -15/2, (10, 5, 1): 11, (15, 1, 0): 21, (8, 7, 1): -14, (14, 2, 0): 19/2, (7, 6, 3): 6, (6, 5, 3, 1, 0): -3, (10, 4, 2): 11/2}, {(9, 6, 1): -36, (10, 6, 0): -45, (8, 6, 2): -27, (11, 3, 2): -18, (14, 2, 0): -27, (13, 3, 0): 24, (17,): 108, (7, 6, 3): -18, (6, 4, 3, 2, 0): -3, (9, 3, 2, 1, 0): -12}, {(9, 6, 1): -16, (15, 1, 0): -20, (10, 6, 0): -20, (7, 4, 3, 1, 0): 4, (11, 4, 1): -12, (8, 6, 2): -12, (17,): 48, (7, 6, 3): -8, (8, 4, 2, 1, 0): 6, (12, 4, 0): 14}, {(7, 4, 3, 1, 0): -3, (17,): 42, (6, 4, 3, 2, 0): 1/2, (8, 4, 2, 1, 0): -9/2, (12, 4, 0): -21/2, (9, 6, 1): -14, (10, 6, 0): -35/2, (15, 1, 0): 15, (11, 4, 1): 9, (8, 6, 2): -21/2, (11, 3, 2): 3, (14, 2, 0): 9/2, (13, 3, 0): -4, (7, 6, 3): -7, (9, 3, 2, 1, 0): 2}, {(15, 1, 0): -57/4, (10, 5, 1): -63/4, (7, 4, 3, 1, 0): -9/4, (7, 5, 4): -21/4, (13, 3, 0): 45/4, (9, 5, 2): -49/4, (17,): 161/4, (6, 5, 3, 1, 0): -3/4, (9, 3, 2, 1, 0): 21/4, (11, 5, 0): -77/4, (12, 3, 1): -39/4, (8, 5, 3): -35/4}, {(15, 1, 0): 19/2, (10, 5, 1): -27/2, (7, 4, 3, 1, 0): 3/2, (7, 5, 4): -9/2, (13, 3, 0): -15/2, (9, 5, 2): -21/2, (17,): 69/2, (6, 5, 3, 1, 0): 1/2, (9, 3, 2, 1, 0): -7/2, (11, 5, 0): -33/2, (12, 3, 1): 13/2, (8, 5, 3): -15/2}, {(15, 1, 0): -9, (11, 4, 1): -15, (7, 5, 4): 3, (12, 4, 0): -18, (14, 2, 0): 8, (17,): 33, (7, 5, 2, 1, 0): -1, (9, 4, 3): -9, (8, 4, 2, 1, 0): -2, (10, 4, 2): -12, (13, 2, 1): -7, (9, 3, 2, 1, 0): -3}, {(15, 1, 0): 9/2, (11, 4, 1): -25/2, (7, 5, 4): 5/2, (12, 4, 0): -15, (14, 2, 0): -4, (17,): 55/2, (7, 5, 2, 1, 0): 1/2, (9, 4, 3): -15/2, (8, 4, 2, 1, 0): 1, (10, 4, 2): -10, (13, 2, 1): 7/2, (9, 3, 2, 1, 0): 3/2}, {(17,): 21, (7, 6, 3): 1, (9, 4, 3): 5, (12, 3, 1): -11, (8, 5, 3): 3, (11, 3, 2): -9, (13, 3, 0): -13}, {(17,): 20, (10, 4, 2): 6, (8, 6, 2): 2, (11, 3, 2): 8, (13, 2, 1): -12, (14, 2, 0): -14, (9, 5, 2): 4}, {(9, 6, 1): 3/2, (10, 5, 1): 5/2, (15, 1, 0): -15/2, (8, 7, 1): 1/2, (11, 4, 1): 7/2, (17,): 19/2, (12, 3, 1): 9/2, (13, 2, 1): 11/2}, {(15, 1, 0): 7, (10, 6, 0): 2, (9, 7, 0): 1, (14, 2, 0): 6, (13, 3, 0): 5, (17,): 9, (11, 5, 0): 3, (12, 4, 0): 4}]\n",
      "[{(11, 4, 2): 119/4, (13, 3, 1): -105/2, (7, 4, 3, 2, 0): -27/4, (9, 5, 3): 21/2, (9, 8, 0): -195/4, (9, 4, 2, 1, 0): -39/4, (12, 3, 2): 63/4, (8, 5, 4): 105/4, (11, 6, 0): 357/4, (7, 5, 3, 1, 0): -27/2, (14, 3, 0): 297/4, (6, 5, 4, 1, 0): -63/4, (18,): 1785/4, (9, 7, 1): 39, (10, 7, 0): -189/4, (11, 5, 1): 35/2, (6, 4, 3, 2, 1): 21/4, (16, 1, 0): -507/4, (10, 6, 1): 147/4, (12, 4, 1): 189/4, (6, 5, 3, 2, 0): -21/4, (10, 5, 2): -49/4, (8, 6, 3): -105/4}, {(8, 5, 2, 1, 0): -10, (11, 4, 2): 24, (13, 4, 0): -90, (7, 6, 2, 1, 0): -12, (14, 2, 1): -44, (9, 8, 0): -60, (7, 6, 4): -36, (9, 4, 2, 1, 0): -6, (8, 5, 4): -30, (11, 6, 0): 144, (9, 7, 1): 48, (18,): 360, (8, 7, 2): -40, (11, 5, 1): 96, (16, 1, 0): -78, (12, 4, 1): -54, (6, 5, 4, 1, 0): 36, (15, 2, 0): 60}, {(8, 5, 2, 1, 0): 5, (11, 4, 2): 20, (13, 4, 0): -75, (7, 6, 2, 1, 0): 6, (14, 2, 1): 22, (9, 8, 0): 30, (7, 6, 4): -30, (9, 4, 2, 1, 0): 3, (8, 5, 4): -25, (11, 6, 0): 120, (9, 7, 1): -24, (18,): 300, (8, 7, 2): 20, (11, 5, 1): 80, (16, 1, 0): 39, (12, 4, 1): -45, (6, 5, 4, 1, 0): 30, (15, 2, 0): -30}, {(8, 5, 2, 1, 0): -27/2, (13, 3, 1): -19/2, (13, 4, 0): 133/2, (9, 5, 3): -11/2, (10, 4, 3): 14, (9, 8, 0): 99/2, (8, 5, 4): 63/2, (11, 6, 0): -45, (7, 5, 3, 1, 0): 7/2, (8, 4, 3, 1, 0): -9/2, (14, 3, 0): 63, (6, 5, 4, 1, 0): 35/2, (18,): 406, (12, 5, 0): -119/2, (10, 7, 0): 98, (11, 5, 1): 15/2, (16, 1, 0): -225/2, (10, 6, 1): 70, (6, 5, 3, 2, 0): -9, (10, 5, 2): 42, (8, 6, 3): 27}, {(8, 5, 2, 1, 0): 9, (13, 3, 1): 57, (13, 4, 0): 57, (9, 5, 3): 33, (10, 4, 3): 12, (9, 8, 0): -33, (8, 5, 4): 27, (11, 6, 0): 30, (7, 5, 3, 1, 0): -21, (8, 4, 3, 1, 0): 3, (14, 3, 0): -42, (6, 5, 4, 1, 0): 15, (18,): 348, (12, 5, 0): -51, (10, 7, 0): 84, (11, 5, 1): -45, (16, 1, 0): 75, (10, 6, 1): 60, (6, 5, 3, 2, 0): 6, (10, 5, 2): 36, (8, 6, 3): -18}, {(8, 5, 2, 1, 0): -33/4, (11, 4, 2): -45/4, (13, 4, 0): -285/4, (15, 2, 0): 207/4, (7, 6, 2, 1, 0): 1, (7, 4, 3, 2, 0): -3, (14, 2, 1): -147/4, (10, 4, 3): 21, (9, 8, 0): 121/4, (12, 3, 2): 51/4, (8, 5, 4): -135/4, (8, 4, 3, 1, 0): -11/4, (18,): 1305/4, (12, 5, 0): 255/4, (10, 7, 0): 99/2, (6, 4, 3, 2, 1): -11/2, (9, 6, 2): -77/4, (16, 1, 0): -275/4, (10, 6, 1): 79, (6, 5, 4, 1, 0): -75/4, (10, 5, 2): 135/4, (8, 7, 2): 81/4}, {(8, 5, 2, 1, 0): 33/8, (11, 4, 2): -75/8, (13, 4, 0): -475/8, (15, 2, 0): -207/8, (7, 6, 2, 1, 0): -1/2, (7, 4, 3, 2, 0): -11/2, (14, 2, 1): 147/8, (10, 4, 3): 35/2, (9, 8, 0): -121/8, (12, 3, 2): 85/8, (8, 5, 4): -225/8, (8, 4, 3, 1, 0): 11/8, (18,): 2175/8, (12, 5, 0): 425/8, (10, 7, 0): 321/4, (6, 4, 3, 2, 1): -9/4, (9, 6, 2): 77/8, (16, 1, 0): 275/8, (10, 6, 1): 71/2, (6, 5, 4, 1, 0): -125/8, (10, 5, 2): 225/8, (8, 7, 2): -81/8}, {(13, 3, 1): -38, (11, 4, 2): 15, (7, 4, 3, 2, 0): 7, (9, 5, 3): -22, (10, 4, 3): -6, (12, 3, 2): -17, (11, 6, 0): 45, (7, 5, 3, 1, 0): 14, (14, 3, 0): -63, (18,): 203, (10, 7, 0): 49, (11, 5, 1): 30, (6, 4, 3, 2, 1): 5, (10, 6, 1): 35, (6, 5, 3, 2, 0): 9, (10, 5, 2): 21, (8, 6, 3): -27}, {(11, 4, 2): -15/2, (18,): 377/2, (7, 6, 2, 1, 0): 35, (7, 4, 3, 2, 0): -7, (10, 7, 0): 91, (14, 2, 1): -105/2, (10, 4, 3): 13, (12, 3, 2): 17/2, (6, 4, 3, 2, 1): -5, (9, 6, 2): -55/2, (10, 6, 1): 65, (15, 2, 0): -161/2, (10, 5, 2): 39/2, (8, 7, 2): -63/2}, {(13, 3, 1): 27, (8, 5, 2, 1, 0): 12, (7, 6, 2, 1, 0): 2, (14, 2, 1): -30, (9, 5, 3): 21, (10, 4, 3): 18, (9, 8, 0): 84, (11, 6, 0): -28, (7, 5, 3, 1, 0): -5, (8, 4, 3, 1, 0): -12, (9, 7, 1): 38, (18,): 294, (10, 7, 0): 30, (11, 5, 1): 21, (6, 4, 3, 2, 1): 6, (9, 6, 2): 62, (16, 1, 0): -60, (12, 4, 1): -24, (6, 5, 3, 2, 0): 4, (10, 5, 2): -18, (15, 2, 0): 44}, {(13, 3, 1): 45/2, (8, 5, 2, 1, 0): -6, (7, 6, 2, 1, 0): -1, (14, 2, 1): 15, (9, 5, 3): 35/2, (10, 4, 3): 15, (9, 8, 0): 70, (11, 6, 0): 14, (7, 5, 3, 1, 0): 5/2, (8, 4, 3, 1, 0): -10, (9, 7, 1): 65, (18,): 245, (10, 7, 0): -15, (11, 5, 1): -21/2, (6, 4, 3, 2, 1): 5, (9, 6, 2): 25, (16, 1, 0): 30, (12, 4, 1): -20, (6, 5, 3, 2, 0): -2, (10, 5, 2): 9, (15, 2, 0): -22}, {(13, 3, 1): -27, (18,): 182, (9, 7, 1): 39, (12, 5, 0): 40, (9, 5, 3): -12, (10, 4, 3): -18, (9, 8, 0): 52, (6, 4, 3, 2, 1): -6, (9, 6, 2): 26, (12, 4, 1): 24, (6, 5, 3, 2, 0): -10, (7, 5, 3, 1, 0): -15, (8, 4, 3, 1, 0): 12, (14, 3, 0): -50}, {(8, 5, 2, 1, 0): 16, (18,): 168, (9, 7, 1): 36, (7, 6, 2, 1, 0): -18, (14, 2, 1): -40, (9, 5, 3): 12, (11, 5, 1): 28, (9, 8, 0): 48, (10, 5, 2): -24, (9, 6, 2): -6, (6, 5, 3, 2, 0): -6, (11, 6, 0): 42, (15, 2, 0): -66}, {(13, 3, 1): 9/2, (8, 5, 2, 1, 0): -6, (7, 6, 2, 1, 0): -7, (14, 2, 1): 15, (9, 5, 3): 11/2, (10, 4, 3): 3, (9, 8, 0): 22, (7, 5, 3, 1, 0): -7/2, (8, 4, 3, 1, 0): -2, (9, 7, 1): -1, (18,): 77, (10, 7, 0): 21, (11, 5, 1): -21/2, (6, 4, 3, 2, 1): 1, (16, 1, 0): -42, (9, 6, 2): 11, (12, 4, 1): -4, (10, 5, 2): 9}, {(15, 2, 0): 22, (9, 7, 1): 30, (18,): 70, (12, 5, 0): -8, (7, 6, 2, 1, 0): 12, (10, 7, 0): -18, (9, 5, 3): 10, (9, 8, 0): 20, (9, 6, 2): 20, (16, 1, 0): 36, (6, 5, 3, 2, 0): 4, (11, 6, 0): -14, (7, 5, 3, 1, 0): 6, (14, 3, 0): 10}, {(11, 4, 2): 65/4, (8, 5, 2, 1, 0): -49/8, (13, 4, 0): -255/8, (7, 6, 2, 1, 0): -45/8, (14, 2, 1): 95/4, (7, 4, 3, 2, 0): 75/8, (10, 4, 3): 165/8, (9, 8, 0): -585/8, (9, 4, 2, 1, 0): -45/4, (8, 5, 4): 65/8, (11, 6, 0): -117/8, (8, 4, 3, 1, 0): 105/8, (14, 3, 0): 285/8, (6, 5, 4, 1, 0): 9/8, (18,): 1755/8, (12, 5, 0): 105/8, (8, 7, 2): 325/8, (6, 4, 3, 2, 1): -15/4, (16, 1, 0): 207/8, (10, 6, 1): 99/8, (12, 4, 1): -75/4, (6, 5, 3, 2, 0): 21/8, (10, 5, 2): -77/8, (8, 6, 3): 195/8, (15, 2, 0): -147/8}, {(18,): 162, (13, 4, 0): 34, (7, 4, 3, 2, 0): -10, (10, 4, 3): -22, (9, 8, 0): -54, (8, 5, 4): 6, (14, 3, 0): -38, (8, 6, 3): 18, (8, 4, 3, 1, 0): -14, (8, 7, 2): 30}, {(11, 4, 2): -39/2, (8, 5, 2, 1, 0): -35/2, (15, 2, 0): -105/2, (14, 2, 1): -57/2, (9, 8, 0): -99/2, (9, 4, 2, 1, 0): 27/2, (8, 5, 4): 11/2, (18,): 297/2, (12, 5, 0): 75/2, (6, 4, 3, 2, 1): 9/2, (12, 4, 1): 45/2, (6, 5, 3, 2, 0): 15/2, (10, 5, 2): -55/2, (8, 6, 3): 33/2, (8, 7, 2): 55/2}, {(11, 4, 2): 13/2, (7, 6, 2, 1, 0): 15/2, (14, 2, 1): 19/2, (9, 8, 0): -45/2, (9, 4, 2, 1, 0): -9/2, (8, 5, 4): 5/2, (11, 6, 0): 39/2, (18,): 135/2, (6, 4, 3, 2, 1): -3/2, (16, 1, 0): -69/2, (10, 6, 1): -33/2, (12, 4, 1): -15/2, (6, 5, 4, 1, 0): -3/2, (8, 6, 3): 15/2, (8, 7, 2): 25/2}, {(8, 5, 2, 1, 0): 21/4, (13, 4, 0): -17/4, (7, 6, 2, 1, 0): -25/4, (7, 4, 3, 2, 0): 5/4, (10, 4, 3): 11/4, (9, 8, 0): -81/4, (8, 5, 4): 9/4, (11, 6, 0): -65/4, (8, 4, 3, 1, 0): 7/4, (14, 3, 0): 19/4, (6, 5, 4, 1, 0): 5/4, (18,): 243/4, (12, 5, 0): -45/4, (8, 7, 2): 45/4, (16, 1, 0): 115/4, (10, 6, 1): 55/4, (6, 5, 3, 2, 0): -9/4, (10, 5, 2): 33/4, (8, 6, 3): 27/4, (15, 2, 0): 63/4}, {(13, 3, 1): -8, (9, 7, 1): -44, (18,): 143, (10, 3, 2, 1, 0): -5, (14, 2, 1): 9, (10, 7, 0): -55, (7, 6, 4): 11, (6, 4, 3, 2, 1): 1, (12, 3, 2): 7, (8, 7, 2): -33}, {(13, 3, 1): 16, (11, 4, 2): -24, (13, 4, 0): 32, (7, 4, 3, 2, 0): 8, (14, 2, 1): -18, (7, 6, 4): 10, (9, 4, 2, 1, 0): -16, (12, 3, 2): -14, (9, 7, 1): -40, (10, 3, 2, 1, 0): 10, (18,): 130, (10, 7, 0): -50, (6, 4, 3, 2, 1): -2, (15, 2, 0): -40, (8, 7, 2): -30}, {(13, 3, 1): -4, (8, 5, 2, 1, 0): 15/2, (14, 2, 1): 9/2, (7, 6, 4): 9/2, (12, 3, 2): 7/2, (7, 5, 3, 1, 0): 5, (9, 7, 1): -18, (10, 3, 2, 1, 0): -5/2, (18,): 117/2, (12, 5, 0): 35/2, (10, 7, 0): -45/2, (11, 5, 1): -15, (6, 4, 3, 2, 1): 1/2, (16, 1, 0): -55/2, (6, 5, 4, 1, 0): 5/2, (8, 7, 2): -27/2}, {(11, 4, 2): 6, (8, 5, 2, 1, 0): -6, (13, 4, 0): -8, (15, 2, 0): 10, (7, 4, 3, 2, 0): -2, (7, 6, 4): 4, (9, 4, 2, 1, 0): 4, (7, 5, 3, 1, 0): -4, (9, 7, 1): -16, (18,): 52, (12, 5, 0): -14, (10, 7, 0): -20, (11, 5, 1): 12, (16, 1, 0): 22, (6, 5, 4, 1, 0): -2, (8, 7, 2): -12}, {(15, 2, 0): -57/2, (18,): 225/2, (10, 3, 2, 1, 0): -27/2, (7, 4, 3, 2, 0): -9/2, (7, 6, 4): -27/2, (12, 3, 2): -39/2, (9, 6, 2): -63/2, (10, 6, 1): -81/2, (6, 5, 3, 2, 0): -3/2, (11, 6, 0): -99/2, (8, 6, 3): -45/2, (14, 3, 0): 51/2}, {(18,): 50, (13, 4, 0): 15, (7, 6, 4): -6, (9, 4, 2, 1, 0): 7, (9, 6, 2): -14, (16, 1, 0): -21, (10, 6, 1): -18, (12, 4, 1): -13, (6, 5, 4, 1, 0): -1, (11, 6, 0): -22, (8, 6, 3): -10, (8, 4, 3, 1, 0): 5}, {(13, 4, 0): -45/4, (7, 4, 3, 2, 0): 3/4, (7, 6, 4): -21/4, (9, 4, 2, 1, 0): -21/4, (12, 3, 2): 13/4, (11, 6, 0): -77/4, (8, 4, 3, 1, 0): -15/4, (14, 3, 0): -17/4, (6, 5, 4, 1, 0): 3/4, (18,): 175/4, (10, 3, 2, 1, 0): 9/4, (9, 6, 2): -49/4, (16, 1, 0): 63/4, (10, 6, 1): -63/4, (12, 4, 1): 39/4, (6, 5, 3, 2, 0): 1/4, (8, 6, 3): -35/4, (15, 2, 0): 19/4}, {(13, 3, 1): -21/2, (18,): 42, (10, 3, 2, 1, 0): 6, (12, 5, 0): -21, (9, 5, 3): -21/2, (11, 5, 1): -35/2, (10, 5, 2): -14, (16, 1, 0): -15, (8, 5, 4): -7, (7, 5, 3, 1, 0): -3/2, (8, 4, 3, 1, 0): -3, (14, 3, 0): 12}, {(13, 3, 1): 7, (18,): 36, (10, 3, 2, 1, 0): -4, (12, 5, 0): -18, (9, 5, 3): -9, (11, 5, 1): -15, (10, 5, 2): -12, (16, 1, 0): 10, (8, 5, 4): -6, (7, 5, 3, 1, 0): 1, (8, 4, 3, 1, 0): 2, (14, 3, 0): -8}, {(11, 4, 2): -27/2, (8, 5, 2, 1, 0): -3/2, (18,): 69/2, (10, 3, 2, 1, 0): -7/2, (13, 4, 0): -39/2, (7, 6, 2, 1, 0): -1/2, (14, 2, 1): -15/2, (10, 4, 3): -21/2, (7, 6, 4): 3/2, (9, 4, 2, 1, 0): -5/2, (16, 1, 0): -19/2, (8, 5, 4): 9/2, (12, 4, 1): -33/2, (15, 2, 0): 17/2}, {(11, 4, 2): -45/4, (8, 5, 2, 1, 0): 3/4, (18,): 115/4, (10, 3, 2, 1, 0): 7/4, (13, 4, 0): -65/4, (7, 6, 2, 1, 0): 1/4, (14, 2, 1): 15/4, (10, 4, 3): -35/4, (7, 6, 4): 5/4, (9, 4, 2, 1, 0): 5/4, (16, 1, 0): 19/4, (8, 5, 4): 15/4, (12, 4, 1): -55/4, (15, 2, 0): -17/4}, {(13, 3, 1): -12, (18,): 22, (9, 5, 3): 4, (10, 4, 3): 6, (14, 3, 0): -14, (8, 6, 3): 2, (12, 3, 2): -10}, {(11, 4, 2): 7, (18,): 21, (14, 2, 1): -13, (12, 3, 2): 9, (9, 6, 2): 3, (15, 2, 0): -15, (10, 5, 2): 5, (8, 7, 2): 1}, {(13, 3, 1): 5, (18,): 10, (9, 7, 1): 1, (14, 2, 1): 6, (11, 5, 1): 3, (16, 1, 0): -8, (10, 6, 1): 2, (12, 4, 1): 4}, {(13, 4, 0): 9/2, (18,): 19/2, (12, 5, 0): 7/2, (10, 7, 0): 3/2, (9, 8, 0): 1/2, (16, 1, 0): 15/2, (15, 2, 0): 13/2, (11, 6, 0): 5/2, (14, 3, 0): 11/2}]\n",
      "[{(15, 3, 0): 198, (16, 2, 0): -507/2, (12, 4, 2): 171/2, (6, 5, 3, 2, 1): -12, (9, 6, 3): -36, (12, 5, 1): 171, (10, 6, 2): 42, (10, 8, 0): -231/2, (8, 6, 4): 135/2, (8, 7, 3): -66, (13, 3, 2): -60, (7, 4, 3, 2, 1): -18, (13, 4, 1): 135, (10, 4, 2, 1, 0): 63/2, (7, 6, 5): 90, (9, 4, 3, 1, 0): -27, (8, 4, 3, 2, 0): 6, (11, 3, 2, 1, 0): -36, (12, 6, 0): 54, (6, 5, 4, 2, 0): 45/2, (11, 6, 1): -108, (9, 5, 2, 1, 0): 39, (13, 5, 0): 225, (9, 7, 2): 78, (19,): 1368, (8, 5, 3, 1, 0): -33}, {(15, 3, 0): 90, (11, 5, 2): -28, (12, 4, 2): 63, (12, 5, 1): 63, (7, 6, 3, 1, 0): -18, (10, 8, 0): -105, (8, 7, 3): -60, (7, 4, 3, 2, 1): 12, (9, 5, 4): 21, (10, 4, 2, 1, 0): -21, (7, 6, 5): -42, (9, 4, 3, 1, 0): 9, (8, 4, 3, 2, 0): -15, (11, 3, 2, 1, 0): 12, (12, 6, 0): 189, (6, 5, 4, 2, 0): -21, (14, 3, 1): -66, (13, 5, 0): -105, (10, 7, 1): 84, (19,): 504, (17, 1, 0): -147, (8, 5, 3, 1, 0): -15}, {(11, 5, 2): 54, (6, 5, 3, 2, 1): -6, (9, 6, 3): 22, (19,): 558, (7, 6, 3, 1, 0): -14, (8, 6, 4): 72, (11, 4, 3): 18, (9, 5, 4): -33, (13, 4, 1): -57, (11, 7, 0): 126, (9, 4, 3, 1, 0): -7, (12, 6, 0): -136, (9, 8, 1): 63, (6, 5, 4, 2, 0): -24, (7, 5, 4, 1, 0): 21, (11, 6, 1): 60, (14, 3, 1): 42, (9, 5, 2, 1, 0): -21, (14, 4, 0): 168, (12, 5, 1): 51, (17, 1, 0): -189}, {(15, 3, 0): 621/8, (11, 5, 2): 63/2, (6, 5, 3, 2, 1): 7/2, (9, 6, 3): -231/8, (19,): 3689/8, (10, 5, 3): 91/8, (7, 6, 3, 1, 0): 3/2, (8, 7, 3): 243/8, (11, 4, 3): 119/8, (13, 3, 2): 133/8, (13, 4, 1): 399/8, (9, 5, 4): 231/8, (11, 7, 0): 107/2, (9, 4, 3, 1, 0): -39/8, (9, 8, 1): 351/8, (7, 5, 4, 1, 0): -147/8, (11, 6, 1): 455/4, (14, 3, 1): -441/8, (9, 5, 2, 1, 0): -117/8, (7, 5, 3, 2, 0): -65/4, (12, 5, 1): -357/8, (17, 1, 0): -1053/8}, {(15, 3, 0): -207/4, (11, 5, 2): 27, (6, 5, 3, 2, 1): -9, (9, 6, 3): 77/4, (19,): 1581/4, (10, 5, 3): 39/4, (7, 6, 3, 1, 0): -1, (8, 7, 3): -81/4, (11, 4, 3): 51/4, (13, 3, 2): 57/4, (13, 4, 1): 171/4, (9, 5, 4): 99/4, (11, 7, 0): 123, (9, 4, 3, 1, 0): 13/4, (9, 8, 1): -117/4, (7, 5, 4, 1, 0): -63/4, (11, 6, 1): 75/2, (14, 3, 1): 147/4, (9, 5, 2, 1, 0): 39/4, (7, 5, 3, 2, 0): 3/2, (12, 5, 1): -153/4, (17, 1, 0): 351/4}, {(11, 5, 2): 36, (16, 2, 0): 125/2, (19,): 372, (15, 2, 1): -46, (10, 8, 0): -65/2, (8, 6, 4): -81/2, (11, 4, 3): 12, (7, 4, 3, 2, 1): -2, (9, 5, 4): -33, (13, 4, 1): -57, (11, 7, 0): 84, (8, 4, 3, 2, 0): 5/2, (9, 4, 3, 1, 0): -3, (8, 6, 2, 1, 0): -25/2, (12, 6, 0): 153/2, (9, 8, 1): 27, (6, 5, 4, 2, 0): 27/2, (7, 5, 4, 1, 0): 21, (11, 6, 1): 60, (9, 5, 2, 1, 0): -9, (14, 4, 0): -189/2, (9, 7, 2): -22, (10, 7, 1): 26, (12, 5, 1): 51, (17, 1, 0): -81}, {(11, 5, 2): 30, (16, 2, 0): -125/4, (19,): 310, (15, 2, 1): 23, (10, 8, 0): 65/4, (8, 6, 4): -135/4, (11, 4, 3): 10, (7, 4, 3, 2, 1): 1, (9, 5, 4): -55/2, (13, 4, 1): -95/2, (11, 7, 0): 70, (8, 4, 3, 2, 0): -5/4, (9, 4, 3, 1, 0): 3/2, (8, 6, 2, 1, 0): 25/4, (12, 6, 0): 255/4, (9, 8, 1): -27/2, (6, 5, 4, 2, 0): 45/4, (7, 5, 4, 1, 0): 35/2, (11, 6, 1): 50, (9, 5, 2, 1, 0): 9/2, (14, 4, 0): -315/4, (9, 7, 2): 11, (10, 7, 1): -13, (12, 5, 1): 85/2, (17, 1, 0): 81/2}, {(15, 3, 0): -161/2, (11, 5, 2): 45, (11, 4, 3): 15/2, (9, 6, 3): -55/2, (6, 5, 3, 2, 1): 15, (11, 6, 1): 75, (10, 5, 3): -39/2, (7, 6, 3, 1, 0): 35, (14, 3, 1): -105/2, (7, 5, 3, 2, 0): 21, (8, 7, 3): -63/2, (13, 3, 2): -57/2, (19,): 465/2, (11, 7, 0): 105}, {(15, 3, 0): 66, (9, 6, 3): 30, (6, 5, 3, 2, 1): -2, (19,): 420, (10, 5, 3): 22, (7, 6, 3, 1, 0): 18, (10, 6, 2): 56, (10, 8, 0): 166, (9, 5, 4): 35, (8, 6, 2, 1, 0): -18, (12, 6, 0): -48, (9, 8, 1): -45, (6, 5, 4, 2, 0): 14, (7, 5, 4, 1, 0): 21, (14, 3, 1): -10, (13, 5, 0): -63, (14, 4, 0): 70, (10, 7, 1): 84, (12, 5, 1): 8, (17, 1, 0): -117, (8, 5, 3, 1, 0): -5}, {(15, 3, 0): -44, (9, 6, 3): -20, (6, 5, 3, 2, 1): 12, (19,): 360, (10, 5, 3): 60, (7, 6, 3, 1, 0): -12, (10, 6, 2): 48, (10, 8, 0): 60, (9, 5, 4): 30, (8, 6, 2, 1, 0): 12, (12, 6, 0): 32, (9, 8, 1): 30, (6, 5, 4, 2, 0): 12, (7, 5, 4, 1, 0): 18, (14, 3, 1): 60, (13, 5, 0): -54, (14, 4, 0): 60, (10, 7, 1): 72, (12, 5, 1): -48, (17, 1, 0): 78, (8, 5, 3, 1, 0): -18}, {(16, 2, 0): 54, (12, 4, 2): -12, (6, 5, 3, 2, 1): -7/2, (10, 5, 3): 45/2, (10, 6, 2): 24, (15, 2, 1): -77/2, (10, 8, 0): 123, (13, 3, 2): 27/2, (9, 5, 4): -75/2, (11, 4, 3): 21/2, (7, 4, 3, 2, 1): -9/2, (11, 7, 0): -63/2, (8, 4, 3, 2, 0): -6, (8, 6, 2, 1, 0): 3, (9, 8, 1): -55/2, (6, 5, 4, 2, 0): -15, (7, 5, 4, 1, 0): -45/2, (11, 6, 1): 49/2, (13, 5, 0): 135/2, (14, 4, 0): -75, (9, 7, 2): 45/2, (7, 5, 3, 2, 0): 9/2, (10, 7, 1): 135/2, (19,): 675/2, (17, 1, 0): -143/2, (8, 5, 3, 1, 0): -11/2}, {(16, 2, 0): -27, (12, 4, 2): -10, (6, 5, 3, 2, 1): 7/4, (10, 5, 3): 75/4, (10, 6, 2): 48, (15, 2, 1): 77/4, (10, 8, 0): 117/2, (13, 3, 2): 45/4, (9, 5, 4): -125/4, (11, 4, 3): 35/4, (7, 4, 3, 2, 1): -15/4, (11, 7, 0): 63/4, (8, 4, 3, 2, 0): -5, (8, 6, 2, 1, 0): -3/2, (9, 8, 1): 55/4, (6, 5, 4, 2, 0): -25/2, (7, 5, 4, 1, 0): -75/4, (11, 6, 1): -49/4, (13, 5, 0): 225/4, (14, 4, 0): -125/2, (9, 7, 2): -45/4, (7, 5, 3, 2, 0): -9/4, (10, 7, 1): 225/4, (19,): 1125/4, (17, 1, 0): 143/4, (8, 5, 3, 1, 0): 11/4}, {(15, 3, 0): -66, (12, 4, 2): 16, (9, 6, 3): -30, (6, 5, 3, 2, 1): -8, (19,): 210, (10, 5, 3): -10, (7, 6, 3, 1, 0): -18, (10, 6, 2): 28, (10, 8, 0): 56, (11, 4, 3): -14, (7, 4, 3, 2, 1): 6, (13, 3, 2): -18, (8, 4, 3, 2, 0): 8, (12, 6, 0): 48, (14, 3, 1): -40, (10, 7, 1): 42, (12, 5, 1): 32, (8, 5, 3, 1, 0): 16}, {(16, 2, 0): -84, (12, 4, 2): -8, (6, 5, 3, 2, 1): -5, (10, 5, 3): 13, (10, 6, 2): -4, (15, 2, 1): -55, (10, 8, 0): 52, (11, 4, 3): 7, (7, 4, 3, 2, 1): -3, (13, 3, 2): 9, (11, 7, 0): 49, (8, 4, 3, 2, 0): -4, (8, 6, 2, 1, 0): 20, (11, 6, 1): 35, (9, 7, 2): -35, (7, 5, 3, 2, 0): -7, (10, 7, 1): 39, (19,): 195}, {(8, 6, 2, 1, 0): -16, (9, 8, 1): -20, (6, 5, 3, 2, 1): 4, (11, 6, 1): -14, (10, 5, 3): 12, (19,): 90, (10, 6, 2): 24, (15, 2, 1): 22, (10, 8, 0): 48, (14, 3, 1): 10, (10, 7, 1): 18, (12, 5, 1): -8, (17, 1, 0): -52, (8, 5, 3, 1, 0): -8}, {(11, 5, 2): -39/2, (16, 2, 0): 46, (6, 5, 3, 2, 1): 9/2, (9, 6, 3): 63/2, (19,): 609/2, (7, 6, 3, 1, 0): -15/2, (15, 2, 1): -63/2, (10, 6, 2): 22, (7, 4, 3, 2, 1): 15/2, (9, 5, 4): 21/2, (13, 4, 1): -51/2, (11, 4, 3): 39/2, (11, 7, 0): 65/2, (9, 4, 3, 1, 0): -27/2, (8, 6, 2, 1, 0): 14, (12, 6, 0): -30, (9, 8, 1): 147/2, (6, 5, 4, 2, 0): 2, (7, 5, 4, 1, 0): -5/2, (9, 5, 2, 1, 0): 27/2, (14, 3, 1): 57/2, (9, 7, 2): 105/2, (10, 7, 1): -55/2, (12, 5, 1): 45/2, (17, 1, 0): -125/2}, {(11, 5, 2): 39/4, (16, 2, 0): -23, (6, 5, 3, 2, 1): -9/4, (9, 6, 3): 105/4, (19,): 1015/4, (7, 6, 3, 1, 0): 15/4, (15, 2, 1): 63/4, (10, 6, 2): -11, (7, 4, 3, 2, 1): 25/4, (9, 5, 4): 35/4, (13, 4, 1): -85/4, (11, 4, 3): 65/4, (11, 7, 0): -65/4, (9, 4, 3, 1, 0): -45/4, (8, 6, 2, 1, 0): -7, (12, 6, 0): 15, (9, 8, 1): 245/4, (6, 5, 4, 2, 0): -1, (7, 5, 4, 1, 0): 5/4, (9, 5, 2, 1, 0): -27/4, (14, 3, 1): 95/4, (9, 7, 2): 175/4, (10, 7, 1): 55/4, (12, 5, 1): -45/4, (17, 1, 0): 125/4}, {(15, 3, 0): -105/2, (9, 6, 3): 39/2, (10, 5, 3): -55/2, (7, 4, 3, 2, 1): -15/2, (11, 4, 3): -39/2, (9, 5, 4): 13/2, (13, 4, 1): 51/2, (9, 4, 3, 1, 0): 27/2, (9, 8, 1): 91/2, (14, 3, 1): -57/2, (13, 5, 0): 85/2, (9, 7, 2): 65/2, (7, 5, 3, 2, 0): -25/2, (19,): 377/2, (8, 5, 3, 1, 0): -35/2}, {(11, 5, 2): -26, (16, 2, 0): -69, (9, 6, 3): 18, (6, 5, 3, 2, 1): 6, (12, 5, 1): 30, (15, 2, 1): -42, (10, 6, 2): -33, (9, 5, 4): 6, (8, 6, 2, 1, 0): -21, (12, 6, 0): 45, (9, 8, 1): 42, (6, 5, 4, 2, 0): -3, (9, 5, 2, 1, 0): 18, (9, 7, 2): 30, (19,): 174}, {(11, 5, 2): 39/4, (9, 6, 3): 33/4, (6, 5, 3, 2, 1): -9/4, (19,): 319/4, (7, 6, 3, 1, 0): -21/4, (15, 2, 1): 63/4, (11, 4, 3): 13/4, (9, 5, 4): 11/4, (7, 4, 3, 2, 1): 5/4, (13, 4, 1): -17/4, (11, 7, 0): 91/4, (9, 4, 3, 1, 0): -9/4, (9, 8, 1): 77/4, (7, 5, 4, 1, 0): -7/4, (9, 5, 2, 1, 0): -27/4, (14, 3, 1): 19/4, (9, 7, 2): 55/4, (10, 7, 1): -77/4, (12, 5, 1): -45/4, (17, 1, 0): -175/4}, {(15, 3, 0): 21/2, (16, 2, 0): 23, (9, 6, 3): 15/2, (10, 5, 3): 11/2, (7, 6, 3, 1, 0): 9/2, (10, 6, 2): 11, (9, 5, 4): 5/2, (11, 7, 0): -39/2, (8, 6, 2, 1, 0): 7, (12, 6, 0): -15, (9, 8, 1): 35/2, (6, 5, 4, 2, 0): 1, (7, 5, 4, 1, 0): 3/2, (13, 5, 0): -17/2, (9, 7, 2): 25/2, (7, 5, 3, 2, 0): 5/2, (10, 7, 1): 33/2, (19,): 145/2, (17, 1, 0): 75/2, (8, 5, 3, 1, 0): 7/2}, {(15, 3, 0): 75/2, (11, 5, 2): -21/2, (16, 2, 0): -77/4, (12, 4, 2): 35/2, (7, 6, 3, 1, 0): -9/2, (15, 2, 1): 25, (10, 8, 0): -325/4, (8, 6, 4): 65/4, (8, 7, 3): 65/2, (11, 4, 3): 45/2, (7, 4, 3, 2, 1): -5, (13, 4, 1): -20, (10, 4, 2, 1, 0): -25/2, (9, 4, 3, 1, 0): 15, (8, 4, 3, 2, 0): 45/4, (8, 6, 2, 1, 0): -27/4, (12, 6, 0): -63/4, (9, 8, 1): -65, (6, 5, 4, 2, 0): 7/4, (11, 6, 1): 27/2, (9, 5, 2, 1, 0): -7, (13, 5, 0): 14, (14, 4, 0): -135/4, (7, 5, 3, 2, 0): 7/2, (19,): 455/2, (17, 1, 0): 27}, {(9, 4, 3, 1, 0): -16, (8, 4, 3, 2, 0): -12, (15, 3, 0): -40, (9, 8, 1): -48, (10, 8, 0): -60, (14, 4, 0): 36, (8, 6, 4): 12, (8, 7, 3): 24, (11, 4, 3): -24, (19,): 168}, {(11, 5, 2): -30, (16, 2, 0): -55, (12, 4, 2): -21, (15, 2, 1): -30, (10, 8, 0): -55, (8, 6, 4): 11, (8, 7, 3): 22, (7, 4, 3, 2, 1): 6, (10, 4, 2, 1, 0): 15, (13, 4, 1): 24, (9, 8, 1): -44, (6, 5, 4, 2, 0): 5, (9, 5, 2, 1, 0): -20, (13, 5, 0): 40, (7, 5, 3, 2, 0): 10, (19,): 154}, {(12, 4, 2): 7, (7, 6, 3, 1, 0): 6, (15, 2, 1): 10, (10, 8, 0): -25, (8, 6, 4): 5, (8, 7, 3): 10, (7, 4, 3, 2, 1): -2, (10, 4, 2, 1, 0): -5, (13, 4, 1): -8, (8, 6, 2, 1, 0): 9, (12, 6, 0): 21, (9, 8, 1): -20, (11, 6, 1): -18, (19,): 70, (17, 1, 0): -36}, {(15, 3, 0): 5, (11, 5, 2): 9, (16, 2, 0): 33/2, (7, 6, 3, 1, 0): -5, (10, 8, 0): -45/2, (8, 6, 4): 9/2, (8, 7, 3): 9, (11, 4, 3): 3, (9, 4, 3, 1, 0): 2, (8, 4, 3, 2, 0): 3/2, (8, 6, 2, 1, 0): -15/2, (12, 6, 0): -35/2, (9, 8, 1): -18, (6, 5, 4, 2, 0): -3/2, (11, 6, 1): 15, (9, 5, 2, 1, 0): 6, (13, 5, 0): -12, (14, 4, 0): -9/2, (7, 5, 3, 2, 0): -3, (19,): 63, (17, 1, 0): 30}, {(11, 3, 2, 1, 0): -11/2, (6, 5, 3, 2, 1): 1/2, (13, 3, 2): 15/2, (15, 2, 1): 19/2, (14, 3, 1): -17/2, (9, 7, 2): -77/2, (8, 7, 3): -55/2, (7, 4, 3, 2, 1): 3/2, (10, 7, 1): -99/2, (19,): 297/2, (11, 7, 0): -121/2, (7, 6, 5): 11/2}, {(16, 2, 0): -42, (12, 4, 2): -26, (6, 5, 3, 2, 1): -1, (15, 2, 1): -19, (8, 7, 3): -25, (7, 4, 3, 2, 1): -3, (13, 3, 2): -15, (10, 4, 2, 1, 0): -18, (11, 7, 0): -55, (7, 6, 5): 5, (8, 4, 3, 2, 0): 10, (11, 3, 2, 1, 0): 11, (6, 5, 4, 2, 0): -2, (14, 3, 1): 17, (14, 4, 0): 34, (9, 7, 2): -35, (10, 7, 1): -45, (19,): 135}, {(6, 5, 3, 2, 1): 1/4, (12, 5, 1): -65/4, (15, 2, 1): 19/4, (8, 7, 3): -45/4, (7, 4, 3, 2, 1): 3/4, (13, 3, 2): 15/4, (11, 7, 0): -99/4, (7, 6, 5): 9/4, (11, 3, 2, 1, 0): -11/4, (7, 5, 4, 1, 0): 15/4, (14, 3, 1): -17/4, (9, 5, 2, 1, 0): 35/4, (13, 5, 0): 75/4, (9, 7, 2): -63/4, (10, 7, 1): -81/4, (19,): 243/4, (17, 1, 0): -115/4, (8, 5, 3, 1, 0): 25/4}, {(16, 2, 0): 21/2, (12, 4, 2): 13/2, (12, 5, 1): 13, (8, 7, 3): -10, (10, 4, 2, 1, 0): 9/2, (11, 7, 0): -22, (7, 6, 5): 2, (8, 4, 3, 2, 0): -5/2, (6, 5, 4, 2, 0): 1/2, (7, 5, 4, 1, 0): -3, (9, 5, 2, 1, 0): -7, (13, 5, 0): -15, (9, 7, 2): -14, (14, 4, 0): -17/2, (10, 7, 1): -18, (19,): 54, (17, 1, 0): 23, (8, 5, 3, 1, 0): -5}, {(8, 4, 3, 2, 0): -6, (15, 3, 0): 27, (11, 3, 2, 1, 0): -15, (12, 6, 0): -54, (16, 2, 0): -30, (9, 6, 3): -27, (11, 6, 1): -45, (10, 6, 2): -36, (8, 6, 4): -18, (7, 5, 3, 2, 0): -3, (13, 3, 2): -21, (19,): 117, (7, 6, 5): -9}, {(9, 4, 3, 1, 0): 6, (12, 6, 0): -24, (13, 4, 1): -14, (9, 6, 3): -12, (7, 5, 4, 1, 0): -2, (11, 6, 1): -20, (10, 6, 2): -16, (14, 4, 0): 16, (8, 6, 4): -8, (10, 4, 2, 1, 0): 8, (19,): 52, (17, 1, 0): -22, (7, 6, 5): -4}, {(15, 3, 0): -9/2, (16, 2, 0): 5, (9, 6, 3): -21/2, (10, 6, 2): -14, (8, 6, 4): -7, (13, 3, 2): 7/2, (10, 4, 2, 1, 0): -6, (13, 4, 1): 21/2, (7, 6, 5): -7/2, (9, 4, 3, 1, 0): -9/2, (8, 4, 3, 2, 0): 1, (12, 6, 0): -21, (11, 3, 2, 1, 0): 5/2, (7, 5, 4, 1, 0): 3/2, (11, 6, 1): -35/2, (14, 4, 0): -12, (7, 5, 3, 2, 0): 1/2, (19,): 91/2, (17, 1, 0): 33/2}, {(9, 4, 3, 1, 0): -15/4, (15, 3, 0): 51/4, (11, 5, 2): -63/4, (11, 3, 2, 1, 0): 27/4, (12, 5, 1): -77/4, (10, 5, 3): -49/4, (7, 6, 3, 1, 0): -3/4, (14, 3, 1): -45/4, (13, 5, 0): -91/4, (9, 5, 4): -35/4, (19,): 175/4, (17, 1, 0): -63/4, (8, 5, 3, 1, 0): -9/4, (7, 6, 5): 7/4}, {(9, 4, 3, 1, 0): 5/2, (15, 3, 0): -17/2, (11, 5, 2): -27/2, (11, 3, 2, 1, 0): -9/2, (12, 5, 1): -33/2, (10, 5, 3): -21/2, (7, 6, 3, 1, 0): 1/2, (14, 3, 1): 15/2, (13, 5, 0): -39/2, (9, 5, 4): -15/2, (19,): 75/2, (17, 1, 0): 21/2, (8, 5, 3, 1, 0): 3/2, (7, 6, 5): 3/2}, {(8, 6, 2, 1, 0): -1, (11, 3, 2, 1, 0): -4, (16, 2, 0): 9, (9, 5, 4): 6, (13, 4, 1): -18, (12, 4, 2): -15, (9, 5, 2, 1, 0): -2, (15, 2, 1): -8, (14, 4, 0): -21, (8, 6, 4): 3, (11, 4, 3): -12, (10, 4, 2, 1, 0): -3, (19,): 36, (17, 1, 0): -10}, {(8, 6, 2, 1, 0): 1/2, (11, 3, 2, 1, 0): 2, (16, 2, 0): -9/2, (9, 5, 4): 5, (13, 4, 1): -15, (12, 4, 2): -25/2, (9, 5, 2, 1, 0): 1, (15, 2, 1): 4, (14, 4, 0): -35/2, (8, 6, 4): 5/2, (11, 4, 3): -10, (10, 4, 2, 1, 0): 3/2, (19,): 30, (17, 1, 0): 5}, {(15, 3, 0): -15, (11, 4, 3): 7, (9, 6, 3): 3, (10, 5, 3): 5, (14, 3, 1): -13, (8, 7, 3): 1, (13, 3, 2): -11, (19,): 23}, {(11, 5, 2): 6, (16, 2, 0): -16, (12, 4, 2): 8, (10, 6, 2): 4, (15, 2, 1): -14, (9, 7, 2): 2, (13, 3, 2): 10, (19,): 22}, {(9, 8, 1): 1/2, (12, 5, 1): 7/2, (11, 6, 1): 5/2, (19,): 21/2, (15, 2, 1): 13/2, (14, 3, 1): 11/2, (10, 7, 1): 3/2, (13, 4, 1): 9/2, (17, 1, 0): -17/2}, {(15, 3, 0): 6, (12, 6, 0): 3, (16, 2, 0): 7, (10, 8, 0): 1, (13, 5, 0): 4, (14, 4, 0): 5, (19,): 10, (17, 1, 0): 8, (11, 7, 0): 2}]\n",
      "[{(13, 5, 1): 360, (11, 6, 2): -72, (16, 3, 0): 234, (7, 5, 3, 2, 1): -48, (14, 3, 2): -132, (10, 5, 2, 1, 0): 84, (9, 7, 3): -144, (17, 2, 0): -294, (8, 5, 3, 2, 0): 30, (7, 6, 3, 2, 0): -36, (10, 7, 2): 168, (20,): 1530, (9, 5, 3, 1, 0): -72, (12, 3, 2, 1, 0): -54, (9, 6, 4): 54, (10, 9, 0): -252, (13, 4, 2): 180, (8, 6, 5): 90, (9, 4, 3, 2, 0): -18, (13, 6, 0): 270, (6, 5, 4, 2, 1): 36, (12, 6, 1): -162}, {(17, 2, 0): -378, (9, 6, 2, 1, 0): 70, (7, 6, 3, 2, 0): 28, (20,): 1650, (12, 3, 2, 1, 0): 68, (10, 4, 3, 1, 0): 52, (16, 2, 1): -150, (10, 6, 3): -52, (10, 5, 4): -78, (8, 7, 4): 180, (11, 7, 1): -150, (8, 4, 3, 2, 1): 30, (9, 8, 2): 60, (12, 7, 0): 10, (12, 6, 1): 250, (11, 4, 2, 1, 0): -60, (7, 5, 4, 2, 0): -18, (11, 6, 2): 60, (7, 5, 3, 2, 1): -30, (14, 3, 2): -84, (9, 7, 3): 110, (12, 5, 2): 252, (8, 7, 2, 1, 0): -42, (15, 3, 1): 230, (15, 4, 0): 460, (7, 6, 4, 1, 0): -100, (12, 4, 3): 50, (10, 9, 0): 182, (10, 8, 1): 78, (13, 4, 2): -114, (9, 4, 3, 2, 0): -58, (6, 5, 4, 2, 1): 30}, {(16, 3, 0): 825/4, (17, 2, 0): -1053/4, (9, 6, 2, 1, 0): 195/4, (7, 6, 3, 2, 0): 21, (20,): 5643/4, (12, 3, 2, 1, 0): -153/4, (10, 4, 3, 1, 0): -117/4, (11, 8, 0): -495/4, (10, 6, 3): -39, (8, 6, 5): 405/4, (8, 4, 3, 2, 1): -81/4, (13, 6, 0): -855/4, (9, 8, 2): 351/4, (14, 5, 0): 945/4, (12, 7, 0): 1197/4, (12, 6, 1): 99, (11, 4, 2, 1, 0): 135/4, (11, 6, 2): 45, (14, 3, 2): -63, (14, 4, 1): 567/4, (12, 5, 2): 513/4, (8, 5, 3, 2, 0): -99/4, (7, 6, 4, 1, 0): -189/4, (9, 6, 4): 297/4, (12, 4, 3): 171/4, (10, 9, 0): 507/4, (8, 6, 3, 1, 0): -165/4, (9, 4, 3, 2, 0): 15, (6, 5, 4, 2, 1): -81/4, (6, 5, 4, 3, 0): 45/4}, {(11, 4, 2, 1, 0): 15/2, (7, 5, 4, 2, 0): -27/2, (11, 6, 2): -15, (14, 3, 2): 21, (10, 5, 2, 1, 0): -45/2, (14, 4, 1): -21/2, (12, 5, 2): 57, (7, 6, 3, 2, 0): -7, (20,): 627, (15, 4, 0): 207/2, (12, 3, 2, 1, 0): -17/2, (10, 4, 3, 1, 0): -14, (7, 6, 4, 1, 0): -19, (9, 6, 4): -11/2, (10, 6, 3): 13, (12, 4, 3): 19, (10, 9, 0): -165/2, (8, 7, 4): 81/2, (10, 8, 1): 135/2, (8, 6, 5): 45, (8, 4, 3, 2, 1): -9/2, (9, 4, 3, 2, 0): 11/2, (12, 6, 1): 207/2, (13, 6, 0): -95, (14, 5, 0): 105, (12, 7, 0): 113/2, (6, 5, 4, 2, 1): 3/2, (6, 5, 4, 3, 0): 5, (18, 1, 0): -435/2}, {(16, 3, 0): 375/4, (20,): 2079/4, (12, 3, 2, 1, 0): 51/4, (10, 4, 3, 1, 0): 9/2, (11, 8, 0): -225/4, (10, 5, 4): 91/4, (8, 6, 5): -189/4, (11, 7, 1): 45, (8, 4, 3, 2, 1): 27/4, (13, 6, 0): 399/4, (14, 5, 0): -441/4, (12, 7, 0): 441/4, (12, 6, 1): 315/4, (11, 4, 2, 1, 0): -45/4, (7, 5, 4, 2, 0): -49/4, (7, 5, 3, 2, 1): 9, (10, 5, 2, 1, 0): -63/4, (12, 5, 2): 35/2, (9, 7, 3): -33, (8, 5, 3, 2, 0): -45/4, (15, 3, 1): -69, (12, 4, 3): 63/4, (10, 9, 0): -231/4, (8, 6, 3, 1, 0): -75/4, (10, 8, 1): 189/4, (13, 4, 2): 133/4, (9, 4, 3, 2, 0): -33/4, (6, 5, 4, 2, 1): -35/4, (6, 5, 4, 3, 0): -21/4, (18, 1, 0): -609/4}, {(16, 3, 0): -125/2, (20,): 891/2, (12, 3, 2, 1, 0): -17/2, (10, 4, 3, 1, 0): -3, (11, 8, 0): 75/2, (10, 5, 4): 39/2, (8, 6, 5): -81/2, (11, 7, 1): -30, (8, 4, 3, 2, 1): -9/2, (13, 6, 0): 171/2, (14, 5, 0): -189/2, (12, 7, 0): 189/2, (12, 6, 1): 135/2, (11, 4, 2, 1, 0): 15/2, (7, 5, 4, 2, 0): -21/2, (7, 5, 3, 2, 1): -6, (10, 5, 2, 1, 0): 21/2, (12, 5, 2): 15, (9, 7, 3): 22, (8, 5, 3, 2, 0): 15/2, (15, 3, 1): 46, (12, 4, 3): 27/2, (10, 9, 0): 77/2, (8, 6, 3, 1, 0): 25/2, (10, 8, 1): -63/2, (13, 4, 2): 57/2, (9, 4, 3, 2, 0): 11/2, (6, 5, 4, 2, 1): -15/2, (6, 5, 4, 3, 0): -9/2, (18, 1, 0): 203/2}, {(11, 4, 2, 1, 0): 15/4, (7, 5, 4, 2, 0): 63/2, (10, 5, 2, 1, 0): -39/4, (14, 4, 1): -315/4, (12, 5, 2): 153/2, (17, 2, 0): 297/4, (9, 6, 2, 1, 0): -55/4, (8, 7, 2, 1, 0): -63/4, (20,): 1683/4, (15, 4, 0): -483/4, (12, 3, 2, 1, 0): -17/4, (10, 4, 3, 1, 0): -13/2, (7, 6, 4, 1, 0): 105/2, (16, 2, 1): -225/4, (9, 6, 4): -165/4, (12, 4, 3): 51/4, (10, 9, 0): -143/2, (10, 5, 4): -117/4, (8, 7, 4): -189/4, (10, 8, 1): 117/2, (13, 4, 2): -171/4, (8, 4, 3, 2, 1): -9/2, (9, 4, 3, 2, 0): 11/2, (9, 8, 2): -99/2, (12, 7, 0): 357/2, (6, 5, 4, 2, 1): 45/2, (12, 6, 1): 255/2, (18, 1, 0): -377/4}, {(11, 4, 2, 1, 0): -15/8, (7, 5, 4, 2, 0): 105/4, (10, 5, 2, 1, 0): 39/8, (14, 4, 1): -525/8, (12, 5, 2): 255/4, (17, 2, 0): -297/8, (9, 6, 2, 1, 0): 55/8, (8, 7, 2, 1, 0): 63/8, (20,): 2805/8, (15, 4, 0): -805/8, (12, 3, 2, 1, 0): 17/8, (10, 4, 3, 1, 0): 13/4, (7, 6, 4, 1, 0): 175/4, (16, 2, 1): 225/8, (9, 6, 4): -275/8, (12, 4, 3): 85/8, (10, 9, 0): 143/4, (10, 5, 4): -195/8, (8, 7, 4): -315/8, (10, 8, 1): -117/4, (13, 4, 2): -285/8, (8, 4, 3, 2, 1): 9/4, (9, 4, 3, 2, 0): -11/4, (9, 8, 2): 99/4, (12, 7, 0): 595/4, (6, 5, 4, 2, 1): 75/4, (12, 6, 1): 425/4, (18, 1, 0): 377/8}, {(13, 5, 1): 54, (11, 6, 2): 72, (8, 5, 4, 1, 0): 24, (14, 4, 1): -60, (9, 6, 2, 1, 0): -28, (20,): 576, (15, 3, 1): 44, (15, 4, 0): 176, (9, 5, 3, 1, 0): -14, (11, 5, 3): 36, (9, 6, 4): 80, (7, 6, 4, 1, 0): 48, (11, 8, 0): 144, (10, 6, 3): 24, (8, 6, 3, 1, 0): -16, (10, 5, 4): -36, (10, 9, 0): 84, (11, 7, 1): 108, (12, 6, 1): -32, (13, 6, 0): -144, (6, 5, 4, 2, 1): -12, (6, 5, 4, 3, 0): -16, (18, 1, 0): -196}, {(13, 5, 1): -189/4, (11, 6, 2): 119/2, (8, 5, 4, 1, 0): -21, (16, 3, 0): 81, (14, 3, 2): 35/2, (7, 5, 3, 2, 1): -21/4, (14, 4, 1): 105/2, (9, 7, 3): 135/4, (12, 5, 2): -14, (9, 6, 2, 1, 0): -39/2, (8, 5, 3, 2, 0): -7, (7, 6, 3, 2, 0): -27/2, (20,): 476, (15, 3, 1): -231/4, (9, 5, 3, 1, 0): -39/4, (11, 5, 3): 42, (11, 8, 0): 119, (10, 6, 3): -63/2, (8, 6, 3, 1, 0): 21, (10, 5, 4): 63/2, (10, 9, 0): 117/2, (11, 7, 1): 357/4, (12, 7, 0): -54, (6, 5, 4, 2, 1): 21/2, (12, 6, 1): 42, (18, 1, 0): -273/2}, {(13, 5, 1): -81/2, (11, 6, 2): 51, (8, 5, 4, 1, 0): -18, (16, 3, 0): -54, (14, 3, 2): 15, (7, 5, 3, 2, 1): -9/2, (14, 4, 1): 45, (9, 7, 3): -45/2, (12, 5, 2): -12, (9, 6, 2, 1, 0): 13, (8, 5, 3, 2, 0): -6, (7, 6, 3, 2, 0): 9, (20,): 408, (15, 3, 1): 77/2, (9, 5, 3, 1, 0): 13/2, (11, 5, 3): 36, (11, 8, 0): 102, (10, 6, 3): 21, (8, 6, 3, 1, 0): -14, (10, 5, 4): 27, (10, 9, 0): -39, (11, 7, 1): 153/2, (12, 7, 0): 36, (6, 5, 4, 2, 1): 9, (12, 6, 1): -28, (18, 1, 0): 91}, {(13, 5, 1): 54, (11, 6, 2): 48, (8, 5, 4, 1, 0): 24, (7, 5, 3, 2, 1): -4, (14, 4, 1): -60, (17, 2, 0): 65, (9, 6, 2, 1, 0): -12, (8, 5, 3, 2, 0): 5, (8, 7, 2, 1, 0): 1, (20,): 384, (9, 5, 3, 1, 0): -6, (15, 4, 0): -99, (10, 7, 2): -24, (11, 5, 3): 24, (7, 6, 4, 1, 0): -27, (16, 2, 1): -48, (11, 8, 0): 61, (9, 6, 4): -45, (10, 9, 0): 36, (10, 5, 4): -36, (11, 7, 1): 100, (13, 6, 0): 81, (9, 8, 2): 25, (6, 5, 4, 2, 1): -12, (6, 5, 4, 3, 0): 9, (18, 1, 0): -84}, {(13, 5, 1): 45, (11, 6, 2): 40, (8, 5, 4, 1, 0): 20, (7, 5, 3, 2, 1): 2, (14, 4, 1): -50, (17, 2, 0): -65/2, (9, 6, 2, 1, 0): 6, (8, 5, 3, 2, 0): -5/2, (8, 7, 2, 1, 0): -1/2, (20,): 320, (9, 5, 3, 1, 0): 3, (15, 4, 0): -165/2, (10, 7, 2): 12, (11, 5, 3): 20, (7, 6, 4, 1, 0): -45/2, (16, 2, 1): 24, (11, 8, 0): 195/2, (9, 6, 4): -75/2, (10, 9, 0): -18, (10, 5, 4): -30, (11, 7, 1): 46, (13, 6, 0): 135/2, (9, 8, 2): -25/2, (6, 5, 4, 2, 1): -10, (6, 5, 4, 3, 0): 15/2, (18, 1, 0): 42}, {(11, 6, 2): 30, (16, 3, 0): -84, (14, 3, 2): -30, (7, 5, 3, 2, 1): 9, (9, 7, 3): -35, (12, 5, 2): 24, (8, 5, 3, 2, 0): 12, (7, 6, 3, 2, 0): 14, (20,): 240, (15, 3, 1): -55, (11, 5, 3): -6, (11, 8, 0): 60, (10, 6, 3): -30, (8, 6, 3, 1, 0): 20, (11, 7, 1): 45, (12, 7, 0): 56, (12, 6, 1): 40}, {(11, 8, 0): 112, (11, 6, 2): 28, (7, 5, 3, 2, 1): -12, (14, 3, 2): 20, (12, 5, 2): -16, (11, 7, 1): 84, (17, 2, 0): -104, (8, 5, 3, 2, 0): -16, (8, 7, 2, 1, 0): 48, (20,): 224, (10, 7, 2): -36, (9, 8, 2): -40, (11, 5, 3): 28, (16, 2, 1): -72}, {(7, 5, 4, 2, 0): 35/2, (13, 5, 1): 17/2, (8, 5, 4, 1, 0): 20, (16, 3, 0): 69, (7, 5, 3, 2, 1): -5/2, (8, 7, 2, 1, 0): -45/2, (15, 3, 1): -21/2, (10, 7, 2): 70, (15, 4, 0): 147/2, (20,): 434, (9, 5, 3, 1, 0): 9/2, (7, 6, 3, 2, 0): 15, (11, 5, 3): -13/2, (11, 8, 0): 117/2, (10, 6, 3): 75, (8, 6, 3, 1, 0): 15/2, (10, 5, 4): 105/2, (10, 9, 0): 126, (10, 8, 1): 97/2, (14, 5, 0): -133/2, (13, 6, 0): -51, (6, 5, 4, 3, 0): 27/2, (18, 1, 0): -243/2}, {(7, 5, 4, 2, 0): 15, (13, 5, 1): -51, (8, 5, 4, 1, 0): 24, (16, 3, 0): -46, (7, 5, 3, 2, 1): 15, (8, 7, 2, 1, 0): 15, (15, 3, 1): 63, (10, 7, 2): 60, (15, 4, 0): 63, (20,): 372, (9, 5, 3, 1, 0): -27, (7, 6, 3, 2, 0): -10, (11, 5, 3): 39, (11, 8, 0): -39, (10, 6, 3): 14, (8, 6, 3, 1, 0): -5, (10, 5, 4): 45, (10, 9, 0): 108, (10, 8, 1): 117, (14, 5, 0): -57, (13, 6, 0): 34, (6, 5, 4, 3, 0): 7, (18, 1, 0): 81}, {(7, 5, 4, 2, 0): -33/2, (11, 6, 2): -91/4, (8, 5, 4, 1, 0): -29, (14, 3, 2): 57/4, (17, 2, 0): 225/4, (9, 6, 2, 1, 0): 63/4, (8, 7, 2, 1, 0): 2, (7, 6, 3, 2, 0): 27/4, (10, 7, 2): 81, (20,): 1395/4, (15, 4, 0): -315/4, (16, 2, 1): -161/4, (11, 8, 0): 143/4, (10, 6, 3): 135/4, (12, 4, 3): 45/4, (8, 6, 3, 1, 0): -33/4, (10, 5, 4): -30, (10, 9, 0): 405/4, (10, 8, 1): 97/2, (13, 4, 2): -51/4, (8, 4, 3, 2, 1): -21/4, (9, 4, 3, 2, 0): -27/4, (12, 6, 1): 105/4, (14, 5, 0): 285/4, (12, 7, 0): -135/4, (6, 5, 4, 2, 1): -7/4, (6, 5, 4, 3, 0): -45/4, (18, 1, 0): -297/4}, {(7, 5, 4, 2, 0): -67/4, (11, 6, 2): 91/8, (8, 5, 4, 1, 0): -41/2, (14, 3, 2): 95/8, (17, 2, 0): -225/8, (9, 6, 2, 1, 0): -63/8, (8, 7, 2, 1, 0): -1, (7, 6, 3, 2, 0): -27/8, (10, 7, 2): 69/2, (20,): 2325/8, (15, 4, 0): -525/8, (16, 2, 1): 161/8, (11, 8, 0): -143/8, (10, 6, 3): 225/8, (12, 4, 3): 75/8, (8, 6, 3, 1, 0): 33/8, (10, 5, 4): -25, (10, 9, 0): 675/8, (10, 8, 1): 323/4, (13, 4, 2): -85/8, (8, 4, 3, 2, 1): -35/8, (9, 4, 3, 2, 0): -45/8, (12, 6, 1): -105/8, (14, 5, 0): 475/8, (12, 7, 0): 135/8, (6, 5, 4, 2, 1): 7/8, (6, 5, 4, 3, 0): -75/8, (18, 1, 0): 297/8}, {(13, 5, 1): 34, (16, 3, 0): -69, (14, 3, 2): -19, (7, 5, 3, 2, 1): -10, (10, 7, 2): 35, (20,): 217, (15, 3, 1): -42, (9, 5, 3, 1, 0): 18, (7, 6, 3, 2, 0): -15, (11, 5, 3): -26, (10, 6, 3): -12, (12, 4, 3): -15, (8, 6, 3, 1, 0): -21, (10, 9, 0): 63, (10, 5, 4): 7, (10, 8, 1): 49, (13, 4, 2): 17, (8, 4, 3, 2, 1): 7, (9, 4, 3, 2, 0): 9, (13, 6, 0): 51, (6, 5, 4, 3, 0): -3}, {(7, 5, 4, 2, 0): -7/2, (11, 6, 2): -65/2, (14, 3, 2): 19/2, (17, 2, 0): -175/2, (9, 6, 2, 1, 0): 45/2, (8, 7, 2, 1, 0): -49/2, (7, 6, 3, 2, 0): -21/2, (10, 7, 2): -6, (20,): 403/2, (16, 2, 1): -115/2, (10, 6, 3): 39/2, (12, 4, 3): 15/2, (10, 9, 0): 117/2, (10, 5, 4): 13/2, (10, 8, 1): 91/2, (13, 4, 2): -17/2, (8, 4, 3, 2, 1): -7/2, (9, 4, 3, 2, 0): -9/2, (12, 7, 0): 105/2, (6, 5, 4, 2, 1): -5/2, (12, 6, 1): 75/2}, {(13, 5, 1): -17/2, (11, 6, 2): 13, (8, 5, 4, 1, 0): -2, (7, 5, 3, 2, 1): 5/2, (9, 6, 2, 1, 0): -9, (8, 7, 2, 1, 0): -10, (10, 7, 2): 15, (20,): 93, (15, 3, 1): 21/2, (9, 5, 3, 1, 0): -9/2, (11, 5, 3): 13/2, (16, 2, 1): 23, (11, 8, 0): 26, (10, 6, 3): 9, (8, 6, 3, 1, 0): -6, (10, 9, 0): 27, (10, 5, 4): 3, (10, 8, 1): -1, (6, 5, 4, 2, 1): 1, (12, 6, 1): -15, (18, 1, 0): -54}, {(7, 5, 4, 2, 0): 5/2, (8, 5, 4, 1, 0): 7/2, (16, 3, 0): 69/4, (17, 2, 0): 125/4, (8, 7, 2, 1, 0): 35/2, (7, 6, 3, 2, 0): 15/2, (10, 7, 2): 55/2, (15, 4, 0): 21/4, (20,): 341/4, (11, 8, 0): -91/4, (10, 6, 3): 33/2, (8, 6, 3, 1, 0): 21/2, (10, 5, 4): 11/2, (10, 9, 0): 99/4, (10, 8, 1): 77/2, (14, 5, 0): -19/4, (13, 6, 0): -51/4, (12, 7, 0): -75/4, (6, 5, 4, 3, 0): 3/2, (18, 1, 0): 189/4}, {(13, 5, 1): 24, (11, 6, 2): 24, (7, 5, 3, 2, 1): 6, (10, 5, 2, 1, 0): 15, (14, 4, 1): -27, (9, 7, 3): 42, (12, 5, 2): -21, (17, 2, 0): 48, (9, 6, 2, 1, 0): 16, (8, 7, 2, 1, 0): 15, (15, 3, 1): 30, (20,): 315, (7, 6, 3, 2, 0): -8, (12, 7, 0): 35, (9, 6, 4): 21, (10, 4, 3, 1, 0): -15, (7, 6, 4, 1, 0): -5, (16, 2, 1): -33, (12, 4, 3): 21, (10, 9, 0): -105, (11, 7, 1): -30, (8, 4, 3, 2, 1): 9, (13, 6, 0): -32, (9, 8, 2): 63, (6, 5, 4, 2, 1): 3, (18, 1, 0): -65}, {(13, 5, 1): -12, (11, 6, 2): -12, (7, 5, 3, 2, 1): -3, (10, 5, 2, 1, 0): -15/2, (14, 4, 1): -45/2, (9, 7, 3): 35, (12, 5, 2): 21/2, (17, 2, 0): -24, (9, 6, 2, 1, 0): -8, (8, 7, 2, 1, 0): -15/2, (15, 3, 1): 25, (20,): 525/2, (7, 6, 3, 2, 0): 4, (12, 7, 0): -35/2, (9, 6, 4): 35/2, (10, 4, 3, 1, 0): -25/2, (7, 6, 4, 1, 0): 5/2, (16, 2, 1): 33/2, (12, 4, 3): 35/2, (10, 9, 0): -175/2, (11, 7, 1): 15, (8, 4, 3, 2, 1): 15/2, (13, 6, 0): 16, (9, 8, 2): 105/2, (6, 5, 4, 2, 1): -3/2, (18, 1, 0): 65/2}, {(16, 3, 0): -55, (14, 4, 1): 27, (9, 7, 3): 26, (8, 5, 3, 2, 0): -15, (15, 3, 1): -30, (20,): 195, (9, 5, 3, 1, 0): -20, (11, 5, 3): -30, (10, 4, 3, 1, 0): 15, (9, 6, 4): 13, (12, 4, 3): -21, (10, 9, 0): -65, (8, 4, 3, 2, 1): -9, (14, 5, 0): 45, (9, 8, 2): 39, (6, 5, 4, 3, 0): 5}, {(13, 5, 1): 32, (11, 6, 2): -36, (7, 5, 3, 2, 1): 8, (10, 5, 2, 1, 0): 20, (9, 7, 3): 24, (12, 5, 2): -28, (17, 2, 0): -72, (9, 6, 2, 1, 0): -24, (7, 6, 3, 2, 0): 12, (20,): 180, (9, 6, 4): 12, (16, 2, 1): -44, (10, 9, 0): -60, (13, 6, 0): 48, (9, 8, 2): 36, (6, 5, 4, 2, 1): 4}, {(13, 5, 1): -12, (7, 5, 3, 2, 1): -3, (10, 5, 2, 1, 0): -15/2, (14, 4, 1): -9/2, (9, 7, 3): 11, (12, 5, 2): 21/2, (8, 7, 2, 1, 0): 21/2, (15, 3, 1): 5, (20,): 165/2, (12, 7, 0): 49/2, (9, 6, 4): 11/2, (10, 4, 3, 1, 0): -5/2, (7, 6, 4, 1, 0): -7/2, (16, 2, 1): 33/2, (12, 4, 3): 7/2, (10, 9, 0): -55/2, (11, 7, 1): -21, (8, 4, 3, 2, 1): 3/2, (9, 8, 2): 33/2, (6, 5, 4, 2, 1): -3/2, (18, 1, 0): -91/2}, {(11, 6, 2): 12, (16, 3, 0): 11, (9, 7, 3): 10, (17, 2, 0): 24, (8, 5, 3, 2, 0): 3, (9, 6, 2, 1, 0): 8, (8, 7, 2, 1, 0): -9, (20,): 75, (9, 5, 3, 1, 0): 4, (7, 6, 3, 2, 0): -4, (11, 5, 3): 6, (7, 6, 4, 1, 0): 3, (9, 6, 4): 5, (10, 9, 0): -25, (11, 7, 1): 18, (14, 5, 0): -9, (9, 8, 2): 15, (13, 6, 0): -16, (12, 7, 0): -21, (6, 5, 4, 3, 0): -1, (18, 1, 0): 39}, {(16, 3, 0): 315/8, (17, 2, 0): -161/8, (9, 6, 2, 1, 0): -63/8, (20,): 1885/8, (10, 4, 3, 1, 0): 135/8, (16, 2, 1): 105/4, (11, 8, 0): -715/8, (8, 7, 4): 195/8, (8, 6, 5): 65/8, (8, 4, 3, 2, 1): -25/4, (14, 5, 0): 119/8, (9, 8, 2): -455/8, (13, 6, 0): -135/8, (12, 6, 1): 117/8, (11, 4, 2, 1, 0): -55/4, (7, 5, 4, 2, 0): 21/8, (10, 5, 2, 1, 0): -63/8, (14, 4, 1): -85/4, (12, 5, 2): -91/8, (8, 5, 3, 2, 0): 35/8, (15, 4, 0): -285/8, (7, 6, 4, 1, 0): -27/8, (12, 4, 3): 195/8, (8, 6, 3, 1, 0): -45/8, (10, 8, 1): -585/8, (13, 4, 2): 75/4, (9, 4, 3, 2, 0): 105/8, (6, 5, 4, 2, 1): 5/4, (6, 5, 4, 3, 0): 15/8, (18, 1, 0): 225/8}, {(11, 8, 0): -66, (12, 4, 3): -26, (16, 3, 0): -42, (8, 7, 4): 18, (10, 8, 1): -54, (8, 6, 5): 6, (9, 4, 3, 2, 0): -14, (20,): 174, (15, 4, 0): 38, (9, 8, 2): -42, (10, 4, 3, 1, 0): -18, (6, 5, 4, 3, 0): -2}, {(11, 4, 2, 1, 0): 33/2, (7, 5, 4, 2, 0): 15/2, (10, 5, 2, 1, 0): -45/2, (14, 4, 1): 51/2, (12, 5, 2): -65/2, (17, 2, 0): -115/2, (8, 5, 3, 2, 0): 25/2, (20,): 319/2, (16, 2, 1): -63/2, (11, 8, 0): -121/2, (8, 7, 4): 33/2, (10, 8, 1): -99/2, (13, 4, 2): -45/2, (8, 6, 5): 11/2, (8, 4, 3, 2, 1): 15/2, (14, 5, 0): 85/2, (9, 8, 2): -77/2, (6, 5, 4, 2, 1): -3/2}, {(11, 4, 2, 1, 0): -11/2, (14, 4, 1): -17/2, (9, 6, 2, 1, 0): 21/2, (20,): 145/2, (7, 6, 4, 1, 0): 9/2, (9, 8, 2): -35/2, (16, 2, 1): 21/2, (11, 8, 0): -55/2, (8, 6, 3, 1, 0): 15/2, (8, 7, 4): 15/2, (10, 8, 1): -45/2, (13, 4, 2): 15/2, (8, 6, 5): 5/2, (8, 4, 3, 2, 1): -5/2, (13, 6, 0): 45/2, (6, 5, 4, 2, 1): 1/2, (12, 6, 1): -39/2, (18, 1, 0): -75/2}, {(7, 5, 4, 2, 0): -9/4, (16, 3, 0): 21/4, (10, 5, 2, 1, 0): 27/4, (12, 5, 2): 39/4, (17, 2, 0): 69/4, (8, 5, 3, 2, 0): -15/4, (9, 6, 2, 1, 0): -35/4, (20,): 261/4, (15, 4, 0): -19/4, (10, 4, 3, 1, 0): 9/4, (7, 6, 4, 1, 0): -15/4, (11, 8, 0): -99/4, (12, 4, 3): 13/4, (8, 6, 3, 1, 0): -25/4, (6, 5, 4, 3, 0): 1/4, (8, 7, 4): 27/4, (10, 8, 1): -81/4, (8, 6, 5): 9/4, (9, 4, 3, 2, 0): 7/4, (14, 5, 0): -51/4, (9, 8, 2): -63/4, (13, 6, 0): -75/4, (12, 6, 1): 65/4, (18, 1, 0): 125/4}, {(7, 5, 3, 2, 1): 1, (14, 3, 2): 8, (8, 7, 4): -22, (9, 7, 3): -33, (11, 7, 1): -55, (8, 4, 3, 2, 1): 2, (15, 3, 1): -9, (20,): 154, (10, 7, 2): -44, (12, 7, 0): -66, (12, 3, 2, 1, 0): -6, (16, 2, 1): 10}, {(11, 4, 2, 1, 0): -20, (7, 5, 4, 2, 0): -4, (7, 5, 3, 2, 1): -2, (14, 3, 2): -16, (9, 7, 3): -30, (17, 2, 0): -44, (10, 7, 2): -40, (15, 3, 1): 18, (20,): 140, (15, 4, 0): 36, (12, 3, 2, 1, 0): 12, (16, 2, 1): -20, (8, 7, 4): -20, (13, 4, 2): -28, (11, 7, 1): -50, (8, 4, 3, 2, 1): -4, (9, 4, 3, 2, 0): 12, (12, 7, 0): -60}, {(13, 5, 1): -35/2, (8, 5, 4, 1, 0): 5, (7, 5, 3, 2, 1): 1/2, (10, 5, 2, 1, 0): 10, (14, 3, 2): 4, (9, 7, 3): -27/2, (10, 7, 2): -18, (15, 3, 1): -9/2, (20,): 63, (9, 5, 3, 1, 0): 15/2, (12, 3, 2, 1, 0): -3, (16, 2, 1): 5, (8, 7, 4): -9, (11, 7, 1): -45/2, (8, 4, 3, 2, 1): 1, (14, 5, 0): 20, (12, 7, 0): -27, (18, 1, 0): -30}, {(11, 4, 2, 1, 0): 5, (7, 5, 4, 2, 0): 1, (13, 5, 1): 14, (8, 5, 4, 1, 0): -4, (10, 5, 2, 1, 0): -8, (9, 7, 3): -12, (17, 2, 0): 11, (10, 7, 2): -16, (20,): 56, (9, 5, 3, 1, 0): -6, (15, 4, 0): -9, (8, 7, 4): -8, (13, 4, 2): 7, (11, 7, 1): -20, (9, 4, 3, 2, 0): -3, (14, 5, 0): -16, (12, 7, 0): -24, (18, 1, 0): 24}, {(10, 6, 3): -63/2, (11, 6, 2): -81/2, (16, 3, 0): 57/2, (14, 3, 2): -45/2, (8, 6, 5): -27/2, (17, 2, 0): -63/2, (8, 5, 3, 2, 0): -9/2, (7, 6, 3, 2, 0): -3/2, (20,): 243/2, (9, 4, 3, 2, 0): -15/2, (13, 6, 0): -117/2, (12, 3, 2, 1, 0): -33/2, (9, 6, 4): -45/2, (12, 6, 1): -99/2}, {(11, 4, 2, 1, 0): 9, (7, 6, 4, 1, 0): -1, (10, 6, 3): -14, (11, 6, 2): -18, (8, 5, 4, 1, 0): -3, (14, 4, 1): -15, (8, 6, 5): -6, (10, 4, 3, 1, 0): 7, (20,): 54, (13, 6, 0): -26, (15, 4, 0): 17, (9, 6, 4): -10, (12, 6, 1): -22, (18, 1, 0): -23}, {(11, 4, 2, 1, 0): -27/4, (11, 6, 2): -63/4, (8, 5, 4, 1, 0): 9/4, (16, 3, 0): -19/4, (14, 3, 2): 15/4, (14, 4, 1): 45/4, (17, 2, 0): 21/4, (8, 5, 3, 2, 0): 3/4, (7, 6, 3, 2, 0): 1/4, (20,): 189/4, (15, 4, 0): -51/4, (12, 3, 2, 1, 0): 11/4, (10, 4, 3, 1, 0): -21/4, (9, 6, 4): -35/4, (7, 6, 4, 1, 0): 3/4, (10, 6, 3): -49/4, (8, 6, 5): -21/4, (9, 4, 3, 2, 0): 5/4, (13, 6, 0): -91/4, (12, 6, 1): -77/4, (18, 1, 0): 69/4}, {(13, 5, 1): -21, (8, 6, 3, 1, 0): -3/2, (10, 5, 4): -21/2, (16, 3, 0): 27/2, (12, 5, 2): -35/2, (8, 6, 5): 7/2, (15, 3, 1): -12, (20,): 91/2, (14, 5, 0): -49/2, (9, 5, 3, 1, 0): -3, (12, 3, 2, 1, 0): 15/2, (11, 5, 3): -14, (10, 4, 3, 1, 0): -9/2, (18, 1, 0): -33/2}, {(13, 5, 1): -18, (8, 6, 3, 1, 0): 1, (10, 5, 4): -9, (16, 3, 0): -9, (12, 5, 2): -15, (8, 6, 5): 3, (15, 3, 1): 8, (20,): 39, (14, 5, 0): -21, (9, 5, 3, 1, 0): 2, (12, 3, 2, 1, 0): -5, (11, 5, 3): -12, (10, 4, 3, 1, 0): 3, (18, 1, 0): 11}, {(11, 4, 2, 1, 0): -7/2, (10, 5, 2, 1, 0): -5/2, (14, 4, 1): -39/2, (9, 6, 2, 1, 0): -3/2, (17, 2, 0): 19/2, (8, 7, 2, 1, 0): -1/2, (20,): 75/2, (15, 4, 0): -45/2, (12, 3, 2, 1, 0): -9/2, (9, 6, 4): 9/2, (16, 2, 1): -17/2, (12, 4, 3): -27/2, (10, 5, 4): 15/2, (8, 7, 4): 3/2, (13, 4, 2): -33/2, (18, 1, 0): -21/2}, {(11, 4, 2, 1, 0): 7/4, (10, 5, 2, 1, 0): 5/4, (14, 4, 1): -65/4, (9, 6, 2, 1, 0): 3/4, (17, 2, 0): -19/4, (8, 7, 2, 1, 0): 1/4, (20,): 125/4, (15, 4, 0): -75/4, (12, 3, 2, 1, 0): 9/4, (9, 6, 4): 15/4, (16, 2, 1): 17/4, (12, 4, 3): -45/4, (10, 5, 4): 25/4, (8, 7, 4): 5/4, (13, 4, 2): -55/4, (18, 1, 0): 21/4}, {(10, 6, 3): 4, (12, 4, 3): 8, (16, 3, 0): -16, (14, 3, 2): -12, (9, 7, 3): 2, (15, 3, 1): -14, (20,): 24, (11, 5, 3): 6}, {(11, 6, 2): 5, (14, 3, 2): 11, (13, 4, 2): 9, (12, 5, 2): 7, (17, 2, 0): -17, (10, 7, 2): 3, (20,): 23, (9, 8, 2): 1, (16, 2, 1): -15}, {(16, 2, 1): 7, (13, 5, 1): 4, (10, 8, 1): 1, (14, 4, 1): 5, (11, 7, 1): 2, (20,): 11, (15, 3, 1): 6, (12, 6, 1): 3, (18, 1, 0): -9}, {(11, 8, 0): 3/2, (10, 9, 0): 1/2, (16, 3, 0): 13/2, (17, 2, 0): 15/2, (20,): 21/2, (15, 4, 0): 11/2, (14, 5, 0): 9/2, (13, 6, 0): 7/2, (12, 7, 0): 5/2, (18, 1, 0): 17/2}]\n"
     ]
    }
   ],
   "source": [
    "verify_basis1_up_to(w, 20)"
   ]
  },
  {
   "cell_type": "code",
   "execution_count": 6,
   "id": "2f355bc8-872e-4214-9c62-4e41e3fcb6a9",
   "metadata": {},
   "outputs": [
    {
     "data": {
      "text/plain": [
       "{(3, 2, 1): -3/2, (7,): 15/2, (4, 2, 0): -3}"
      ]
     },
     "execution_count": 6,
     "metadata": {},
     "output_type": "execute_result"
    }
   ],
   "source": [
    "several_virasoro((5,2),{(0,):1})"
   ]
  },
  {
   "cell_type": "code",
   "execution_count": 7,
   "id": "8a44a1ba-77b3-49b5-bd54-1ad10164a8e9",
   "metadata": {},
   "outputs": [
    {
     "data": {
      "text/plain": [
       "{(3, 2, 1), (4, 2, 0), (7,)}"
      ]
     },
     "execution_count": 7,
     "metadata": {},
     "output_type": "execute_result"
    }
   ],
   "source": [
    "set(several_virasoro((5,2),{(0,):1}))"
   ]
  },
  {
   "cell_type": "code",
   "execution_count": 41,
   "id": "5b1a4f48-b0bb-4057-9e1d-627e8f9d0733",
   "metadata": {
    "tags": []
   },
   "outputs": [
    {
     "data": {
      "text/plain": [
       "[[[]],\n",
       " [[1]],\n",
       " [[1, 1]],\n",
       " [[3]],\n",
       " [[3, 1], [4]],\n",
       " [[4, 1], [5]],\n",
       " [[4, 1, 1], [5, 1], [6]],\n",
       " [[4, 3], [5, 1, 1], [6, 1], [7]],\n",
       " [[4, 4], [5, 3], [6, 1, 1], [7, 1], [8]],\n",
       " [[5, 3, 1], [5, 4], [6, 3], [7, 1, 1], [8, 1], [9]],\n",
       " [[5, 4, 1], [5, 5], [6, 3, 1], [6, 4], [7, 3], [8, 1, 1], [9, 1], [10]],\n",
       " [[5, 5, 1],\n",
       "  [6, 4, 1],\n",
       "  [6, 5],\n",
       "  [7, 3, 1],\n",
       "  [7, 4],\n",
       "  [8, 3],\n",
       "  [9, 1, 1],\n",
       "  [10, 1],\n",
       "  [11]],\n",
       " [[5, 5, 1, 1],\n",
       "  [6, 4, 1, 1],\n",
       "  [6, 5, 1],\n",
       "  [6, 6],\n",
       "  [7, 4, 1],\n",
       "  [7, 5],\n",
       "  [8, 3, 1],\n",
       "  [8, 4],\n",
       "  [9, 3],\n",
       "  [10, 1, 1],\n",
       "  [11, 1],\n",
       "  [12]],\n",
       " [[6, 4, 3],\n",
       "  [6, 5, 1, 1],\n",
       "  [6, 6, 1],\n",
       "  [7, 4, 1, 1],\n",
       "  [7, 5, 1],\n",
       "  [7, 6],\n",
       "  [8, 4, 1],\n",
       "  [8, 5],\n",
       "  [9, 3, 1],\n",
       "  [9, 4],\n",
       "  [10, 3],\n",
       "  [11, 1, 1],\n",
       "  [12, 1],\n",
       "  [13]],\n",
       " [[6, 5, 3],\n",
       "  [6, 6, 1, 1],\n",
       "  [7, 4, 3],\n",
       "  [7, 5, 1, 1],\n",
       "  [7, 6, 1],\n",
       "  [7, 7],\n",
       "  [8, 4, 1, 1],\n",
       "  [8, 5, 1],\n",
       "  [8, 6],\n",
       "  [9, 4, 1],\n",
       "  [9, 5],\n",
       "  [10, 3, 1],\n",
       "  [10, 4],\n",
       "  [11, 3],\n",
       "  [12, 1, 1],\n",
       "  [13, 1],\n",
       "  [14]],\n",
       " [[6, 6, 3],\n",
       "  [7, 4, 4],\n",
       "  [7, 5, 3],\n",
       "  [7, 6, 1, 1],\n",
       "  [7, 7, 1],\n",
       "  [8, 4, 3],\n",
       "  [8, 5, 1, 1],\n",
       "  [8, 6, 1],\n",
       "  [8, 7],\n",
       "  [9, 4, 1, 1],\n",
       "  [9, 5, 1],\n",
       "  [9, 6],\n",
       "  [10, 4, 1],\n",
       "  [10, 5],\n",
       "  [11, 3, 1],\n",
       "  [11, 4],\n",
       "  [12, 3],\n",
       "  [13, 1, 1],\n",
       "  [14, 1],\n",
       "  [15]],\n",
       " [[6, 6, 3, 1],\n",
       "  [7, 5, 3, 1],\n",
       "  [7, 5, 4],\n",
       "  [7, 6, 3],\n",
       "  [7, 7, 1, 1],\n",
       "  [8, 4, 4],\n",
       "  [8, 5, 3],\n",
       "  [8, 6, 1, 1],\n",
       "  [8, 7, 1],\n",
       "  [8, 8],\n",
       "  [9, 4, 3],\n",
       "  [9, 5, 1, 1],\n",
       "  [9, 6, 1],\n",
       "  [9, 7],\n",
       "  [10, 4, 1, 1],\n",
       "  [10, 5, 1],\n",
       "  [10, 6],\n",
       "  [11, 4, 1],\n",
       "  [11, 5],\n",
       "  [12, 3, 1],\n",
       "  [12, 4],\n",
       "  [13, 3],\n",
       "  [14, 1, 1],\n",
       "  [15, 1],\n",
       "  [16]],\n",
       " [[7, 5, 4, 1],\n",
       "  [7, 6, 3, 1],\n",
       "  [7, 6, 4],\n",
       "  [7, 7, 3],\n",
       "  [8, 5, 3, 1],\n",
       "  [8, 5, 4],\n",
       "  [8, 6, 3],\n",
       "  [8, 7, 1, 1],\n",
       "  [8, 8, 1],\n",
       "  [9, 4, 4],\n",
       "  [9, 5, 3],\n",
       "  [9, 6, 1, 1],\n",
       "  [9, 7, 1],\n",
       "  [9, 8],\n",
       "  [10, 4, 3],\n",
       "  [10, 5, 1, 1],\n",
       "  [10, 6, 1],\n",
       "  [10, 7],\n",
       "  [11, 4, 1, 1],\n",
       "  [11, 5, 1],\n",
       "  [11, 6],\n",
       "  [12, 4, 1],\n",
       "  [12, 5],\n",
       "  [13, 3, 1],\n",
       "  [13, 4],\n",
       "  [14, 3],\n",
       "  [15, 1, 1],\n",
       "  [16, 1],\n",
       "  [17]],\n",
       " [[7, 6, 4, 1],\n",
       "  [7, 7, 3, 1],\n",
       "  [7, 7, 4],\n",
       "  [8, 5, 4, 1],\n",
       "  [8, 5, 5],\n",
       "  [8, 6, 3, 1],\n",
       "  [8, 6, 4],\n",
       "  [8, 7, 3],\n",
       "  [8, 8, 1, 1],\n",
       "  [9, 5, 3, 1],\n",
       "  [9, 5, 4],\n",
       "  [9, 6, 3],\n",
       "  [9, 7, 1, 1],\n",
       "  [9, 8, 1],\n",
       "  [9, 9],\n",
       "  [10, 4, 4],\n",
       "  [10, 5, 3],\n",
       "  [10, 6, 1, 1],\n",
       "  [10, 7, 1],\n",
       "  [10, 8],\n",
       "  [11, 4, 3],\n",
       "  [11, 5, 1, 1],\n",
       "  [11, 6, 1],\n",
       "  [11, 7],\n",
       "  [12, 4, 1, 1],\n",
       "  [12, 5, 1],\n",
       "  [12, 6],\n",
       "  [13, 4, 1],\n",
       "  [13, 5],\n",
       "  [14, 3, 1],\n",
       "  [14, 4],\n",
       "  [15, 3],\n",
       "  [16, 1, 1],\n",
       "  [17, 1],\n",
       "  [18]],\n",
       " [[7, 6, 4, 1, 1],\n",
       "  [7, 7, 4, 1],\n",
       "  [8, 5, 5, 1],\n",
       "  [8, 6, 4, 1],\n",
       "  [8, 6, 5],\n",
       "  [8, 7, 3, 1],\n",
       "  [8, 7, 4],\n",
       "  [8, 8, 3],\n",
       "  [9, 5, 4, 1],\n",
       "  [9, 5, 5],\n",
       "  [9, 6, 3, 1],\n",
       "  [9, 6, 4],\n",
       "  [9, 7, 3],\n",
       "  [9, 8, 1, 1],\n",
       "  [9, 9, 1],\n",
       "  [10, 5, 3, 1],\n",
       "  [10, 5, 4],\n",
       "  [10, 6, 3],\n",
       "  [10, 7, 1, 1],\n",
       "  [10, 8, 1],\n",
       "  [10, 9],\n",
       "  [11, 4, 4],\n",
       "  [11, 5, 3],\n",
       "  [11, 6, 1, 1],\n",
       "  [11, 7, 1],\n",
       "  [11, 8],\n",
       "  [12, 4, 3],\n",
       "  [12, 5, 1, 1],\n",
       "  [12, 6, 1],\n",
       "  [12, 7],\n",
       "  [13, 4, 1, 1],\n",
       "  [13, 5, 1],\n",
       "  [13, 6],\n",
       "  [14, 4, 1],\n",
       "  [14, 5],\n",
       "  [15, 3, 1],\n",
       "  [15, 4],\n",
       "  [16, 3],\n",
       "  [17, 1, 1],\n",
       "  [18, 1],\n",
       "  [19]],\n",
       " [[7, 7, 4, 1, 1],\n",
       "  [8, 5, 5, 1, 1],\n",
       "  [8, 6, 4, 1, 1],\n",
       "  [8, 6, 5, 1],\n",
       "  [8, 7, 4, 1],\n",
       "  [8, 7, 5],\n",
       "  [8, 8, 3, 1],\n",
       "  [8, 8, 4],\n",
       "  [9, 5, 5, 1],\n",
       "  [9, 6, 4, 1],\n",
       "  [9, 6, 5],\n",
       "  [9, 7, 3, 1],\n",
       "  [9, 7, 4],\n",
       "  [9, 8, 3],\n",
       "  [9, 9, 1, 1],\n",
       "  [10, 5, 4, 1],\n",
       "  [10, 5, 5],\n",
       "  [10, 6, 3, 1],\n",
       "  [10, 6, 4],\n",
       "  [10, 7, 3],\n",
       "  [10, 8, 1, 1],\n",
       "  [10, 9, 1],\n",
       "  [10, 10],\n",
       "  [11, 5, 3, 1],\n",
       "  [11, 5, 4],\n",
       "  [11, 6, 3],\n",
       "  [11, 7, 1, 1],\n",
       "  [11, 8, 1],\n",
       "  [11, 9],\n",
       "  [12, 4, 4],\n",
       "  [12, 5, 3],\n",
       "  [12, 6, 1, 1],\n",
       "  [12, 7, 1],\n",
       "  [12, 8],\n",
       "  [13, 4, 3],\n",
       "  [13, 5, 1, 1],\n",
       "  [13, 6, 1],\n",
       "  [13, 7],\n",
       "  [14, 4, 1, 1],\n",
       "  [14, 5, 1],\n",
       "  [14, 6],\n",
       "  [15, 4, 1],\n",
       "  [15, 5],\n",
       "  [16, 3, 1],\n",
       "  [16, 4],\n",
       "  [17, 3],\n",
       "  [18, 1, 1],\n",
       "  [19, 1],\n",
       "  [20]],\n",
       " [[8, 6, 4, 3],\n",
       "  [8, 6, 5, 1, 1],\n",
       "  [8, 7, 4, 1, 1],\n",
       "  [8, 7, 5, 1],\n",
       "  [8, 8, 4, 1],\n",
       "  [8, 8, 5],\n",
       "  [9, 5, 5, 1, 1],\n",
       "  [9, 6, 4, 1, 1],\n",
       "  [9, 6, 5, 1],\n",
       "  [9, 6, 6],\n",
       "  [9, 7, 4, 1],\n",
       "  [9, 7, 5],\n",
       "  [9, 8, 3, 1],\n",
       "  [9, 8, 4],\n",
       "  [9, 9, 3],\n",
       "  [10, 5, 5, 1],\n",
       "  [10, 6, 4, 1],\n",
       "  [10, 6, 5],\n",
       "  [10, 7, 3, 1],\n",
       "  [10, 7, 4],\n",
       "  [10, 8, 3],\n",
       "  [10, 9, 1, 1],\n",
       "  [10, 10, 1],\n",
       "  [11, 5, 4, 1],\n",
       "  [11, 5, 5],\n",
       "  [11, 6, 3, 1],\n",
       "  [11, 6, 4],\n",
       "  [11, 7, 3],\n",
       "  [11, 8, 1, 1],\n",
       "  [11, 9, 1],\n",
       "  [11, 10],\n",
       "  [12, 5, 3, 1],\n",
       "  [12, 5, 4],\n",
       "  [12, 6, 3],\n",
       "  [12, 7, 1, 1],\n",
       "  [12, 8, 1],\n",
       "  [12, 9],\n",
       "  [13, 4, 4],\n",
       "  [13, 5, 3],\n",
       "  [13, 6, 1, 1],\n",
       "  [13, 7, 1],\n",
       "  [13, 8],\n",
       "  [14, 4, 3],\n",
       "  [14, 5, 1, 1],\n",
       "  [14, 6, 1],\n",
       "  [14, 7],\n",
       "  [15, 4, 1, 1],\n",
       "  [15, 5, 1],\n",
       "  [15, 6],\n",
       "  [16, 4, 1],\n",
       "  [16, 5],\n",
       "  [17, 3, 1],\n",
       "  [17, 4],\n",
       "  [18, 3],\n",
       "  [19, 1, 1],\n",
       "  [20, 1],\n",
       "  [21]],\n",
       " [[8, 6, 5, 3],\n",
       "  [8, 7, 4, 3],\n",
       "  [8, 7, 5, 1, 1],\n",
       "  [8, 8, 4, 1, 1],\n",
       "  [8, 8, 5, 1],\n",
       "  [9, 6, 4, 3],\n",
       "  [9, 6, 5, 1, 1],\n",
       "  [9, 6, 6, 1],\n",
       "  [9, 7, 4, 1, 1],\n",
       "  [9, 7, 5, 1],\n",
       "  [9, 7, 6],\n",
       "  [9, 8, 4, 1],\n",
       "  [9, 8, 5],\n",
       "  [9, 9, 3, 1],\n",
       "  [9, 9, 4],\n",
       "  [10, 5, 5, 1, 1],\n",
       "  [10, 6, 4, 1, 1],\n",
       "  [10, 6, 5, 1],\n",
       "  [10, 6, 6],\n",
       "  [10, 7, 4, 1],\n",
       "  [10, 7, 5],\n",
       "  [10, 8, 3, 1],\n",
       "  [10, 8, 4],\n",
       "  [10, 9, 3],\n",
       "  [10, 10, 1, 1],\n",
       "  [11, 5, 5, 1],\n",
       "  [11, 6, 4, 1],\n",
       "  [11, 6, 5],\n",
       "  [11, 7, 3, 1],\n",
       "  [11, 7, 4],\n",
       "  [11, 8, 3],\n",
       "  [11, 9, 1, 1],\n",
       "  [11, 10, 1],\n",
       "  [11, 11],\n",
       "  [12, 5, 4, 1],\n",
       "  [12, 5, 5],\n",
       "  [12, 6, 3, 1],\n",
       "  [12, 6, 4],\n",
       "  [12, 7, 3],\n",
       "  [12, 8, 1, 1],\n",
       "  [12, 9, 1],\n",
       "  [12, 10],\n",
       "  [13, 5, 3, 1],\n",
       "  [13, 5, 4],\n",
       "  [13, 6, 3],\n",
       "  [13, 7, 1, 1],\n",
       "  [13, 8, 1],\n",
       "  [13, 9],\n",
       "  [14, 4, 4],\n",
       "  [14, 5, 3],\n",
       "  [14, 6, 1, 1],\n",
       "  [14, 7, 1],\n",
       "  [14, 8],\n",
       "  [15, 4, 3],\n",
       "  [15, 5, 1, 1],\n",
       "  [15, 6, 1],\n",
       "  [15, 7],\n",
       "  [16, 4, 1, 1],\n",
       "  [16, 5, 1],\n",
       "  [16, 6],\n",
       "  [17, 4, 1],\n",
       "  [17, 5],\n",
       "  [18, 3, 1],\n",
       "  [18, 4],\n",
       "  [19, 3],\n",
       "  [20, 1, 1],\n",
       "  [21, 1],\n",
       "  [22]],\n",
       " [[8, 7, 5, 3],\n",
       "  [8, 8, 4, 3],\n",
       "  [8, 8, 5, 1, 1],\n",
       "  [9, 6, 5, 3],\n",
       "  [9, 6, 6, 1, 1],\n",
       "  [9, 7, 4, 3],\n",
       "  [9, 7, 5, 1, 1],\n",
       "  [9, 7, 6, 1],\n",
       "  [9, 8, 4, 1, 1],\n",
       "  [9, 8, 5, 1],\n",
       "  [9, 8, 6],\n",
       "  [9, 9, 4, 1],\n",
       "  [9, 9, 5],\n",
       "  [10, 6, 4, 3],\n",
       "  [10, 6, 5, 1, 1],\n",
       "  [10, 6, 6, 1],\n",
       "  [10, 7, 4, 1, 1],\n",
       "  [10, 7, 5, 1],\n",
       "  [10, 7, 6],\n",
       "  [10, 8, 4, 1],\n",
       "  [10, 8, 5],\n",
       "  [10, 9, 3, 1],\n",
       "  [10, 9, 4],\n",
       "  [10, 10, 3],\n",
       "  [11, 5, 5, 1, 1],\n",
       "  [11, 6, 4, 1, 1],\n",
       "  [11, 6, 5, 1],\n",
       "  [11, 6, 6],\n",
       "  [11, 7, 4, 1],\n",
       "  [11, 7, 5],\n",
       "  [11, 8, 3, 1],\n",
       "  [11, 8, 4],\n",
       "  [11, 9, 3],\n",
       "  [11, 10, 1, 1],\n",
       "  [11, 11, 1],\n",
       "  [12, 5, 5, 1],\n",
       "  [12, 6, 4, 1],\n",
       "  [12, 6, 5],\n",
       "  [12, 7, 3, 1],\n",
       "  [12, 7, 4],\n",
       "  [12, 8, 3],\n",
       "  [12, 9, 1, 1],\n",
       "  [12, 10, 1],\n",
       "  [12, 11],\n",
       "  [13, 5, 4, 1],\n",
       "  [13, 5, 5],\n",
       "  [13, 6, 3, 1],\n",
       "  [13, 6, 4],\n",
       "  [13, 7, 3],\n",
       "  [13, 8, 1, 1],\n",
       "  [13, 9, 1],\n",
       "  [13, 10],\n",
       "  [14, 5, 3, 1],\n",
       "  [14, 5, 4],\n",
       "  [14, 6, 3],\n",
       "  [14, 7, 1, 1],\n",
       "  [14, 8, 1],\n",
       "  [14, 9],\n",
       "  [15, 4, 4],\n",
       "  [15, 5, 3],\n",
       "  [15, 6, 1, 1],\n",
       "  [15, 7, 1],\n",
       "  [15, 8],\n",
       "  [16, 4, 3],\n",
       "  [16, 5, 1, 1],\n",
       "  [16, 6, 1],\n",
       "  [16, 7],\n",
       "  [17, 4, 1, 1],\n",
       "  [17, 5, 1],\n",
       "  [17, 6],\n",
       "  [18, 4, 1],\n",
       "  [18, 5],\n",
       "  [19, 3, 1],\n",
       "  [19, 4],\n",
       "  [20, 3],\n",
       "  [21, 1, 1],\n",
       "  [22, 1],\n",
       "  [23]],\n",
       " [[8, 7, 5, 3, 1],\n",
       "  [8, 8, 4, 4],\n",
       "  [8, 8, 5, 3],\n",
       "  [9, 6, 6, 3],\n",
       "  [9, 7, 4, 4],\n",
       "  [9, 7, 5, 3],\n",
       "  [9, 7, 6, 1, 1],\n",
       "  [9, 8, 4, 3],\n",
       "  [9, 8, 5, 1, 1],\n",
       "  [9, 8, 6, 1],\n",
       "  [9, 9, 4, 1, 1],\n",
       "  [9, 9, 5, 1],\n",
       "  [9, 9, 6],\n",
       "  [10, 6, 5, 3],\n",
       "  [10, 6, 6, 1, 1],\n",
       "  [10, 7, 4, 3],\n",
       "  [10, 7, 5, 1, 1],\n",
       "  [10, 7, 6, 1],\n",
       "  [10, 7, 7],\n",
       "  [10, 8, 4, 1, 1],\n",
       "  [10, 8, 5, 1],\n",
       "  [10, 8, 6],\n",
       "  [10, 9, 4, 1],\n",
       "  [10, 9, 5],\n",
       "  [10, 10, 3, 1],\n",
       "  [10, 10, 4],\n",
       "  [11, 6, 4, 3],\n",
       "  [11, 6, 5, 1, 1],\n",
       "  [11, 6, 6, 1],\n",
       "  [11, 7, 4, 1, 1],\n",
       "  [11, 7, 5, 1],\n",
       "  [11, 7, 6],\n",
       "  [11, 8, 4, 1],\n",
       "  [11, 8, 5],\n",
       "  [11, 9, 3, 1],\n",
       "  [11, 9, 4],\n",
       "  [11, 10, 3],\n",
       "  [11, 11, 1, 1],\n",
       "  [12, 5, 5, 1, 1],\n",
       "  [12, 6, 4, 1, 1],\n",
       "  [12, 6, 5, 1],\n",
       "  [12, 6, 6],\n",
       "  [12, 7, 4, 1],\n",
       "  [12, 7, 5],\n",
       "  [12, 8, 3, 1],\n",
       "  [12, 8, 4],\n",
       "  [12, 9, 3],\n",
       "  [12, 10, 1, 1],\n",
       "  [12, 11, 1],\n",
       "  [12, 12],\n",
       "  [13, 5, 5, 1],\n",
       "  [13, 6, 4, 1],\n",
       "  [13, 6, 5],\n",
       "  [13, 7, 3, 1],\n",
       "  [13, 7, 4],\n",
       "  [13, 8, 3],\n",
       "  [13, 9, 1, 1],\n",
       "  [13, 10, 1],\n",
       "  [13, 11],\n",
       "  [14, 5, 4, 1],\n",
       "  [14, 5, 5],\n",
       "  [14, 6, 3, 1],\n",
       "  [14, 6, 4],\n",
       "  [14, 7, 3],\n",
       "  [14, 8, 1, 1],\n",
       "  [14, 9, 1],\n",
       "  [14, 10],\n",
       "  [15, 5, 3, 1],\n",
       "  [15, 5, 4],\n",
       "  [15, 6, 3],\n",
       "  [15, 7, 1, 1],\n",
       "  [15, 8, 1],\n",
       "  [15, 9],\n",
       "  [16, 4, 4],\n",
       "  [16, 5, 3],\n",
       "  [16, 6, 1, 1],\n",
       "  [16, 7, 1],\n",
       "  [16, 8],\n",
       "  [17, 4, 3],\n",
       "  [17, 5, 1, 1],\n",
       "  [17, 6, 1],\n",
       "  [17, 7],\n",
       "  [18, 4, 1, 1],\n",
       "  [18, 5, 1],\n",
       "  [18, 6],\n",
       "  [19, 4, 1],\n",
       "  [19, 5],\n",
       "  [20, 3, 1],\n",
       "  [20, 4],\n",
       "  [21, 3],\n",
       "  [22, 1, 1],\n",
       "  [23, 1],\n",
       "  [24]],\n",
       " [[8, 8, 5, 3, 1],\n",
       "  [9, 6, 6, 3, 1],\n",
       "  [9, 7, 5, 3, 1],\n",
       "  [9, 7, 5, 4],\n",
       "  [9, 7, 6, 3],\n",
       "  [9, 8, 4, 4],\n",
       "  [9, 8, 5, 3],\n",
       "  [9, 8, 6, 1, 1],\n",
       "  [9, 9, 4, 3],\n",
       "  [9, 9, 5, 1, 1],\n",
       "  [9, 9, 6, 1],\n",
       "  [10, 6, 6, 3],\n",
       "  [10, 7, 4, 4],\n",
       "  [10, 7, 5, 3],\n",
       "  [10, 7, 6, 1, 1],\n",
       "  [10, 7, 7, 1],\n",
       "  [10, 8, 4, 3],\n",
       "  [10, 8, 5, 1, 1],\n",
       "  [10, 8, 6, 1],\n",
       "  [10, 8, 7],\n",
       "  [10, 9, 4, 1, 1],\n",
       "  [10, 9, 5, 1],\n",
       "  [10, 9, 6],\n",
       "  [10, 10, 4, 1],\n",
       "  [10, 10, 5],\n",
       "  [11, 6, 5, 3],\n",
       "  [11, 6, 6, 1, 1],\n",
       "  [11, 7, 4, 3],\n",
       "  [11, 7, 5, 1, 1],\n",
       "  [11, 7, 6, 1],\n",
       "  [11, 7, 7],\n",
       "  [11, 8, 4, 1, 1],\n",
       "  [11, 8, 5, 1],\n",
       "  [11, 8, 6],\n",
       "  [11, 9, 4, 1],\n",
       "  [11, 9, 5],\n",
       "  [11, 10, 3, 1],\n",
       "  [11, 10, 4],\n",
       "  [11, 11, 3],\n",
       "  [12, 6, 4, 3],\n",
       "  [12, 6, 5, 1, 1],\n",
       "  [12, 6, 6, 1],\n",
       "  [12, 7, 4, 1, 1],\n",
       "  [12, 7, 5, 1],\n",
       "  [12, 7, 6],\n",
       "  [12, 8, 4, 1],\n",
       "  [12, 8, 5],\n",
       "  [12, 9, 3, 1],\n",
       "  [12, 9, 4],\n",
       "  [12, 10, 3],\n",
       "  [12, 11, 1, 1],\n",
       "  [12, 12, 1],\n",
       "  [13, 5, 5, 1, 1],\n",
       "  [13, 6, 4, 1, 1],\n",
       "  [13, 6, 5, 1],\n",
       "  [13, 6, 6],\n",
       "  [13, 7, 4, 1],\n",
       "  [13, 7, 5],\n",
       "  [13, 8, 3, 1],\n",
       "  [13, 8, 4],\n",
       "  [13, 9, 3],\n",
       "  [13, 10, 1, 1],\n",
       "  [13, 11, 1],\n",
       "  [13, 12],\n",
       "  [14, 5, 5, 1],\n",
       "  [14, 6, 4, 1],\n",
       "  [14, 6, 5],\n",
       "  [14, 7, 3, 1],\n",
       "  [14, 7, 4],\n",
       "  [14, 8, 3],\n",
       "  [14, 9, 1, 1],\n",
       "  [14, 10, 1],\n",
       "  [14, 11],\n",
       "  [15, 5, 4, 1],\n",
       "  [15, 5, 5],\n",
       "  [15, 6, 3, 1],\n",
       "  [15, 6, 4],\n",
       "  [15, 7, 3],\n",
       "  [15, 8, 1, 1],\n",
       "  [15, 9, 1],\n",
       "  [15, 10],\n",
       "  [16, 5, 3, 1],\n",
       "  [16, 5, 4],\n",
       "  [16, 6, 3],\n",
       "  [16, 7, 1, 1],\n",
       "  [16, 8, 1],\n",
       "  [16, 9],\n",
       "  [17, 4, 4],\n",
       "  [17, 5, 3],\n",
       "  [17, 6, 1, 1],\n",
       "  [17, 7, 1],\n",
       "  [17, 8],\n",
       "  [18, 4, 3],\n",
       "  [18, 5, 1, 1],\n",
       "  [18, 6, 1],\n",
       "  [18, 7],\n",
       "  [19, 4, 1, 1],\n",
       "  [19, 5, 1],\n",
       "  [19, 6],\n",
       "  [20, 4, 1],\n",
       "  [20, 5],\n",
       "  [21, 3, 1],\n",
       "  [21, 4],\n",
       "  [22, 3],\n",
       "  [23, 1, 1],\n",
       "  [24, 1],\n",
       "  [25]],\n",
       " [[9, 7, 5, 4, 1],\n",
       "  [9, 7, 6, 3, 1],\n",
       "  [9, 7, 6, 4],\n",
       "  [9, 8, 5, 3, 1],\n",
       "  [9, 8, 5, 4],\n",
       "  [9, 8, 6, 3],\n",
       "  [9, 9, 4, 4],\n",
       "  [9, 9, 5, 3],\n",
       "  [9, 9, 6, 1, 1],\n",
       "  [10, 6, 6, 3, 1],\n",
       "  [10, 7, 5, 3, 1],\n",
       "  [10, 7, 5, 4],\n",
       "  [10, 7, 6, 3],\n",
       "  [10, 7, 7, 1, 1],\n",
       "  [10, 8, 4, 4],\n",
       "  [10, 8, 5, 3],\n",
       "  [10, 8, 6, 1, 1],\n",
       "  [10, 8, 7, 1],\n",
       "  [10, 9, 4, 3],\n",
       "  [10, 9, 5, 1, 1],\n",
       "  [10, 9, 6, 1],\n",
       "  [10, 9, 7],\n",
       "  [10, 10, 4, 1, 1],\n",
       "  [10, 10, 5, 1],\n",
       "  [10, 10, 6],\n",
       "  [11, 6, 6, 3],\n",
       "  [11, 7, 4, 4],\n",
       "  [11, 7, 5, 3],\n",
       "  [11, 7, 6, 1, 1],\n",
       "  [11, 7, 7, 1],\n",
       "  [11, 8, 4, 3],\n",
       "  [11, 8, 5, 1, 1],\n",
       "  [11, 8, 6, 1],\n",
       "  [11, 8, 7],\n",
       "  [11, 9, 4, 1, 1],\n",
       "  [11, 9, 5, 1],\n",
       "  [11, 9, 6],\n",
       "  [11, 10, 4, 1],\n",
       "  [11, 10, 5],\n",
       "  [11, 11, 3, 1],\n",
       "  [11, 11, 4],\n",
       "  [12, 6, 5, 3],\n",
       "  [12, 6, 6, 1, 1],\n",
       "  [12, 7, 4, 3],\n",
       "  [12, 7, 5, 1, 1],\n",
       "  [12, 7, 6, 1],\n",
       "  [12, 7, 7],\n",
       "  [12, 8, 4, 1, 1],\n",
       "  [12, 8, 5, 1],\n",
       "  [12, 8, 6],\n",
       "  [12, 9, 4, 1],\n",
       "  [12, 9, 5],\n",
       "  [12, 10, 3, 1],\n",
       "  [12, 10, 4],\n",
       "  [12, 11, 3],\n",
       "  [12, 12, 1, 1],\n",
       "  [13, 6, 4, 3],\n",
       "  [13, 6, 5, 1, 1],\n",
       "  [13, 6, 6, 1],\n",
       "  [13, 7, 4, 1, 1],\n",
       "  [13, 7, 5, 1],\n",
       "  [13, 7, 6],\n",
       "  [13, 8, 4, 1],\n",
       "  [13, 8, 5],\n",
       "  [13, 9, 3, 1],\n",
       "  [13, 9, 4],\n",
       "  [13, 10, 3],\n",
       "  [13, 11, 1, 1],\n",
       "  [13, 12, 1],\n",
       "  [13, 13],\n",
       "  [14, 5, 5, 1, 1],\n",
       "  [14, 6, 4, 1, 1],\n",
       "  [14, 6, 5, 1],\n",
       "  [14, 6, 6],\n",
       "  [14, 7, 4, 1],\n",
       "  [14, 7, 5],\n",
       "  [14, 8, 3, 1],\n",
       "  [14, 8, 4],\n",
       "  [14, 9, 3],\n",
       "  [14, 10, 1, 1],\n",
       "  [14, 11, 1],\n",
       "  [14, 12],\n",
       "  [15, 5, 5, 1],\n",
       "  [15, 6, 4, 1],\n",
       "  [15, 6, 5],\n",
       "  [15, 7, 3, 1],\n",
       "  [15, 7, 4],\n",
       "  [15, 8, 3],\n",
       "  [15, 9, 1, 1],\n",
       "  [15, 10, 1],\n",
       "  [15, 11],\n",
       "  [16, 5, 4, 1],\n",
       "  [16, 5, 5],\n",
       "  [16, 6, 3, 1],\n",
       "  [16, 6, 4],\n",
       "  [16, 7, 3],\n",
       "  [16, 8, 1, 1],\n",
       "  [16, 9, 1],\n",
       "  [16, 10],\n",
       "  [17, 5, 3, 1],\n",
       "  [17, 5, 4],\n",
       "  [17, 6, 3],\n",
       "  [17, 7, 1, 1],\n",
       "  [17, 8, 1],\n",
       "  [17, 9],\n",
       "  [18, 4, 4],\n",
       "  [18, 5, 3],\n",
       "  [18, 6, 1, 1],\n",
       "  [18, 7, 1],\n",
       "  [18, 8],\n",
       "  [19, 4, 3],\n",
       "  [19, 5, 1, 1],\n",
       "  [19, 6, 1],\n",
       "  [19, 7],\n",
       "  [20, 4, 1, 1],\n",
       "  [20, 5, 1],\n",
       "  [20, 6],\n",
       "  [21, 4, 1],\n",
       "  [21, 5],\n",
       "  [22, 3, 1],\n",
       "  [22, 4],\n",
       "  [23, 3],\n",
       "  [24, 1, 1],\n",
       "  [25, 1],\n",
       "  [26]],\n",
       " [[9, 7, 6, 4, 1],\n",
       "  [9, 8, 5, 4, 1],\n",
       "  [9, 8, 6, 3, 1],\n",
       "  [9, 8, 6, 4],\n",
       "  [9, 9, 5, 3, 1],\n",
       "  [9, 9, 5, 4],\n",
       "  [9, 9, 6, 3],\n",
       "  [10, 7, 5, 4, 1],\n",
       "  [10, 7, 6, 3, 1],\n",
       "  [10, 7, 6, 4],\n",
       "  [10, 7, 7, 3],\n",
       "  [10, 8, 5, 3, 1],\n",
       "  [10, 8, 5, 4],\n",
       "  [10, 8, 6, 3],\n",
       "  [10, 8, 7, 1, 1],\n",
       "  [10, 9, 4, 4],\n",
       "  [10, 9, 5, 3],\n",
       "  [10, 9, 6, 1, 1],\n",
       "  [10, 9, 7, 1],\n",
       "  [10, 10, 4, 3],\n",
       "  [10, 10, 5, 1, 1],\n",
       "  [10, 10, 6, 1],\n",
       "  [10, 10, 7],\n",
       "  [11, 6, 6, 3, 1],\n",
       "  [11, 7, 5, 3, 1],\n",
       "  [11, 7, 5, 4],\n",
       "  [11, 7, 6, 3],\n",
       "  [11, 7, 7, 1, 1],\n",
       "  [11, 8, 4, 4],\n",
       "  [11, 8, 5, 3],\n",
       "  [11, 8, 6, 1, 1],\n",
       "  [11, 8, 7, 1],\n",
       "  [11, 8, 8],\n",
       "  [11, 9, 4, 3],\n",
       "  [11, 9, 5, 1, 1],\n",
       "  [11, 9, 6, 1],\n",
       "  [11, 9, 7],\n",
       "  [11, 10, 4, 1, 1],\n",
       "  [11, 10, 5, 1],\n",
       "  [11, 10, 6],\n",
       "  [11, 11, 4, 1],\n",
       "  [11, 11, 5],\n",
       "  [12, 6, 6, 3],\n",
       "  [12, 7, 4, 4],\n",
       "  [12, 7, 5, 3],\n",
       "  [12, 7, 6, 1, 1],\n",
       "  [12, 7, 7, 1],\n",
       "  [12, 8, 4, 3],\n",
       "  [12, 8, 5, 1, 1],\n",
       "  [12, 8, 6, 1],\n",
       "  [12, 8, 7],\n",
       "  [12, 9, 4, 1, 1],\n",
       "  [12, 9, 5, 1],\n",
       "  [12, 9, 6],\n",
       "  [12, 10, 4, 1],\n",
       "  [12, 10, 5],\n",
       "  [12, 11, 3, 1],\n",
       "  [12, 11, 4],\n",
       "  [12, 12, 3],\n",
       "  [13, 6, 5, 3],\n",
       "  [13, 6, 6, 1, 1],\n",
       "  [13, 7, 4, 3],\n",
       "  [13, 7, 5, 1, 1],\n",
       "  [13, 7, 6, 1],\n",
       "  [13, 7, 7],\n",
       "  [13, 8, 4, 1, 1],\n",
       "  [13, 8, 5, 1],\n",
       "  [13, 8, 6],\n",
       "  [13, 9, 4, 1],\n",
       "  [13, 9, 5],\n",
       "  [13, 10, 3, 1],\n",
       "  [13, 10, 4],\n",
       "  [13, 11, 3],\n",
       "  [13, 12, 1, 1],\n",
       "  [13, 13, 1],\n",
       "  [14, 6, 4, 3],\n",
       "  [14, 6, 5, 1, 1],\n",
       "  [14, 6, 6, 1],\n",
       "  [14, 7, 4, 1, 1],\n",
       "  [14, 7, 5, 1],\n",
       "  [14, 7, 6],\n",
       "  [14, 8, 4, 1],\n",
       "  [14, 8, 5],\n",
       "  [14, 9, 3, 1],\n",
       "  [14, 9, 4],\n",
       "  [14, 10, 3],\n",
       "  [14, 11, 1, 1],\n",
       "  [14, 12, 1],\n",
       "  [14, 13],\n",
       "  [15, 5, 5, 1, 1],\n",
       "  [15, 6, 4, 1, 1],\n",
       "  [15, 6, 5, 1],\n",
       "  [15, 6, 6],\n",
       "  [15, 7, 4, 1],\n",
       "  [15, 7, 5],\n",
       "  [15, 8, 3, 1],\n",
       "  [15, 8, 4],\n",
       "  [15, 9, 3],\n",
       "  [15, 10, 1, 1],\n",
       "  [15, 11, 1],\n",
       "  [15, 12],\n",
       "  [16, 5, 5, 1],\n",
       "  [16, 6, 4, 1],\n",
       "  [16, 6, 5],\n",
       "  [16, 7, 3, 1],\n",
       "  [16, 7, 4],\n",
       "  [16, 8, 3],\n",
       "  [16, 9, 1, 1],\n",
       "  [16, 10, 1],\n",
       "  [16, 11],\n",
       "  [17, 5, 4, 1],\n",
       "  [17, 5, 5],\n",
       "  [17, 6, 3, 1],\n",
       "  [17, 6, 4],\n",
       "  [17, 7, 3],\n",
       "  [17, 8, 1, 1],\n",
       "  [17, 9, 1],\n",
       "  [17, 10],\n",
       "  [18, 5, 3, 1],\n",
       "  [18, 5, 4],\n",
       "  [18, 6, 3],\n",
       "  [18, 7, 1, 1],\n",
       "  [18, 8, 1],\n",
       "  [18, 9],\n",
       "  [19, 4, 4],\n",
       "  [19, 5, 3],\n",
       "  [19, 6, 1, 1],\n",
       "  [19, 7, 1],\n",
       "  [19, 8],\n",
       "  [20, 4, 3],\n",
       "  [20, 5, 1, 1],\n",
       "  [20, 6, 1],\n",
       "  [20, 7],\n",
       "  [21, 4, 1, 1],\n",
       "  [21, 5, 1],\n",
       "  [21, 6],\n",
       "  [22, 4, 1],\n",
       "  [22, 5],\n",
       "  [23, 3, 1],\n",
       "  [23, 4],\n",
       "  [24, 3],\n",
       "  [25, 1, 1],\n",
       "  [26, 1],\n",
       "  [27]],\n",
       " [[9, 7, 6, 4, 1, 1],\n",
       "  [9, 8, 6, 4, 1],\n",
       "  [9, 9, 5, 4, 1],\n",
       "  [9, 9, 5, 5],\n",
       "  [9, 9, 6, 3, 1],\n",
       "  [9, 9, 6, 4],\n",
       "  [10, 7, 6, 4, 1],\n",
       "  [10, 7, 7, 3, 1],\n",
       "  [10, 7, 7, 4],\n",
       "  [10, 8, 5, 4, 1],\n",
       "  [10, 8, 5, 5],\n",
       "  [10, 8, 6, 3, 1],\n",
       "  [10, 8, 6, 4],\n",
       "  [10, 8, 7, 3],\n",
       "  [10, 9, 5, 3, 1],\n",
       "  [10, 9, 5, 4],\n",
       "  [10, 9, 6, 3],\n",
       "  [10, 9, 7, 1, 1],\n",
       "  [10, 10, 4, 4],\n",
       "  [10, 10, 5, 3],\n",
       "  [10, 10, 6, 1, 1],\n",
       "  [10, 10, 7, 1],\n",
       "  [11, 7, 5, 4, 1],\n",
       "  [11, 7, 6, 3, 1],\n",
       "  [11, 7, 6, 4],\n",
       "  [11, 7, 7, 3],\n",
       "  [11, 8, 5, 3, 1],\n",
       "  [11, 8, 5, 4],\n",
       "  [11, 8, 6, 3],\n",
       "  [11, 8, 7, 1, 1],\n",
       "  [11, 8, 8, 1],\n",
       "  [11, 9, 4, 4],\n",
       "  [11, 9, 5, 3],\n",
       "  [11, 9, 6, 1, 1],\n",
       "  [11, 9, 7, 1],\n",
       "  [11, 9, 8],\n",
       "  [11, 10, 4, 3],\n",
       "  [11, 10, 5, 1, 1],\n",
       "  [11, 10, 6, 1],\n",
       "  [11, 10, 7],\n",
       "  [11, 11, 4, 1, 1],\n",
       "  [11, 11, 5, 1],\n",
       "  [11, 11, 6],\n",
       "  [12, 6, 6, 3, 1],\n",
       "  [12, 7, 5, 3, 1],\n",
       "  [12, 7, 5, 4],\n",
       "  [12, 7, 6, 3],\n",
       "  [12, 7, 7, 1, 1],\n",
       "  [12, 8, 4, 4],\n",
       "  [12, 8, 5, 3],\n",
       "  [12, 8, 6, 1, 1],\n",
       "  [12, 8, 7, 1],\n",
       "  [12, 8, 8],\n",
       "  [12, 9, 4, 3],\n",
       "  [12, 9, 5, 1, 1],\n",
       "  [12, 9, 6, 1],\n",
       "  [12, 9, 7],\n",
       "  [12, 10, 4, 1, 1],\n",
       "  [12, 10, 5, 1],\n",
       "  [12, 10, 6],\n",
       "  [12, 11, 4, 1],\n",
       "  [12, 11, 5],\n",
       "  [12, 12, 3, 1],\n",
       "  [12, 12, 4],\n",
       "  [13, 6, 6, 3],\n",
       "  [13, 7, 4, 4],\n",
       "  [13, 7, 5, 3],\n",
       "  [13, 7, 6, 1, 1],\n",
       "  [13, 7, 7, 1],\n",
       "  [13, 8, 4, 3],\n",
       "  [13, 8, 5, 1, 1],\n",
       "  [13, 8, 6, 1],\n",
       "  [13, 8, 7],\n",
       "  [13, 9, 4, 1, 1],\n",
       "  [13, 9, 5, 1],\n",
       "  [13, 9, 6],\n",
       "  [13, 10, 4, 1],\n",
       "  [13, 10, 5],\n",
       "  [13, 11, 3, 1],\n",
       "  [13, 11, 4],\n",
       "  [13, 12, 3],\n",
       "  [13, 13, 1, 1],\n",
       "  [14, 6, 5, 3],\n",
       "  [14, 6, 6, 1, 1],\n",
       "  [14, 7, 4, 3],\n",
       "  [14, 7, 5, 1, 1],\n",
       "  [14, 7, 6, 1],\n",
       "  [14, 7, 7],\n",
       "  [14, 8, 4, 1, 1],\n",
       "  [14, 8, 5, 1],\n",
       "  [14, 8, 6],\n",
       "  [14, 9, 4, 1],\n",
       "  [14, 9, 5],\n",
       "  [14, 10, 3, 1],\n",
       "  [14, 10, 4],\n",
       "  [14, 11, 3],\n",
       "  [14, 12, 1, 1],\n",
       "  [14, 13, 1],\n",
       "  [14, 14],\n",
       "  [15, 6, 4, 3],\n",
       "  [15, 6, 5, 1, 1],\n",
       "  [15, 6, 6, 1],\n",
       "  [15, 7, 4, 1, 1],\n",
       "  [15, 7, 5, 1],\n",
       "  [15, 7, 6],\n",
       "  [15, 8, 4, 1],\n",
       "  [15, 8, 5],\n",
       "  [15, 9, 3, 1],\n",
       "  [15, 9, 4],\n",
       "  [15, 10, 3],\n",
       "  [15, 11, 1, 1],\n",
       "  [15, 12, 1],\n",
       "  [15, 13],\n",
       "  [16, 5, 5, 1, 1],\n",
       "  [16, 6, 4, 1, 1],\n",
       "  [16, 6, 5, 1],\n",
       "  [16, 6, 6],\n",
       "  [16, 7, 4, 1],\n",
       "  [16, 7, 5],\n",
       "  [16, 8, 3, 1],\n",
       "  [16, 8, 4],\n",
       "  [16, 9, 3],\n",
       "  [16, 10, 1, 1],\n",
       "  [16, 11, 1],\n",
       "  [16, 12],\n",
       "  [17, 5, 5, 1],\n",
       "  [17, 6, 4, 1],\n",
       "  [17, 6, 5],\n",
       "  [17, 7, 3, 1],\n",
       "  [17, 7, 4],\n",
       "  [17, 8, 3],\n",
       "  [17, 9, 1, 1],\n",
       "  [17, 10, 1],\n",
       "  [17, 11],\n",
       "  [18, 5, 4, 1],\n",
       "  [18, 5, 5],\n",
       "  [18, 6, 3, 1],\n",
       "  [18, 6, 4],\n",
       "  [18, 7, 3],\n",
       "  [18, 8, 1, 1],\n",
       "  [18, 9, 1],\n",
       "  [18, 10],\n",
       "  [19, 5, 3, 1],\n",
       "  [19, 5, 4],\n",
       "  [19, 6, 3],\n",
       "  [19, 7, 1, 1],\n",
       "  [19, 8, 1],\n",
       "  [19, 9],\n",
       "  [20, 4, 4],\n",
       "  [20, 5, 3],\n",
       "  [20, 6, 1, 1],\n",
       "  [20, 7, 1],\n",
       "  [20, 8],\n",
       "  [21, 4, 3],\n",
       "  [21, 5, 1, 1],\n",
       "  [21, 6, 1],\n",
       "  [21, 7],\n",
       "  [22, 4, 1, 1],\n",
       "  [22, 5, 1],\n",
       "  [22, 6],\n",
       "  [23, 4, 1],\n",
       "  [23, 5],\n",
       "  [24, 3, 1],\n",
       "  [24, 4],\n",
       "  [25, 3],\n",
       "  [26, 1, 1],\n",
       "  [27, 1],\n",
       "  [28]]]"
      ]
     },
     "execution_count": 41,
     "metadata": {},
     "output_type": "execute_result"
    }
   ],
   "source": [
    "w = [[[]], [[1]], [[1, 1]], [[3]], [[3, 1], [4]], [[4, 1], [5]], [[4, 1, 1], [5, 1], [6]], [[4, 3], [5, 1, 1], [6, 1], [7]], [[4, 4], [5, 3], [6, 1, 1], [7, 1], [8]], [[5, 3, 1], [5, 4], [6, 3], [7, 1, 1], [8, 1], [9]], [[5, 4, 1], [5, 5], [6, 3, 1], [6, 4], [7, 3], [8, 1, 1], [9, 1], [10]], [[5, 5, 1], [6, 4, 1], [6, 5], [7, 3, 1], [7, 4], [8, 3], [9, 1, 1], [10, 1], [11]], [[5, 5, 1, 1], [6, 4, 1, 1], [6, 5, 1], [6, 6], [7, 4, 1], [7, 5], [8, 3, 1], [8, 4], [9, 3], [10, 1, 1], [11, 1], [12]], [[6, 4, 3], [6, 5, 1, 1], [6, 6, 1], [7, 4, 1, 1], [7, 5, 1], [7, 6], [8, 4, 1], [8, 5], [9, 3, 1], [9, 4], [10, 3], [11, 1, 1], [12, 1], [13]], [[6, 5, 3], [6, 6, 1, 1], [7, 4, 3], [7, 5, 1, 1], [7, 6, 1], [7, 7], [8, 4, 1, 1], [8, 5, 1], [8, 6], [9, 4, 1], [9, 5], [10, 3, 1], [10, 4], [11, 3], [12, 1, 1], [13, 1], [14]], [[6, 6, 3], [7, 4, 4], [7, 5, 3], [7, 6, 1, 1], [7, 7, 1], [8, 4, 3], [8, 5, 1, 1], [8, 6, 1], [8, 7], [9, 4, 1, 1], [9, 5, 1], [9, 6], [10, 4, 1], [10, 5], [11, 3, 1], [11, 4], [12, 3], [13, 1, 1], [14, 1], [15]], [[6, 6, 3, 1], [7, 5, 3, 1], [7, 5, 4], [7, 6, 3], [7, 7, 1, 1], [8, 4, 4], [8, 5, 3], [8, 6, 1, 1], [8, 7, 1], [8, 8], [9, 4, 3], [9, 5, 1, 1], [9, 6, 1], [9, 7], [10, 4, 1, 1], [10, 5, 1], [10, 6], [11, 4, 1], [11, 5], [12, 3, 1], [12, 4], [13, 3], [14, 1, 1], [15, 1], [16]], [[7, 5, 4, 1], [7, 6, 3, 1], [7, 6, 4], [7, 7, 3], [8, 5, 3, 1], [8, 5, 4], [8, 6, 3], [8, 7, 1, 1], [8, 8, 1], [9, 4, 4], [9, 5, 3], [9, 6, 1, 1], [9, 7, 1], [9, 8], [10, 4, 3], [10, 5, 1, 1], [10, 6, 1], [10, 7], [11, 4, 1, 1], [11, 5, 1], [11, 6], [12, 4, 1], [12, 5], [13, 3, 1], [13, 4], [14, 3], [15, 1, 1], [16, 1], [17]], [[7, 6, 4, 1], [7, 7, 3, 1], [7, 7, 4], [8, 5, 4, 1], [8, 5, 5], [8, 6, 3, 1], [8, 6, 4], [8, 7, 3], [8, 8, 1, 1], [9, 5, 3, 1], [9, 5, 4], [9, 6, 3], [9, 7, 1, 1], [9, 8, 1], [9, 9], [10, 4, 4], [10, 5, 3], [10, 6, 1, 1], [10, 7, 1], [10, 8], [11, 4, 3], [11, 5, 1, 1], [11, 6, 1], [11, 7], [12, 4, 1, 1], [12, 5, 1], [12, 6], [13, 4, 1], [13, 5], [14, 3, 1], [14, 4], [15, 3], [16, 1, 1], [17, 1], [18]], [[7, 6, 4, 1, 1], [7, 7, 4, 1], [8, 5, 5, 1], [8, 6, 4, 1], [8, 6, 5], [8, 7, 3, 1], [8, 7, 4], [8, 8, 3], [9, 5, 4, 1], [9, 5, 5], [9, 6, 3, 1], [9, 6, 4], [9, 7, 3], [9, 8, 1, 1], [9, 9, 1], [10, 5, 3, 1], [10, 5, 4], [10, 6, 3], [10, 7, 1, 1], [10, 8, 1], [10, 9], [11, 4, 4], [11, 5, 3], [11, 6, 1, 1], [11, 7, 1], [11, 8], [12, 4, 3], [12, 5, 1, 1], [12, 6, 1], [12, 7], [13, 4, 1, 1], [13, 5, 1], [13, 6], [14, 4, 1], [14, 5], [15, 3, 1], [15, 4], [16, 3], [17, 1, 1], [18, 1], [19]], [[7, 7, 4, 1, 1], [8, 5, 5, 1, 1], [8, 6, 4, 1, 1], [8, 6, 5, 1], [8, 7, 4, 1], [8, 7, 5], [8, 8, 3, 1], [8, 8, 4], [9, 5, 5, 1], [9, 6, 4, 1], [9, 6, 5], [9, 7, 3, 1], [9, 7, 4], [9, 8, 3], [9, 9, 1, 1], [10, 5, 4, 1], [10, 5, 5], [10, 6, 3, 1], [10, 6, 4], [10, 7, 3], [10, 8, 1, 1], [10, 9, 1], [10, 10], [11, 5, 3, 1], [11, 5, 4], [11, 6, 3], [11, 7, 1, 1], [11, 8, 1], [11, 9], [12, 4, 4], [12, 5, 3], [12, 6, 1, 1], [12, 7, 1], [12, 8], [13, 4, 3], [13, 5, 1, 1], [13, 6, 1], [13, 7], [14, 4, 1, 1], [14, 5, 1], [14, 6], [15, 4, 1], [15, 5], [16, 3, 1], [16, 4], [17, 3], [18, 1, 1], [19, 1], [20]], [[8, 6, 4, 3], [8, 6, 5, 1, 1], [8, 7, 4, 1, 1], [8, 7, 5, 1], [8, 8, 4, 1], [8, 8, 5], [9, 5, 5, 1, 1], [9, 6, 4, 1, 1], [9, 6, 5, 1], [9, 6, 6], [9, 7, 4, 1], [9, 7, 5], [9, 8, 3, 1], [9, 8, 4], [9, 9, 3], [10, 5, 5, 1], [10, 6, 4, 1], [10, 6, 5], [10, 7, 3, 1], [10, 7, 4], [10, 8, 3], [10, 9, 1, 1], [10, 10, 1], [11, 5, 4, 1], [11, 5, 5], [11, 6, 3, 1], [11, 6, 4], [11, 7, 3], [11, 8, 1, 1], [11, 9, 1], [11, 10], [12, 5, 3, 1], [12, 5, 4], [12, 6, 3], [12, 7, 1, 1], [12, 8, 1], [12, 9], [13, 4, 4], [13, 5, 3], [13, 6, 1, 1], [13, 7, 1], [13, 8], [14, 4, 3], [14, 5, 1, 1], [14, 6, 1], [14, 7], [15, 4, 1, 1], [15, 5, 1], [15, 6], [16, 4, 1], [16, 5], [17, 3, 1], [17, 4], [18, 3], [19, 1, 1], [20, 1], [21]], [[8, 6, 5, 3], [8, 7, 4, 3], [8, 7, 5, 1, 1], [8, 8, 4, 1, 1], [8, 8, 5, 1], [9, 6, 4, 3], [9, 6, 5, 1, 1], [9, 6, 6, 1], [9, 7, 4, 1, 1], [9, 7, 5, 1], [9, 7, 6], [9, 8, 4, 1], [9, 8, 5], [9, 9, 3, 1], [9, 9, 4], [10, 5, 5, 1, 1], [10, 6, 4, 1, 1], [10, 6, 5, 1], [10, 6, 6], [10, 7, 4, 1], [10, 7, 5], [10, 8, 3, 1], [10, 8, 4], [10, 9, 3], [10, 10, 1, 1], [11, 5, 5, 1], [11, 6, 4, 1], [11, 6, 5], [11, 7, 3, 1], [11, 7, 4], [11, 8, 3], [11, 9, 1, 1], [11, 10, 1], [11, 11], [12, 5, 4, 1], [12, 5, 5], [12, 6, 3, 1], [12, 6, 4], [12, 7, 3], [12, 8, 1, 1], [12, 9, 1], [12, 10], [13, 5, 3, 1], [13, 5, 4], [13, 6, 3], [13, 7, 1, 1], [13, 8, 1], [13, 9], [14, 4, 4], [14, 5, 3], [14, 6, 1, 1], [14, 7, 1], [14, 8], [15, 4, 3], [15, 5, 1, 1], [15, 6, 1], [15, 7], [16, 4, 1, 1], [16, 5, 1], [16, 6], [17, 4, 1], [17, 5], [18, 3, 1], [18, 4], [19, 3], [20, 1, 1], [21, 1], [22]], [[8, 7, 5, 3], [8, 8, 4, 3], [8, 8, 5, 1, 1], [9, 6, 5, 3], [9, 6, 6, 1, 1], [9, 7, 4, 3], [9, 7, 5, 1, 1], [9, 7, 6, 1], [9, 8, 4, 1, 1], [9, 8, 5, 1], [9, 8, 6], [9, 9, 4, 1], [9, 9, 5], [10, 6, 4, 3], [10, 6, 5, 1, 1], [10, 6, 6, 1], [10, 7, 4, 1, 1], [10, 7, 5, 1], [10, 7, 6], [10, 8, 4, 1], [10, 8, 5], [10, 9, 3, 1], [10, 9, 4], [10, 10, 3], [11, 5, 5, 1, 1], [11, 6, 4, 1, 1], [11, 6, 5, 1], [11, 6, 6], [11, 7, 4, 1], [11, 7, 5], [11, 8, 3, 1], [11, 8, 4], [11, 9, 3], [11, 10, 1, 1], [11, 11, 1], [12, 5, 5, 1], [12, 6, 4, 1], [12, 6, 5], [12, 7, 3, 1], [12, 7, 4], [12, 8, 3], [12, 9, 1, 1], [12, 10, 1], [12, 11], [13, 5, 4, 1], [13, 5, 5], [13, 6, 3, 1], [13, 6, 4], [13, 7, 3], [13, 8, 1, 1], [13, 9, 1], [13, 10], [14, 5, 3, 1], [14, 5, 4], [14, 6, 3], [14, 7, 1, 1], [14, 8, 1], [14, 9], [15, 4, 4], [15, 5, 3], [15, 6, 1, 1], [15, 7, 1], [15, 8], [16, 4, 3], [16, 5, 1, 1], [16, 6, 1], [16, 7], [17, 4, 1, 1], [17, 5, 1], [17, 6], [18, 4, 1], [18, 5], [19, 3, 1], [19, 4], [20, 3], [21, 1, 1], [22, 1], [23]], [[8, 7, 5, 3, 1], [8, 8, 4, 4], [8, 8, 5, 3], [9, 6, 6, 3], [9, 7, 4, 4], [9, 7, 5, 3], [9, 7, 6, 1, 1], [9, 8, 4, 3], [9, 8, 5, 1, 1], [9, 8, 6, 1], [9, 9, 4, 1, 1], [9, 9, 5, 1], [9, 9, 6], [10, 6, 5, 3], [10, 6, 6, 1, 1], [10, 7, 4, 3], [10, 7, 5, 1, 1], [10, 7, 6, 1], [10, 7, 7], [10, 8, 4, 1, 1], [10, 8, 5, 1], [10, 8, 6], [10, 9, 4, 1], [10, 9, 5], [10, 10, 3, 1], [10, 10, 4], [11, 6, 4, 3], [11, 6, 5, 1, 1], [11, 6, 6, 1], [11, 7, 4, 1, 1], [11, 7, 5, 1], [11, 7, 6], [11, 8, 4, 1], [11, 8, 5], [11, 9, 3, 1], [11, 9, 4], [11, 10, 3], [11, 11, 1, 1], [12, 5, 5, 1, 1], [12, 6, 4, 1, 1], [12, 6, 5, 1], [12, 6, 6], [12, 7, 4, 1], [12, 7, 5], [12, 8, 3, 1], [12, 8, 4], [12, 9, 3], [12, 10, 1, 1], [12, 11, 1], [12, 12], [13, 5, 5, 1], [13, 6, 4, 1], [13, 6, 5], [13, 7, 3, 1], [13, 7, 4], [13, 8, 3], [13, 9, 1, 1], [13, 10, 1], [13, 11], [14, 5, 4, 1], [14, 5, 5], [14, 6, 3, 1], [14, 6, 4], [14, 7, 3], [14, 8, 1, 1], [14, 9, 1], [14, 10], [15, 5, 3, 1], [15, 5, 4], [15, 6, 3], [15, 7, 1, 1], [15, 8, 1], [15, 9], [16, 4, 4], [16, 5, 3], [16, 6, 1, 1], [16, 7, 1], [16, 8], [17, 4, 3], [17, 5, 1, 1], [17, 6, 1], [17, 7], [18, 4, 1, 1], [18, 5, 1], [18, 6], [19, 4, 1], [19, 5], [20, 3, 1], [20, 4], [21, 3], [22, 1, 1], [23, 1], [24]], [[8, 8, 5, 3, 1], [9, 6, 6, 3, 1], [9, 7, 5, 3, 1], [9, 7, 5, 4], [9, 7, 6, 3], [9, 8, 4, 4], [9, 8, 5, 3], [9, 8, 6, 1, 1], [9, 9, 4, 3], [9, 9, 5, 1, 1], [9, 9, 6, 1], [10, 6, 6, 3], [10, 7, 4, 4], [10, 7, 5, 3], [10, 7, 6, 1, 1], [10, 7, 7, 1], [10, 8, 4, 3], [10, 8, 5, 1, 1], [10, 8, 6, 1], [10, 8, 7], [10, 9, 4, 1, 1], [10, 9, 5, 1], [10, 9, 6], [10, 10, 4, 1], [10, 10, 5], [11, 6, 5, 3], [11, 6, 6, 1, 1], [11, 7, 4, 3], [11, 7, 5, 1, 1], [11, 7, 6, 1], [11, 7, 7], [11, 8, 4, 1, 1], [11, 8, 5, 1], [11, 8, 6], [11, 9, 4, 1], [11, 9, 5], [11, 10, 3, 1], [11, 10, 4], [11, 11, 3], [12, 6, 4, 3], [12, 6, 5, 1, 1], [12, 6, 6, 1], [12, 7, 4, 1, 1], [12, 7, 5, 1], [12, 7, 6], [12, 8, 4, 1], [12, 8, 5], [12, 9, 3, 1], [12, 9, 4], [12, 10, 3], [12, 11, 1, 1], [12, 12, 1], [13, 5, 5, 1, 1], [13, 6, 4, 1, 1], [13, 6, 5, 1], [13, 6, 6], [13, 7, 4, 1], [13, 7, 5], [13, 8, 3, 1], [13, 8, 4], [13, 9, 3], [13, 10, 1, 1], [13, 11, 1], [13, 12], [14, 5, 5, 1], [14, 6, 4, 1], [14, 6, 5], [14, 7, 3, 1], [14, 7, 4], [14, 8, 3], [14, 9, 1, 1], [14, 10, 1], [14, 11], [15, 5, 4, 1], [15, 5, 5], [15, 6, 3, 1], [15, 6, 4], [15, 7, 3], [15, 8, 1, 1], [15, 9, 1], [15, 10], [16, 5, 3, 1], [16, 5, 4], [16, 6, 3], [16, 7, 1, 1], [16, 8, 1], [16, 9], [17, 4, 4], [17, 5, 3], [17, 6, 1, 1], [17, 7, 1], [17, 8], [18, 4, 3], [18, 5, 1, 1], [18, 6, 1], [18, 7], [19, 4, 1, 1], [19, 5, 1], [19, 6], [20, 4, 1], [20, 5], [21, 3, 1], [21, 4], [22, 3], [23, 1, 1], [24, 1], [25]], [[9, 7, 5, 4, 1], [9, 7, 6, 3, 1], [9, 7, 6, 4], [9, 8, 5, 3, 1], [9, 8, 5, 4], [9, 8, 6, 3], [9, 9, 4, 4], [9, 9, 5, 3], [9, 9, 6, 1, 1], [10, 6, 6, 3, 1], [10, 7, 5, 3, 1], [10, 7, 5, 4], [10, 7, 6, 3], [10, 7, 7, 1, 1], [10, 8, 4, 4], [10, 8, 5, 3], [10, 8, 6, 1, 1], [10, 8, 7, 1], [10, 9, 4, 3], [10, 9, 5, 1, 1], [10, 9, 6, 1], [10, 9, 7], [10, 10, 4, 1, 1], [10, 10, 5, 1], [10, 10, 6], [11, 6, 6, 3], [11, 7, 4, 4], [11, 7, 5, 3], [11, 7, 6, 1, 1], [11, 7, 7, 1], [11, 8, 4, 3], [11, 8, 5, 1, 1], [11, 8, 6, 1], [11, 8, 7], [11, 9, 4, 1, 1], [11, 9, 5, 1], [11, 9, 6], [11, 10, 4, 1], [11, 10, 5], [11, 11, 3, 1], [11, 11, 4], [12, 6, 5, 3], [12, 6, 6, 1, 1], [12, 7, 4, 3], [12, 7, 5, 1, 1], [12, 7, 6, 1], [12, 7, 7], [12, 8, 4, 1, 1], [12, 8, 5, 1], [12, 8, 6], [12, 9, 4, 1], [12, 9, 5], [12, 10, 3, 1], [12, 10, 4], [12, 11, 3], [12, 12, 1, 1], [13, 6, 4, 3], [13, 6, 5, 1, 1], [13, 6, 6, 1], [13, 7, 4, 1, 1], [13, 7, 5, 1], [13, 7, 6], [13, 8, 4, 1], [13, 8, 5], [13, 9, 3, 1], [13, 9, 4], [13, 10, 3], [13, 11, 1, 1], [13, 12, 1], [13, 13], [14, 5, 5, 1, 1], [14, 6, 4, 1, 1], [14, 6, 5, 1], [14, 6, 6], [14, 7, 4, 1], [14, 7, 5], [14, 8, 3, 1], [14, 8, 4], [14, 9, 3], [14, 10, 1, 1], [14, 11, 1], [14, 12], [15, 5, 5, 1], [15, 6, 4, 1], [15, 6, 5], [15, 7, 3, 1], [15, 7, 4], [15, 8, 3], [15, 9, 1, 1], [15, 10, 1], [15, 11], [16, 5, 4, 1], [16, 5, 5], [16, 6, 3, 1], [16, 6, 4], [16, 7, 3], [16, 8, 1, 1], [16, 9, 1], [16, 10], [17, 5, 3, 1], [17, 5, 4], [17, 6, 3], [17, 7, 1, 1], [17, 8, 1], [17, 9], [18, 4, 4], [18, 5, 3], [18, 6, 1, 1], [18, 7, 1], [18, 8], [19, 4, 3], [19, 5, 1, 1], [19, 6, 1], [19, 7], [20, 4, 1, 1], [20, 5, 1], [20, 6], [21, 4, 1], [21, 5], [22, 3, 1], [22, 4], [23, 3], [24, 1, 1], [25, 1], [26]], [[9, 7, 6, 4, 1], [9, 8, 5, 4, 1], [9, 8, 6, 3, 1], [9, 8, 6, 4], [9, 9, 5, 3, 1], [9, 9, 5, 4], [9, 9, 6, 3], [10, 7, 5, 4, 1], [10, 7, 6, 3, 1], [10, 7, 6, 4], [10, 7, 7, 3], [10, 8, 5, 3, 1], [10, 8, 5, 4], [10, 8, 6, 3], [10, 8, 7, 1, 1], [10, 9, 4, 4], [10, 9, 5, 3], [10, 9, 6, 1, 1], [10, 9, 7, 1], [10, 10, 4, 3], [10, 10, 5, 1, 1], [10, 10, 6, 1], [10, 10, 7], [11, 6, 6, 3, 1], [11, 7, 5, 3, 1], [11, 7, 5, 4], [11, 7, 6, 3], [11, 7, 7, 1, 1], [11, 8, 4, 4], [11, 8, 5, 3], [11, 8, 6, 1, 1], [11, 8, 7, 1], [11, 8, 8], [11, 9, 4, 3], [11, 9, 5, 1, 1], [11, 9, 6, 1], [11, 9, 7], [11, 10, 4, 1, 1], [11, 10, 5, 1], [11, 10, 6], [11, 11, 4, 1], [11, 11, 5], [12, 6, 6, 3], [12, 7, 4, 4], [12, 7, 5, 3], [12, 7, 6, 1, 1], [12, 7, 7, 1], [12, 8, 4, 3], [12, 8, 5, 1, 1], [12, 8, 6, 1], [12, 8, 7], [12, 9, 4, 1, 1], [12, 9, 5, 1], [12, 9, 6], [12, 10, 4, 1], [12, 10, 5], [12, 11, 3, 1], [12, 11, 4], [12, 12, 3], [13, 6, 5, 3], [13, 6, 6, 1, 1], [13, 7, 4, 3], [13, 7, 5, 1, 1], [13, 7, 6, 1], [13, 7, 7], [13, 8, 4, 1, 1], [13, 8, 5, 1], [13, 8, 6], [13, 9, 4, 1], [13, 9, 5], [13, 10, 3, 1], [13, 10, 4], [13, 11, 3], [13, 12, 1, 1], [13, 13, 1], [14, 6, 4, 3], [14, 6, 5, 1, 1], [14, 6, 6, 1], [14, 7, 4, 1, 1], [14, 7, 5, 1], [14, 7, 6], [14, 8, 4, 1], [14, 8, 5], [14, 9, 3, 1], [14, 9, 4], [14, 10, 3], [14, 11, 1, 1], [14, 12, 1], [14, 13], [15, 5, 5, 1, 1], [15, 6, 4, 1, 1], [15, 6, 5, 1], [15, 6, 6], [15, 7, 4, 1], [15, 7, 5], [15, 8, 3, 1], [15, 8, 4], [15, 9, 3], [15, 10, 1, 1], [15, 11, 1], [15, 12], [16, 5, 5, 1], [16, 6, 4, 1], [16, 6, 5], [16, 7, 3, 1], [16, 7, 4], [16, 8, 3], [16, 9, 1, 1], [16, 10, 1], [16, 11], [17, 5, 4, 1], [17, 5, 5], [17, 6, 3, 1], [17, 6, 4], [17, 7, 3], [17, 8, 1, 1], [17, 9, 1], [17, 10], [18, 5, 3, 1], [18, 5, 4], [18, 6, 3], [18, 7, 1, 1], [18, 8, 1], [18, 9], [19, 4, 4], [19, 5, 3], [19, 6, 1, 1], [19, 7, 1], [19, 8], [20, 4, 3], [20, 5, 1, 1], [20, 6, 1], [20, 7], [21, 4, 1, 1], [21, 5, 1], [21, 6], [22, 4, 1], [22, 5], [23, 3, 1], [23, 4], [24, 3], [25, 1, 1], [26, 1], [27]], [[9, 7, 6, 4, 1, 1], [9, 8, 6, 4, 1], [9, 9, 5, 4, 1], [9, 9, 5, 5], [9, 9, 6, 3, 1], [9, 9, 6, 4], [10, 7, 6, 4, 1], [10, 7, 7, 3, 1], [10, 7, 7, 4], [10, 8, 5, 4, 1], [10, 8, 5, 5], [10, 8, 6, 3, 1], [10, 8, 6, 4], [10, 8, 7, 3], [10, 9, 5, 3, 1], [10, 9, 5, 4], [10, 9, 6, 3], [10, 9, 7, 1, 1], [10, 10, 4, 4], [10, 10, 5, 3], [10, 10, 6, 1, 1], [10, 10, 7, 1], [11, 7, 5, 4, 1], [11, 7, 6, 3, 1], [11, 7, 6, 4], [11, 7, 7, 3], [11, 8, 5, 3, 1], [11, 8, 5, 4], [11, 8, 6, 3], [11, 8, 7, 1, 1], [11, 8, 8, 1], [11, 9, 4, 4], [11, 9, 5, 3], [11, 9, 6, 1, 1], [11, 9, 7, 1], [11, 9, 8], [11, 10, 4, 3], [11, 10, 5, 1, 1], [11, 10, 6, 1], [11, 10, 7], [11, 11, 4, 1, 1], [11, 11, 5, 1], [11, 11, 6], [12, 6, 6, 3, 1], [12, 7, 5, 3, 1], [12, 7, 5, 4], [12, 7, 6, 3], [12, 7, 7, 1, 1], [12, 8, 4, 4], [12, 8, 5, 3], [12, 8, 6, 1, 1], [12, 8, 7, 1], [12, 8, 8], [12, 9, 4, 3], [12, 9, 5, 1, 1], [12, 9, 6, 1], [12, 9, 7], [12, 10, 4, 1, 1], [12, 10, 5, 1], [12, 10, 6], [12, 11, 4, 1], [12, 11, 5], [12, 12, 3, 1], [12, 12, 4], [13, 6, 6, 3], [13, 7, 4, 4], [13, 7, 5, 3], [13, 7, 6, 1, 1], [13, 7, 7, 1], [13, 8, 4, 3], [13, 8, 5, 1, 1], [13, 8, 6, 1], [13, 8, 7], [13, 9, 4, 1, 1], [13, 9, 5, 1], [13, 9, 6], [13, 10, 4, 1], [13, 10, 5], [13, 11, 3, 1], [13, 11, 4], [13, 12, 3], [13, 13, 1, 1], [14, 6, 5, 3], [14, 6, 6, 1, 1], [14, 7, 4, 3], [14, 7, 5, 1, 1], [14, 7, 6, 1], [14, 7, 7], [14, 8, 4, 1, 1], [14, 8, 5, 1], [14, 8, 6], [14, 9, 4, 1], [14, 9, 5], [14, 10, 3, 1], [14, 10, 4], [14, 11, 3], [14, 12, 1, 1], [14, 13, 1], [14, 14], [15, 6, 4, 3], [15, 6, 5, 1, 1], [15, 6, 6, 1], [15, 7, 4, 1, 1], [15, 7, 5, 1], [15, 7, 6], [15, 8, 4, 1], [15, 8, 5], [15, 9, 3, 1], [15, 9, 4], [15, 10, 3], [15, 11, 1, 1], [15, 12, 1], [15, 13], [16, 5, 5, 1, 1], [16, 6, 4, 1, 1], [16, 6, 5, 1], [16, 6, 6], [16, 7, 4, 1], [16, 7, 5], [16, 8, 3, 1], [16, 8, 4], [16, 9, 3], [16, 10, 1, 1], [16, 11, 1], [16, 12], [17, 5, 5, 1], [17, 6, 4, 1], [17, 6, 5], [17, 7, 3, 1], [17, 7, 4], [17, 8, 3], [17, 9, 1, 1], [17, 10, 1], [17, 11], [18, 5, 4, 1], [18, 5, 5], [18, 6, 3, 1], [18, 6, 4], [18, 7, 3], [18, 8, 1, 1], [18, 9, 1], [18, 10], [19, 5, 3, 1], [19, 5, 4], [19, 6, 3], [19, 7, 1, 1], [19, 8, 1], [19, 9], [20, 4, 4], [20, 5, 3], [20, 6, 1, 1], [20, 7, 1], [20, 8], [21, 4, 3], [21, 5, 1, 1], [21, 6, 1], [21, 7], [22, 4, 1, 1], [22, 5, 1], [22, 6], [23, 4, 1], [23, 5], [24, 3, 1], [24, 4], [25, 3], [26, 1, 1], [27, 1], [28]]]\n",
    "w"
   ]
  },
  {
   "cell_type": "code",
   "execution_count": 20,
   "id": "fcd09912-b5b5-46f6-a364-5c58e078d1ae",
   "metadata": {
    "collapsed": true,
    "jupyter": {
     "outputs_hidden": true
    },
    "tags": []
   },
   "outputs": [
    {
     "data": {
      "text/plain": [
       "[[7, 7, 4, 1, 1],\n",
       " [8, 5, 5, 1, 1],\n",
       " [8, 6, 4, 1, 1],\n",
       " [8, 6, 5, 1],\n",
       " [8, 7, 4, 1],\n",
       " [8, 7, 5],\n",
       " [8, 8, 3, 1],\n",
       " [8, 8, 4],\n",
       " [9, 5, 5, 1],\n",
       " [9, 6, 4, 1],\n",
       " [9, 6, 5],\n",
       " [9, 7, 3, 1],\n",
       " [9, 7, 4],\n",
       " [9, 8, 3],\n",
       " [9, 9, 1, 1],\n",
       " [10, 5, 4, 1],\n",
       " [10, 5, 5],\n",
       " [10, 6, 3, 1],\n",
       " [10, 6, 4],\n",
       " [10, 7, 3],\n",
       " [10, 8, 1, 1],\n",
       " [10, 9, 1],\n",
       " [10, 10],\n",
       " [11, 5, 3, 1],\n",
       " [11, 5, 4],\n",
       " [11, 6, 3],\n",
       " [11, 7, 1, 1],\n",
       " [11, 8, 1],\n",
       " [11, 9],\n",
       " [12, 4, 4],\n",
       " [12, 5, 3],\n",
       " [12, 6, 1, 1],\n",
       " [12, 7, 1],\n",
       " [12, 8],\n",
       " [13, 4, 3],\n",
       " [13, 5, 1, 1],\n",
       " [13, 6, 1],\n",
       " [13, 7],\n",
       " [14, 4, 1, 1],\n",
       " [14, 5, 1],\n",
       " [14, 6],\n",
       " [15, 4, 1],\n",
       " [15, 5],\n",
       " [16, 3, 1],\n",
       " [16, 4],\n",
       " [17, 3],\n",
       " [18, 1, 1],\n",
       " [19, 1],\n",
       " [20]]"
      ]
     },
     "execution_count": 20,
     "metadata": {},
     "output_type": "execute_result"
    }
   ],
   "source": [
    "w[20]"
   ]
  },
  {
   "cell_type": "code",
   "execution_count": 21,
   "id": "4386859c-348b-4085-925f-c3fd1639e1a2",
   "metadata": {},
   "outputs": [
    {
     "data": {
      "text/plain": [
       "[[5], [4, 1], [3, 2], [3, 1, 1], [2, 2, 1], [2, 1, 1, 1], [1, 1, 1, 1, 1]]"
      ]
     },
     "execution_count": 21,
     "metadata": {},
     "output_type": "execute_result"
    }
   ],
   "source": [
    "list(Partitions(5))"
   ]
  },
  {
   "cell_type": "code",
   "execution_count": 31,
   "id": "f987eb2b-1b77-4ed1-8b60-5edfcf880d04",
   "metadata": {},
   "outputs": [
    {
     "data": {
      "text/plain": [
       "{(6, 2, 0): 25, (9,): 100, (5, 3, 0): -10}"
      ]
     },
     "execution_count": 31,
     "metadata": {},
     "output_type": "execute_result"
    }
   ],
   "source": [
    "several_virasoro([3,3,2,1],{(0,):1})"
   ]
  },
  {
   "cell_type": "code",
   "execution_count": 30,
   "id": "323d6c44-c703-42e6-801e-11374e18df12",
   "metadata": {},
   "outputs": [
    {
     "data": {
      "text/plain": [
       "{(6, 2, 0): 25, (9,): 100, (5, 3, 0): -10}"
      ]
     },
     "execution_count": 30,
     "metadata": {},
     "output_type": "execute_result"
    }
   ],
   "source": [
    "several_virasoro((3,3,2,1),{(0,):1})"
   ]
  },
  {
   "cell_type": "code",
   "execution_count": 34,
   "id": "d0743c00-31c3-4c6c-a02b-33b36124805f",
   "metadata": {},
   "outputs": [
    {
     "name": "stdout",
     "output_type": "stream",
     "text": [
      "[1, [[1]], 1]\n",
      "[2, [[1, 1]], 1]\n",
      "[3, [[1, 1, 1]], 1]\n",
      "[4, [[1, 1, 1, 1], [2, 1, 1]], 2]\n",
      "[5, [[1, 1, 1, 1, 1], [2, 1, 1, 1]], 2]\n",
      "[6, [[1, 1, 1, 1, 1, 1], [2, 1, 1, 1, 1], [2, 2, 1, 1]], 3]\n",
      "[7, [[1, 1, 1, 1, 1, 1, 1], [2, 1, 1, 1, 1, 1], [2, 2, 1, 1, 1], [3, 1, 1, 1, 1]], 4]\n",
      "[8, [[1, 1, 1, 1, 1, 1, 1, 1], [2, 1, 1, 1, 1, 1, 1], [2, 2, 1, 1, 1, 1], [2, 2, 2, 1, 1], [3, 1, 1, 1, 1, 1]], 5]\n",
      "[9, [[1, 1, 1, 1, 1, 1, 1, 1, 1], [2, 1, 1, 1, 1, 1, 1, 1], [2, 2, 1, 1, 1, 1, 1], [2, 2, 2, 1, 1, 1], [3, 1, 1, 1, 1, 1, 1], [3, 2, 1, 1, 1, 1]], 6]\n",
      "[10, [[1, 1, 1, 1, 1, 1, 1, 1, 1, 1], [2, 1, 1, 1, 1, 1, 1, 1, 1], [2, 2, 1, 1, 1, 1, 1, 1], [2, 2, 2, 1, 1, 1, 1], [2, 2, 2, 2, 1, 1], [3, 1, 1, 1, 1, 1, 1, 1], [3, 2, 1, 1, 1, 1, 1], [3, 2, 2, 1, 1, 1]], 8]\n",
      "[11, [[1, 1, 1, 1, 1, 1, 1, 1, 1, 1, 1], [2, 1, 1, 1, 1, 1, 1, 1, 1, 1], [2, 2, 1, 1, 1, 1, 1, 1, 1], [2, 2, 2, 1, 1, 1, 1, 1], [2, 2, 2, 2, 1, 1, 1], [3, 1, 1, 1, 1, 1, 1, 1, 1], [3, 2, 1, 1, 1, 1, 1, 1], [3, 2, 2, 1, 1, 1, 1], [3, 2, 2, 2, 1, 1]], 9]\n",
      "[12, [[1, 1, 1, 1, 1, 1, 1, 1, 1, 1, 1, 1], [2, 1, 1, 1, 1, 1, 1, 1, 1, 1, 1], [2, 2, 1, 1, 1, 1, 1, 1, 1, 1], [2, 2, 2, 1, 1, 1, 1, 1, 1], [2, 2, 2, 2, 1, 1, 1, 1], [2, 2, 2, 2, 2, 1, 1], [3, 1, 1, 1, 1, 1, 1, 1, 1, 1], [3, 2, 1, 1, 1, 1, 1, 1, 1], [3, 2, 2, 1, 1, 1, 1, 1], [3, 2, 2, 2, 1, 1, 1], [3, 3, 1, 1, 1, 1, 1, 1], [3, 3, 2, 1, 1, 1, 1]], 12]\n",
      "[13, [[1, 1, 1, 1, 1, 1, 1, 1, 1, 1, 1, 1, 1], [2, 1, 1, 1, 1, 1, 1, 1, 1, 1, 1, 1], [2, 2, 1, 1, 1, 1, 1, 1, 1, 1, 1], [2, 2, 2, 1, 1, 1, 1, 1, 1, 1], [2, 2, 2, 2, 1, 1, 1, 1, 1], [2, 2, 2, 2, 2, 1, 1, 1], [3, 1, 1, 1, 1, 1, 1, 1, 1, 1, 1], [3, 2, 1, 1, 1, 1, 1, 1, 1, 1], [3, 2, 2, 1, 1, 1, 1, 1, 1], [3, 2, 2, 2, 1, 1, 1, 1], [3, 2, 2, 2, 2, 1, 1], [3, 3, 1, 1, 1, 1, 1, 1, 1], [3, 3, 2, 1, 1, 1, 1, 1], [3, 3, 2, 2, 1, 1, 1]], 14]\n",
      "[14, [[1, 1, 1, 1, 1, 1, 1, 1, 1, 1, 1, 1, 1, 1], [2, 1, 1, 1, 1, 1, 1, 1, 1, 1, 1, 1, 1], [2, 2, 1, 1, 1, 1, 1, 1, 1, 1, 1, 1], [2, 2, 2, 1, 1, 1, 1, 1, 1, 1, 1], [2, 2, 2, 2, 1, 1, 1, 1, 1, 1], [2, 2, 2, 2, 2, 1, 1, 1, 1], [2, 2, 2, 2, 2, 2, 1, 1], [3, 1, 1, 1, 1, 1, 1, 1, 1, 1, 1, 1], [3, 2, 1, 1, 1, 1, 1, 1, 1, 1, 1], [3, 2, 2, 1, 1, 1, 1, 1, 1, 1], [3, 2, 2, 2, 1, 1, 1, 1, 1], [3, 2, 2, 2, 2, 1, 1, 1], [3, 3, 1, 1, 1, 1, 1, 1, 1, 1], [3, 3, 2, 1, 1, 1, 1, 1, 1], [3, 3, 2, 2, 1, 1, 1, 1], [3, 3, 2, 2, 2, 1, 1], [4, 1, 1, 1, 1, 1, 1, 1, 1, 1, 1]], 17]\n",
      "[15, [[1, 1, 1, 1, 1, 1, 1, 1, 1, 1, 1, 1, 1, 1, 1], [2, 1, 1, 1, 1, 1, 1, 1, 1, 1, 1, 1, 1, 1], [2, 2, 1, 1, 1, 1, 1, 1, 1, 1, 1, 1, 1], [2, 2, 2, 1, 1, 1, 1, 1, 1, 1, 1, 1], [2, 2, 2, 2, 1, 1, 1, 1, 1, 1, 1], [2, 2, 2, 2, 2, 1, 1, 1, 1, 1], [2, 2, 2, 2, 2, 2, 1, 1, 1], [3, 1, 1, 1, 1, 1, 1, 1, 1, 1, 1, 1, 1], [3, 2, 1, 1, 1, 1, 1, 1, 1, 1, 1, 1], [3, 2, 2, 1, 1, 1, 1, 1, 1, 1, 1], [3, 2, 2, 2, 1, 1, 1, 1, 1, 1], [3, 2, 2, 2, 2, 1, 1, 1, 1], [3, 2, 2, 2, 2, 2, 1, 1], [3, 3, 1, 1, 1, 1, 1, 1, 1, 1, 1], [3, 3, 2, 1, 1, 1, 1, 1, 1, 1], [3, 3, 2, 2, 1, 1, 1, 1, 1], [3, 3, 2, 2, 2, 1, 1, 1], [3, 3, 3, 1, 1, 1, 1, 1, 1], [3, 3, 3, 2, 1, 1, 1, 1], [4, 1, 1, 1, 1, 1, 1, 1, 1, 1, 1, 1]], 20]\n",
      "[16, [[1, 1, 1, 1, 1, 1, 1, 1, 1, 1, 1, 1, 1, 1, 1, 1], [2, 1, 1, 1, 1, 1, 1, 1, 1, 1, 1, 1, 1, 1, 1], [2, 2, 1, 1, 1, 1, 1, 1, 1, 1, 1, 1, 1, 1], [2, 2, 2, 1, 1, 1, 1, 1, 1, 1, 1, 1, 1], [2, 2, 2, 2, 1, 1, 1, 1, 1, 1, 1, 1], [2, 2, 2, 2, 2, 1, 1, 1, 1, 1, 1], [2, 2, 2, 2, 2, 2, 1, 1, 1, 1], [2, 2, 2, 2, 2, 2, 2, 1, 1], [3, 1, 1, 1, 1, 1, 1, 1, 1, 1, 1, 1, 1, 1], [3, 2, 1, 1, 1, 1, 1, 1, 1, 1, 1, 1, 1], [3, 2, 2, 1, 1, 1, 1, 1, 1, 1, 1, 1], [3, 2, 2, 2, 1, 1, 1, 1, 1, 1, 1], [3, 2, 2, 2, 2, 1, 1, 1, 1, 1], [3, 2, 2, 2, 2, 2, 1, 1, 1], [3, 3, 1, 1, 1, 1, 1, 1, 1, 1, 1, 1], [3, 3, 2, 1, 1, 1, 1, 1, 1, 1, 1], [3, 3, 2, 2, 1, 1, 1, 1, 1, 1], [3, 3, 2, 2, 2, 1, 1, 1, 1], [3, 3, 2, 2, 2, 2, 1, 1], [3, 3, 3, 1, 1, 1, 1, 1, 1, 1], [3, 3, 3, 2, 1, 1, 1, 1, 1], [3, 3, 3, 2, 2, 1, 1, 1], [4, 1, 1, 1, 1, 1, 1, 1, 1, 1, 1, 1, 1], [4, 2, 1, 1, 1, 1, 1, 1, 1, 1, 1, 1], [4, 2, 2, 1, 1, 1, 1, 1, 1, 1, 1]], 25]\n",
      "[17, [[1, 1, 1, 1, 1, 1, 1, 1, 1, 1, 1, 1, 1, 1, 1, 1, 1], [2, 1, 1, 1, 1, 1, 1, 1, 1, 1, 1, 1, 1, 1, 1, 1], [2, 2, 1, 1, 1, 1, 1, 1, 1, 1, 1, 1, 1, 1, 1], [2, 2, 2, 1, 1, 1, 1, 1, 1, 1, 1, 1, 1, 1], [2, 2, 2, 2, 1, 1, 1, 1, 1, 1, 1, 1, 1], [2, 2, 2, 2, 2, 1, 1, 1, 1, 1, 1, 1], [2, 2, 2, 2, 2, 2, 1, 1, 1, 1, 1], [2, 2, 2, 2, 2, 2, 2, 1, 1, 1], [3, 1, 1, 1, 1, 1, 1, 1, 1, 1, 1, 1, 1, 1, 1], [3, 2, 1, 1, 1, 1, 1, 1, 1, 1, 1, 1, 1, 1], [3, 2, 2, 1, 1, 1, 1, 1, 1, 1, 1, 1, 1], [3, 2, 2, 2, 1, 1, 1, 1, 1, 1, 1, 1], [3, 2, 2, 2, 2, 1, 1, 1, 1, 1, 1], [3, 2, 2, 2, 2, 2, 1, 1, 1, 1], [3, 2, 2, 2, 2, 2, 2, 1, 1], [3, 3, 1, 1, 1, 1, 1, 1, 1, 1, 1, 1, 1], [3, 3, 2, 1, 1, 1, 1, 1, 1, 1, 1, 1], [3, 3, 2, 2, 1, 1, 1, 1, 1, 1, 1], [3, 3, 2, 2, 2, 1, 1, 1, 1, 1], [3, 3, 2, 2, 2, 2, 1, 1, 1], [3, 3, 3, 1, 1, 1, 1, 1, 1, 1, 1], [3, 3, 3, 2, 1, 1, 1, 1, 1, 1], [3, 3, 3, 2, 2, 1, 1, 1, 1], [3, 3, 3, 2, 2, 2, 1, 1], [4, 1, 1, 1, 1, 1, 1, 1, 1, 1, 1, 1, 1, 1], [4, 2, 1, 1, 1, 1, 1, 1, 1, 1, 1, 1, 1], [4, 2, 2, 1, 1, 1, 1, 1, 1, 1, 1, 1], [4, 2, 2, 2, 1, 1, 1, 1, 1, 1, 1], [4, 2, 2, 2, 2, 1, 1, 1, 1, 1]], 29]\n",
      "[18, [[1, 1, 1, 1, 1, 1, 1, 1, 1, 1, 1, 1, 1, 1, 1, 1, 1, 1], [2, 1, 1, 1, 1, 1, 1, 1, 1, 1, 1, 1, 1, 1, 1, 1, 1], [2, 2, 1, 1, 1, 1, 1, 1, 1, 1, 1, 1, 1, 1, 1, 1], [2, 2, 2, 1, 1, 1, 1, 1, 1, 1, 1, 1, 1, 1, 1], [2, 2, 2, 2, 1, 1, 1, 1, 1, 1, 1, 1, 1, 1], [2, 2, 2, 2, 2, 1, 1, 1, 1, 1, 1, 1, 1], [2, 2, 2, 2, 2, 2, 1, 1, 1, 1, 1, 1], [2, 2, 2, 2, 2, 2, 2, 1, 1, 1, 1], [2, 2, 2, 2, 2, 2, 2, 2, 1, 1], [3, 1, 1, 1, 1, 1, 1, 1, 1, 1, 1, 1, 1, 1, 1, 1], [3, 2, 1, 1, 1, 1, 1, 1, 1, 1, 1, 1, 1, 1, 1], [3, 2, 2, 1, 1, 1, 1, 1, 1, 1, 1, 1, 1, 1], [3, 2, 2, 2, 1, 1, 1, 1, 1, 1, 1, 1, 1], [3, 2, 2, 2, 2, 1, 1, 1, 1, 1, 1, 1], [3, 2, 2, 2, 2, 2, 1, 1, 1, 1, 1], [3, 2, 2, 2, 2, 2, 2, 1, 1, 1], [3, 3, 1, 1, 1, 1, 1, 1, 1, 1, 1, 1, 1, 1], [3, 3, 2, 1, 1, 1, 1, 1, 1, 1, 1, 1, 1], [3, 3, 2, 2, 1, 1, 1, 1, 1, 1, 1, 1], [3, 3, 2, 2, 2, 1, 1, 1, 1, 1, 1], [3, 3, 2, 2, 2, 2, 1, 1, 1, 1], [3, 3, 2, 2, 2, 2, 2, 1, 1], [3, 3, 3, 1, 1, 1, 1, 1, 1, 1, 1, 1], [3, 3, 3, 2, 1, 1, 1, 1, 1, 1, 1], [3, 3, 3, 2, 2, 1, 1, 1, 1, 1], [3, 3, 3, 2, 2, 2, 1, 1, 1], [3, 3, 3, 3, 1, 1, 1, 1, 1, 1], [3, 3, 3, 3, 2, 1, 1, 1, 1], [4, 1, 1, 1, 1, 1, 1, 1, 1, 1, 1, 1, 1, 1, 1], [4, 2, 1, 1, 1, 1, 1, 1, 1, 1, 1, 1, 1, 1], [4, 2, 2, 1, 1, 1, 1, 1, 1, 1, 1, 1, 1], [4, 2, 2, 2, 1, 1, 1, 1, 1, 1, 1, 1], [4, 2, 2, 2, 2, 1, 1, 1, 1, 1, 1], [4, 2, 2, 2, 2, 2, 1, 1, 1, 1], [4, 2, 2, 2, 2, 2, 2, 1, 1]], 35]\n",
      "[19, [[1, 1, 1, 1, 1, 1, 1, 1, 1, 1, 1, 1, 1, 1, 1, 1, 1, 1, 1], [2, 1, 1, 1, 1, 1, 1, 1, 1, 1, 1, 1, 1, 1, 1, 1, 1, 1], [2, 2, 1, 1, 1, 1, 1, 1, 1, 1, 1, 1, 1, 1, 1, 1, 1], [2, 2, 2, 1, 1, 1, 1, 1, 1, 1, 1, 1, 1, 1, 1, 1], [2, 2, 2, 2, 1, 1, 1, 1, 1, 1, 1, 1, 1, 1, 1], [2, 2, 2, 2, 2, 1, 1, 1, 1, 1, 1, 1, 1, 1], [2, 2, 2, 2, 2, 2, 1, 1, 1, 1, 1, 1, 1], [2, 2, 2, 2, 2, 2, 2, 1, 1, 1, 1, 1], [2, 2, 2, 2, 2, 2, 2, 2, 1, 1, 1], [3, 1, 1, 1, 1, 1, 1, 1, 1, 1, 1, 1, 1, 1, 1, 1, 1], [3, 2, 1, 1, 1, 1, 1, 1, 1, 1, 1, 1, 1, 1, 1, 1], [3, 2, 2, 1, 1, 1, 1, 1, 1, 1, 1, 1, 1, 1, 1], [3, 2, 2, 2, 1, 1, 1, 1, 1, 1, 1, 1, 1, 1], [3, 2, 2, 2, 2, 1, 1, 1, 1, 1, 1, 1, 1], [3, 2, 2, 2, 2, 2, 1, 1, 1, 1, 1, 1], [3, 2, 2, 2, 2, 2, 2, 1, 1, 1, 1], [3, 2, 2, 2, 2, 2, 2, 2, 1, 1], [3, 3, 1, 1, 1, 1, 1, 1, 1, 1, 1, 1, 1, 1, 1], [3, 3, 2, 1, 1, 1, 1, 1, 1, 1, 1, 1, 1, 1], [3, 3, 2, 2, 1, 1, 1, 1, 1, 1, 1, 1, 1], [3, 3, 2, 2, 2, 1, 1, 1, 1, 1, 1, 1], [3, 3, 2, 2, 2, 2, 1, 1, 1, 1, 1], [3, 3, 2, 2, 2, 2, 2, 1, 1, 1], [3, 3, 3, 1, 1, 1, 1, 1, 1, 1, 1, 1, 1], [3, 3, 3, 2, 1, 1, 1, 1, 1, 1, 1, 1], [3, 3, 3, 2, 2, 1, 1, 1, 1, 1, 1], [3, 3, 3, 2, 2, 2, 1, 1, 1, 1], [3, 3, 3, 2, 2, 2, 2, 1, 1], [3, 3, 3, 3, 1, 1, 1, 1, 1, 1, 1], [3, 3, 3, 3, 2, 1, 1, 1, 1, 1], [3, 3, 3, 3, 2, 2, 1, 1, 1], [4, 1, 1, 1, 1, 1, 1, 1, 1, 1, 1, 1, 1, 1, 1, 1], [4, 2, 1, 1, 1, 1, 1, 1, 1, 1, 1, 1, 1, 1, 1], [4, 2, 2, 1, 1, 1, 1, 1, 1, 1, 1, 1, 1, 1], [4, 2, 2, 2, 1, 1, 1, 1, 1, 1, 1, 1, 1], [4, 2, 2, 2, 2, 1, 1, 1, 1, 1, 1, 1], [4, 2, 2, 2, 2, 2, 1, 1, 1, 1, 1], [4, 2, 2, 2, 2, 2, 2, 1, 1, 1], [4, 3, 1, 1, 1, 1, 1, 1, 1, 1, 1, 1, 1, 1], [4, 3, 2, 1, 1, 1, 1, 1, 1, 1, 1, 1, 1], [4, 3, 2, 2, 1, 1, 1, 1, 1, 1, 1, 1]], 41]\n"
     ]
    }
   ],
   "source": [
    "basis1(20)"
   ]
  },
  {
   "cell_type": "code",
   "execution_count": null,
   "id": "228a2608-836f-4565-bbc5-afb094dbc2b1",
   "metadata": {},
   "outputs": [],
   "source": []
  }
 ],
 "metadata": {
  "kernelspec": {
   "display_name": "SageMath 9.5",
   "language": "sage",
   "name": "sagemath"
  },
  "language_info": {
   "codemirror_mode": {
    "name": "ipython",
    "version": 3
   },
   "file_extension": ".py",
   "mimetype": "text/x-python",
   "name": "python",
   "nbconvert_exporter": "python",
   "pygments_lexer": "ipython3",
   "version": "3.10.6"
  }
 },
 "nbformat": 4,
 "nbformat_minor": 5
}
