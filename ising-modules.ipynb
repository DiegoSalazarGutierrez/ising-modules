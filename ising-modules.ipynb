{
 "cells": [
  {
   "cell_type": "code",
   "execution_count": 1,
   "metadata": {
    "tags": []
   },
   "outputs": [],
   "source": [
    "Vir = lie_algebras.VirasoroAlgebra(QQ)\n",
    "M = Vir.verma_module(1/2, 1/2)\n",
    "d = Vir.basis()\n",
    "v = M.highest_weight_vector()\n",
    "m2 = (-4*d[-2] + 3*d[-1]*d[-1])*v\n",
    "m3 = (-12*d[-2]*d[-1] + 4*d[-1]*d[-1]*d[-1] + 3*d[-3])*v\n",
    "\n",
    "def L_partition_vector(partition, vector):\n",
    "    for i in range(len(partition)):\n",
    "        vector = d[-partition[len(partition) - i - 1]]*vector\n",
    "    return vector\n",
    "\n",
    "def my_coefficient(partition, vector):\n",
    "    return vector.monomial_coefficients().get(tuple(-k for k in partition), 0)\n",
    "\n",
    "def number_of_ones(partition):\n",
    "    for i in range(len(partition)):\n",
    "        if partition[len(partition) - i - 1] != 1:\n",
    "            return i\n",
    "    return len(partition)\n",
    "\n",
    "def my_len(partition):\n",
    "    return 2*len(partition) - number_of_ones(partition)\n",
    "\n",
    "def to_polynomial(partition):\n",
    "    polynomial = [0]*(sum(partition) - 1)\n",
    "    for i in range(len(partition) - number_of_ones(partition)):\n",
    "        polynomial[partition[i] - 2] += 1\n",
    "    return polynomial\n",
    "\n",
    "def to_vector(row, n):\n",
    "    list_of_partition = ordered_partitions(n)\n",
    "    return sum(row[i]*L_partition_vector(list_of_partition[i], v) for i in range(len(row)))\n",
    "\n",
    "def my_order(partition):\n",
    "    polynomial = to_polynomial(partition)\n",
    "    polynomial = [-k for k in polynomial]\n",
    "    polynomial.reverse()\n",
    "    return ((my_len(partition), len(partition) - number_of_ones(partition), polynomial))\n",
    "\n",
    "def ordered_partitions(n):\n",
    "    if n <= 0:\n",
    "        return [[]]\n",
    "    list_of_partition = list(Partitions(n))\n",
    "    list_of_partition.sort(key = my_order, reverse = True)\n",
    "    return list_of_partition\n",
    "\n",
    "def matrix_UVir_m2_m3(n):\n",
    "    list_of_partition = ordered_partitions(n)\n",
    "    list_of_partition2 = ordered_partitions(n - 2)\n",
    "    list_of_partition3 = ordered_partitions(n - 3)\n",
    "    matrix_m2 = matrix({\n",
    "        (i, j): my_coefficient(list_of_partition[j], L_partition_vector(list_of_partition2[i], m2))\n",
    "        for j in range(len(list_of_partition))\n",
    "        for i in range(len(list_of_partition2))}, sparse = False)\n",
    "    matrix_m3 = matrix({\n",
    "        (i, j): my_coefficient(list_of_partition[j], L_partition_vector(list_of_partition3[i], m3))\n",
    "        for j in range(len(list_of_partition))\n",
    "        for i in range(len(list_of_partition3))}, sparse = False)\n",
    "    matrix_m2 = matrix_m2.stack(matrix_m3)\n",
    "    matrix_m2 = matrix_m2.rref()\n",
    "    return matrix_m2\n",
    "\n",
    "def mW_partition(partition):\n",
    "    n = sum(partition)\n",
    "    k = ordered_partitions(n).index(partition)\n",
    "    A_n = matrix_UVir_m2_m3(n)\n",
    "    pivots = A_n.pivots()\n",
    "    try:\n",
    "        return to_vector(A_n.row(pivots.index(k)), n)\n",
    "    except ValueError:\n",
    "        return 0\n",
    "\n",
    "def mW_list_of_partition(list_of_partition):\n",
    "    return [mW_partition(partition) for partition in list_of_partition]"
   ]
  },
  {
   "cell_type": "code",
   "execution_count": 2,
   "metadata": {},
   "outputs": [
    {
     "name": "stdout",
     "output_type": "stream",
     "text": [
      "CPU times: user 1min 35s, sys: 12.3 ms, total: 1min 35s\n",
      "Wall time: 1min 35s\n"
     ]
    },
    {
     "data": {
      "text/plain": [
       "[d[-2]*v - 3/4*d[-1]*d[-1]*v,\n",
       " -3*d[-3]*v + d[-1]*d[-1]*d[-1]*v,\n",
       " -3/2*d[-5]*v - d[-4]*d[-1]*v + d[-3]*d[-1]*d[-1]*v,\n",
       " -2*d[-6]*v - 3/2*d[-5]*d[-1]*v + 1/3*d[-4]*d[-1]*d[-1]*v + d[-3]*d[-3]*v,\n",
       " -9/2*d[-8]*v - 9/2*d[-7]*d[-1]*v - d[-6]*d[-1]*d[-1]*v + 3/2*d[-5]*d[-3]*v + d[-4]*d[-4]*v + d[-4]*d[-3]*d[-1]*v,\n",
       " -27/4*d[-9]*v - 63/8*d[-8]*d[-1]*v - 19/8*d[-7]*d[-1]*d[-1]*v + 3/4*d[-6]*d[-3]*v + 21/8*d[-5]*d[-4]*v + 9/8*d[-5]*d[-3]*d[-1]*v + d[-4]*d[-4]*d[-1]*v,\n",
       " -393/16*d[-11]*v - 117/4*d[-10]*d[-1]*v - 189/16*d[-9]*d[-1]*d[-1]*v - 39/8*d[-8]*d[-3]*v + 27/8*d[-7]*d[-4]*v + 9/8*d[-7]*d[-3]*d[-1]*v + 27/4*d[-6]*d[-5]*v + 9/2*d[-6]*d[-4]*d[-1]*v + 21/8*d[-5]*d[-5]*d[-1]*v + d[-5]*d[-4]*d[-1]*d[-1]*v,\n",
       " -4977/20*d[-15]*v - 12207/40*d[-14]*d[-1]*v - 140449/960*d[-13]*d[-1]*d[-1]*v - 19159/160*d[-12]*d[-3]*v - 3973/160*d[-11]*d[-4]*v - 3681/160*d[-11]*d[-3]*d[-1]*v + 567/80*d[-10]*d[-5]*v - 1/12*d[-10]*d[-4]*d[-1]*v + 131/5*d[-9]*d[-6]*v + 369/20*d[-9]*d[-5]*d[-1]*v + 81/20*d[-9]*d[-4]*d[-1]*d[-1]*v + 5807/160*d[-8]*d[-7]*v + 149/5*d[-8]*d[-6]*d[-1]*v + 33/4*d[-8]*d[-5]*d[-1]*d[-1]*v + 13/5*d[-8]*d[-4]*d[-3]*v + 2299/120*d[-7]*d[-7]*d[-1]*v + 231/20*d[-7]*d[-6]*d[-1]*d[-1]*v + 4*d[-7]*d[-5]*d[-3]*v - 17/30*d[-7]*d[-4]*d[-4]*v + 29/10*d[-6]*d[-6]*d[-3]*v + d[-6]*d[-5]*d[-3]*d[-1]*v]"
      ]
     },
     "execution_count": 2,
     "metadata": {},
     "output_type": "execute_result"
    }
   ],
   "source": [
    "list_of_partition = [[2], [1, 1, 1], [3, 1, 1], [3, 3], [4, 3, 1], [4, 4, 1], [5, 4, 1, 1],\n",
    "                     [6, 5, 3, 1]]\n",
    "%time mW_list_of_partition(list_of_partition)"
   ]
  }
 ],
 "metadata": {
  "kernelspec": {
   "display_name": "SageMath 9.5",
   "language": "sage",
   "name": "sagemath"
  },
  "language_info": {
   "codemirror_mode": {
    "name": "ipython",
    "version": 3
   },
   "file_extension": ".py",
   "mimetype": "text/x-python",
   "name": "python",
   "nbconvert_exporter": "python",
   "pygments_lexer": "ipython3",
   "version": "3.10.6"
  },
  "toc-autonumbering": true,
  "toc-showcode": true,
  "toc-showmarkdowntxt": true,
  "vscode": {
   "interpreter": {
    "hash": "2a8dfe095fce2b5e88c64a2c3ee084c8e0e0d70b23e7b95b1cfb538be294c5c8"
   }
  }
 },
 "nbformat": 4,
 "nbformat_minor": 4
}
