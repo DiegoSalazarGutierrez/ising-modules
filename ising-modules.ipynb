{
 "cells": [
  {
   "cell_type": "code",
   "execution_count": 1,
   "metadata": {
    "tags": []
   },
   "outputs": [],
   "source": [
    "Vir = lie_algebras.VirasoroAlgebra(QQ)\n",
    "M = Vir.verma_module(1/2, 1/2)\n",
    "d = Vir.basis()\n",
    "v = M.highest_weight_vector()\n",
    "m2 = (-4*d[-2] + 3*d[-1]*d[-1])*v\n",
    "m3 = (-12*d[-2]*d[-1] + 4*d[-1]*d[-1]*d[-1] + 3*d[-3])*v\n",
    "\n",
    "def L_partition_vector(partition, vector):\n",
    "    for i in range(len(partition)):\n",
    "        vector = d[-partition[len(partition) - i - 1]]*vector\n",
    "    return vector\n",
    "\n",
    "def my_coefficient(partition, vector):\n",
    "    return vector.monomial_coefficients().get(tuple(-k for k in partition), 0)\n",
    "\n",
    "def number_of_ones(partition):\n",
    "    for i in range(len(partition)):\n",
    "        if partition[len(partition) - i - 1] != 1:\n",
    "            return i\n",
    "    return len(partition)\n",
    "\n",
    "def my_len(partition):\n",
    "    return 2*len(partition) - number_of_ones(partition)\n",
    "\n",
    "def to_polynomial(partition):\n",
    "    polynomial = [0]*(sum(partition) - 1)\n",
    "    for i in range(len(partition) - number_of_ones(partition)):\n",
    "        polynomial[partition[i] - 2] += 1\n",
    "    return polynomial\n",
    "\n",
    "def my_order(partition):\n",
    "    polynomial = to_polynomial(partition)\n",
    "    polynomial = [-k for k in polynomial]\n",
    "    polynomial.reverse()\n",
    "    return ((my_len(partition), len(partition) - number_of_ones(partition), polynomial))\n",
    "\n",
    "def ordered_partitions(n):\n",
    "    if n <= 0:\n",
    "        return [[]]\n",
    "    list_of_partition = list(Partitions(n))\n",
    "    list_of_partition.sort(key = my_order, reverse = True)\n",
    "    return list_of_partition\n",
    "\n",
    "def matrix_UVir_m2_m3(n):\n",
    "    list_of_partition = ordered_partitions(n)\n",
    "    list_of_partition2 = ordered_partitions(n - 2)\n",
    "    list_of_partition3 = ordered_partitions(n - 3)\n",
    "    matrix_m2 = matrix({\n",
    "        (i, j): my_coefficient(list_of_partition[j], L_partition_vector(list_of_partition2[i], m2))\n",
    "        for j in range(len(list_of_partition))\n",
    "        for i in range(len(list_of_partition2))}, sparse = False)\n",
    "    matrix_m3 = matrix({\n",
    "        (i, j): my_coefficient(list_of_partition[j], L_partition_vector(list_of_partition3[i], m3))\n",
    "        for j in range(len(list_of_partition))\n",
    "        for i in range(len(list_of_partition3))}, sparse = False)\n",
    "    matrix_m2 = matrix_m2.stack(matrix_m3)\n",
    "    matrix_m2 = matrix_m2.rref()\n",
    "    return matrix_m2\n",
    "\n",
    "def mW_partition(partition):\n",
    "    n = sum(partition)\n",
    "    k = ordered_partitions(n).index(partition)\n",
    "    A_n = matrix_UVir_m2_m3(n)\n",
    "    pivots = A_n.pivots()\n",
    "    try:\n",
    "        return row_to_vector(A_n.row(pivots.index(k)), n)\n",
    "    except ValueError:\n",
    "        return 0\n",
    "\n",
    "def mW_list_of_partition(list_of_partition):\n",
    "    return [mW_partition(partition) for partition in list_of_partition]"
   ]
  },
  {
   "cell_type": "code",
   "execution_count": 2,
   "metadata": {},
   "outputs": [
    {
     "ename": "NameError",
     "evalue": "name 'row_to_vector' is not defined",
     "output_type": "error",
     "traceback": [
      "\u001b[0;31m---------------------------------------------------------------------------\u001b[0m",
      "\u001b[0;31mNameError\u001b[0m                                 Traceback (most recent call last)",
      "\u001b[0;32m/tmp/ipykernel_761/2638966643.py\u001b[0m in \u001b[0;36m<module>\u001b[0;34m\u001b[0m\n\u001b[1;32m      1\u001b[0m list_of_partition = [[Integer(2)], [Integer(1), Integer(1), Integer(1)], [Integer(3), Integer(1), Integer(1)], [Integer(3), Integer(3)], [Integer(4), Integer(3), Integer(1)], [Integer(4), Integer(4), Integer(1)], [Integer(5), Integer(4), Integer(1), Integer(1)],\n\u001b[1;32m      2\u001b[0m                      [Integer(6), Integer(5), Integer(3), Integer(1)]]\n\u001b[0;32m----> 3\u001b[0;31m \u001b[0mmW_list_of_partition\u001b[0m\u001b[0;34m(\u001b[0m\u001b[0mlist_of_partition\u001b[0m\u001b[0;34m)\u001b[0m\u001b[0;34m\u001b[0m\u001b[0;34m\u001b[0m\u001b[0m\n\u001b[0m",
      "\u001b[0;32m/tmp/ipykernel_761/3772756089.py\u001b[0m in \u001b[0;36mmW_list_of_partition\u001b[0;34m(list_of_partition)\u001b[0m\n\u001b[1;32m     69\u001b[0m \u001b[0;34m\u001b[0m\u001b[0m\n\u001b[1;32m     70\u001b[0m \u001b[0;32mdef\u001b[0m \u001b[0mmW_list_of_partition\u001b[0m\u001b[0;34m(\u001b[0m\u001b[0mlist_of_partition\u001b[0m\u001b[0;34m)\u001b[0m\u001b[0;34m:\u001b[0m\u001b[0;34m\u001b[0m\u001b[0;34m\u001b[0m\u001b[0m\n\u001b[0;32m---> 71\u001b[0;31m     \u001b[0;32mreturn\u001b[0m \u001b[0;34m[\u001b[0m\u001b[0mmW_partition\u001b[0m\u001b[0;34m(\u001b[0m\u001b[0mpartition\u001b[0m\u001b[0;34m)\u001b[0m \u001b[0;32mfor\u001b[0m \u001b[0mpartition\u001b[0m \u001b[0;32min\u001b[0m \u001b[0mlist_of_partition\u001b[0m\u001b[0;34m]\u001b[0m\u001b[0;34m\u001b[0m\u001b[0;34m\u001b[0m\u001b[0m\n\u001b[0m",
      "\u001b[0;32m/tmp/ipykernel_761/3772756089.py\u001b[0m in \u001b[0;36m<listcomp>\u001b[0;34m(.0)\u001b[0m\n\u001b[1;32m     69\u001b[0m \u001b[0;34m\u001b[0m\u001b[0m\n\u001b[1;32m     70\u001b[0m \u001b[0;32mdef\u001b[0m \u001b[0mmW_list_of_partition\u001b[0m\u001b[0;34m(\u001b[0m\u001b[0mlist_of_partition\u001b[0m\u001b[0;34m)\u001b[0m\u001b[0;34m:\u001b[0m\u001b[0;34m\u001b[0m\u001b[0;34m\u001b[0m\u001b[0m\n\u001b[0;32m---> 71\u001b[0;31m     \u001b[0;32mreturn\u001b[0m \u001b[0;34m[\u001b[0m\u001b[0mmW_partition\u001b[0m\u001b[0;34m(\u001b[0m\u001b[0mpartition\u001b[0m\u001b[0;34m)\u001b[0m \u001b[0;32mfor\u001b[0m \u001b[0mpartition\u001b[0m \u001b[0;32min\u001b[0m \u001b[0mlist_of_partition\u001b[0m\u001b[0;34m]\u001b[0m\u001b[0;34m\u001b[0m\u001b[0;34m\u001b[0m\u001b[0m\n\u001b[0m",
      "\u001b[0;32m/tmp/ipykernel_761/3772756089.py\u001b[0m in \u001b[0;36mmW_partition\u001b[0;34m(partition)\u001b[0m\n\u001b[1;32m     64\u001b[0m     \u001b[0mpivots\u001b[0m \u001b[0;34m=\u001b[0m \u001b[0mA_n\u001b[0m\u001b[0;34m.\u001b[0m\u001b[0mpivots\u001b[0m\u001b[0;34m(\u001b[0m\u001b[0;34m)\u001b[0m\u001b[0;34m\u001b[0m\u001b[0;34m\u001b[0m\u001b[0m\n\u001b[1;32m     65\u001b[0m     \u001b[0;32mtry\u001b[0m\u001b[0;34m:\u001b[0m\u001b[0;34m\u001b[0m\u001b[0;34m\u001b[0m\u001b[0m\n\u001b[0;32m---> 66\u001b[0;31m         \u001b[0;32mreturn\u001b[0m \u001b[0mrow_to_vector\u001b[0m\u001b[0;34m(\u001b[0m\u001b[0mA_n\u001b[0m\u001b[0;34m.\u001b[0m\u001b[0mrow\u001b[0m\u001b[0;34m(\u001b[0m\u001b[0mpivots\u001b[0m\u001b[0;34m.\u001b[0m\u001b[0mindex\u001b[0m\u001b[0;34m(\u001b[0m\u001b[0mk\u001b[0m\u001b[0;34m)\u001b[0m\u001b[0;34m)\u001b[0m\u001b[0;34m,\u001b[0m \u001b[0mn\u001b[0m\u001b[0;34m)\u001b[0m\u001b[0;34m\u001b[0m\u001b[0;34m\u001b[0m\u001b[0m\n\u001b[0m\u001b[1;32m     67\u001b[0m     \u001b[0;32mexcept\u001b[0m \u001b[0mValueError\u001b[0m\u001b[0;34m:\u001b[0m\u001b[0;34m\u001b[0m\u001b[0;34m\u001b[0m\u001b[0m\n\u001b[1;32m     68\u001b[0m         \u001b[0;32mreturn\u001b[0m \u001b[0mInteger\u001b[0m\u001b[0;34m(\u001b[0m\u001b[0;36m0\u001b[0m\u001b[0;34m)\u001b[0m\u001b[0;34m\u001b[0m\u001b[0;34m\u001b[0m\u001b[0m\n",
      "\u001b[0;31mNameError\u001b[0m: name 'row_to_vector' is not defined"
     ]
    }
   ],
   "source": [
    "list_of_partition = [[2], [1, 1, 1], [3, 1, 1], [3, 3], [4, 3, 1], [4, 4, 1], [5, 4, 1, 1],\n",
    "                     [6, 5, 3, 1]]\n",
    "mW_list_of_partition(list_of_partition)"
   ]
  }
 ],
 "metadata": {
  "kernelspec": {
   "display_name": "SageMath 9.5",
   "language": "sage",
   "name": "sagemath"
  },
  "language_info": {
   "codemirror_mode": {
    "name": "ipython",
    "version": 3
   },
   "file_extension": ".py",
   "mimetype": "text/x-python",
   "name": "python",
   "nbconvert_exporter": "python",
   "pygments_lexer": "ipython3",
   "version": "3.10.6"
  },
  "toc-autonumbering": true,
  "toc-showcode": true,
  "toc-showmarkdowntxt": true,
  "vscode": {
   "interpreter": {
    "hash": "2a8dfe095fce2b5e88c64a2c3ee084c8e0e0d70b23e7b95b1cfb538be294c5c8"
   }
  }
 },
 "nbformat": 4,
 "nbformat_minor": 4
}
